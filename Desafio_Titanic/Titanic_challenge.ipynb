{
  "nbformat": 4,
  "nbformat_minor": 0,
  "metadata": {
    "kernelspec": {
      "display_name": "Python 3",
      "language": "python",
      "name": "python3"
    },
    "language_info": {
      "codemirror_mode": {
        "name": "ipython",
        "version": 3
      },
      "file_extension": ".py",
      "mimetype": "text/x-python",
      "name": "python",
      "nbconvert_exporter": "python",
      "pygments_lexer": "ipython3",
      "version": "3.8.8"
    },
    "colab": {
      "name": "Titanic-challenge.ipynb",
      "provenance": []
    }
  },
  "cells": [
    {
      "cell_type": "markdown",
      "metadata": {
        "id": "BSOvIb_PWvvl"
      },
      "source": [
        "# Explorando o Datset do desafio do Titanic (em Python)"
      ]
    },
    {
      "cell_type": "markdown",
      "metadata": {
        "id": "PfvM6M9KWvvr"
      },
      "source": [
        "## Introdução"
      ]
    },
    {
      "cell_type": "markdown",
      "metadata": {
        "id": "i6OnGrclWvvu"
      },
      "source": [
        "Essa é a minha primeira tentativa de aplicação de ML com a ajuda do meu mentor de Data Science.Como base para este trabalho eu peguei a base de dados clássica do Titanic no Kaggles e realizei a análise em Python como uma maneira de treinar meus conhecimentos na linguagem e na prática de análise de dados. Também peguei diversas referências na internet de pessoas que já haviam feito esse desafio.\n",
        "Meu script foi divido em 3 partes:\n",
        "\n",
        "- Background\n",
        "- Exploração e análise dos dados\n",
        "- Análise e imputação de valores faltantes e outliers \n",
        "- Feature engineering\n",
        "- Construção dos modelos de ML\n",
        "- Prediction"
      ]
    },
    {
      "cell_type": "markdown",
      "metadata": {
        "id": "bS6S4Hk_dAnO"
      },
      "source": [
        "## Background\n",
        "\n",
        "## O desafio"
      ]
    },
    {
      "cell_type": "markdown",
      "metadata": {
        "id": "MDy-xk72dQE4"
      },
      "source": [
        "O Titanic é um dos naufrágios mais famosos da história.\n",
        "Em 1912, durante sua viagem inaugural, o RMS Titanic afundou após colidir com um iceberg. Infelizmente, não havia botes salva-vidas suficientes para todos a bordo, resultando na morte de diversos passageiros e tripulantes.\n",
        "Embora houvesse algum elemento de sorte envolvido na sobrevivência, parece que alguns grupos de pessoas tinham uma maior probabilidade de sobreviver do que outros.\n",
        "Neste desafio, o objetivo é construir um modelo preditivo que responda a que tipo de pessoa tem mais probabilidade de sobreviver, a partir de diversar características dos passageiros (por exemplo, nome, idade, sexo, classe socioeconômica, etc.)."
      ]
    },
    {
      "cell_type": "markdown",
      "metadata": {
        "id": "rTfUr8ouWvvx"
      },
      "source": [
        "### Importando as bibliotecas"
      ]
    },
    {
      "cell_type": "code",
      "metadata": {
        "id": "vq6dP2q7k_3Q"
      },
      "source": [
        "import warnings\n",
        "\n",
        "warnings.filterwarnings('ignore')"
      ],
      "execution_count": 63,
      "outputs": []
    },
    {
      "cell_type": "code",
      "metadata": {
        "id": "go4ZtU4OWvvy"
      },
      "source": [
        "import pandas as pd\n",
        "import numpy as np\n",
        "import seaborn as sns\n",
        "import matplotlib.pyplot as plt\n",
        "from sklearn.preprocessing import LabelEncoder"
      ],
      "execution_count": 64,
      "outputs": []
    },
    {
      "cell_type": "markdown",
      "metadata": {
        "id": "pgYm5IXyWvv0"
      },
      "source": [
        "### Carregando os dados"
      ]
    },
    {
      "cell_type": "code",
      "metadata": {
        "id": "D87iZ1zqWvv1"
      },
      "source": [
        "titanic_treinamento = pd.read_csv('/content/drive/MyDrive/train.csv')\n",
        "titanic_teste = pd.read_csv('/content/drive/MyDrive/test.csv')"
      ],
      "execution_count": 65,
      "outputs": []
    },
    {
      "cell_type": "markdown",
      "metadata": {
        "id": "dL7G-9VIflpa"
      },
      "source": [
        "### Sumário dos dados:\n",
        "- passengerid = ID do passageiro do navio (chave primária)\n",
        "- survived = Se sobreviveu ao naufrágio(1) ou não(0)\n",
        "- pclass = Classe socieconômica do passageiro (1, 2 ou 3)\n",
        "- name = Nome do passageiro\n",
        "- sex = Gênero do passageiro, sendo masculino ou feminino.\n",
        "- age = Idade do passageiro\n",
        "- sibsp = Número de irmãos a bordo.\n",
        "- parch = Número de parentes a bordo.\n",
        "- ticket = Código do ticket.\n",
        "- fare = Valor da passagem.\n",
        "- cabin = Código de identificação da Cabine.\n",
        "- embarked = Local onde o passageiro embarcou no navio (S=Southampton, C=Cherbourg, Q=Queenstown."
      ]
    },
    {
      "cell_type": "markdown",
      "metadata": {
        "id": "X6M4WTSRWvv3"
      },
      "source": [
        "Reorganizando as colunas para o meu 'target' ficar na ponta (apenas uma questão de organização pessoal)"
      ]
    },
    {
      "cell_type": "code",
      "metadata": {
        "id": "yWkQ12hmWvv4"
      },
      "source": [
        "titanic_treinamento = titanic_treinamento.reindex(columns = ['PassengerId', 'Pclass', 'Name', 'Sex', 'Age', 'SibSp', 'Parch', 'Ticket', 'Fare', 'Cabin', 'Embarked', 'Survived'])\n",
        "titanic_teste = titanic_teste.reindex(columns = ['PassengerId', 'Pclass', 'Name', 'Sex', 'Age', 'SibSp', 'Parch', 'Ticket', 'Fare', 'Cabin', 'Embarked'])"
      ],
      "execution_count": 66,
      "outputs": []
    },
    {
      "cell_type": "markdown",
      "metadata": {
        "id": "ogXExdIgWvv6"
      },
      "source": [
        "## Exploração e análise dos dados"
      ]
    },
    {
      "cell_type": "markdown",
      "metadata": {
        "id": "jHB3R7qGWvv6"
      },
      "source": [
        "Visualizando a aparência da base de dados"
      ]
    },
    {
      "cell_type": "markdown",
      "metadata": {
        "id": "VVQjciMnjYuq"
      },
      "source": [
        "Visual das primeiras linhas."
      ]
    },
    {
      "cell_type": "code",
      "metadata": {
        "colab": {
          "base_uri": "https://localhost:8080/",
          "height": 206
        },
        "id": "XMn04xqrWvv7",
        "outputId": "0e1cf956-ac31-407e-e8ff-28006fdc005f"
      },
      "source": [
        "titanic_treinamento.head()"
      ],
      "execution_count": 67,
      "outputs": [
        {
          "output_type": "execute_result",
          "data": {
            "text/html": [
              "<div>\n",
              "<style scoped>\n",
              "    .dataframe tbody tr th:only-of-type {\n",
              "        vertical-align: middle;\n",
              "    }\n",
              "\n",
              "    .dataframe tbody tr th {\n",
              "        vertical-align: top;\n",
              "    }\n",
              "\n",
              "    .dataframe thead th {\n",
              "        text-align: right;\n",
              "    }\n",
              "</style>\n",
              "<table border=\"1\" class=\"dataframe\">\n",
              "  <thead>\n",
              "    <tr style=\"text-align: right;\">\n",
              "      <th></th>\n",
              "      <th>PassengerId</th>\n",
              "      <th>Pclass</th>\n",
              "      <th>Name</th>\n",
              "      <th>Sex</th>\n",
              "      <th>Age</th>\n",
              "      <th>SibSp</th>\n",
              "      <th>Parch</th>\n",
              "      <th>Ticket</th>\n",
              "      <th>Fare</th>\n",
              "      <th>Cabin</th>\n",
              "      <th>Embarked</th>\n",
              "      <th>Survived</th>\n",
              "    </tr>\n",
              "  </thead>\n",
              "  <tbody>\n",
              "    <tr>\n",
              "      <th>0</th>\n",
              "      <td>1</td>\n",
              "      <td>3</td>\n",
              "      <td>Braund, Mr. Owen Harris</td>\n",
              "      <td>male</td>\n",
              "      <td>22.0</td>\n",
              "      <td>1</td>\n",
              "      <td>0</td>\n",
              "      <td>A/5 21171</td>\n",
              "      <td>7.2500</td>\n",
              "      <td>NaN</td>\n",
              "      <td>S</td>\n",
              "      <td>0</td>\n",
              "    </tr>\n",
              "    <tr>\n",
              "      <th>1</th>\n",
              "      <td>2</td>\n",
              "      <td>1</td>\n",
              "      <td>Cumings, Mrs. John Bradley (Florence Briggs Th...</td>\n",
              "      <td>female</td>\n",
              "      <td>38.0</td>\n",
              "      <td>1</td>\n",
              "      <td>0</td>\n",
              "      <td>PC 17599</td>\n",
              "      <td>71.2833</td>\n",
              "      <td>C85</td>\n",
              "      <td>C</td>\n",
              "      <td>1</td>\n",
              "    </tr>\n",
              "    <tr>\n",
              "      <th>2</th>\n",
              "      <td>3</td>\n",
              "      <td>3</td>\n",
              "      <td>Heikkinen, Miss. Laina</td>\n",
              "      <td>female</td>\n",
              "      <td>26.0</td>\n",
              "      <td>0</td>\n",
              "      <td>0</td>\n",
              "      <td>STON/O2. 3101282</td>\n",
              "      <td>7.9250</td>\n",
              "      <td>NaN</td>\n",
              "      <td>S</td>\n",
              "      <td>1</td>\n",
              "    </tr>\n",
              "    <tr>\n",
              "      <th>3</th>\n",
              "      <td>4</td>\n",
              "      <td>1</td>\n",
              "      <td>Futrelle, Mrs. Jacques Heath (Lily May Peel)</td>\n",
              "      <td>female</td>\n",
              "      <td>35.0</td>\n",
              "      <td>1</td>\n",
              "      <td>0</td>\n",
              "      <td>113803</td>\n",
              "      <td>53.1000</td>\n",
              "      <td>C123</td>\n",
              "      <td>S</td>\n",
              "      <td>1</td>\n",
              "    </tr>\n",
              "    <tr>\n",
              "      <th>4</th>\n",
              "      <td>5</td>\n",
              "      <td>3</td>\n",
              "      <td>Allen, Mr. William Henry</td>\n",
              "      <td>male</td>\n",
              "      <td>35.0</td>\n",
              "      <td>0</td>\n",
              "      <td>0</td>\n",
              "      <td>373450</td>\n",
              "      <td>8.0500</td>\n",
              "      <td>NaN</td>\n",
              "      <td>S</td>\n",
              "      <td>0</td>\n",
              "    </tr>\n",
              "  </tbody>\n",
              "</table>\n",
              "</div>"
            ],
            "text/plain": [
              "   PassengerId  Pclass  ... Embarked Survived\n",
              "0            1       3  ...        S        0\n",
              "1            2       1  ...        C        1\n",
              "2            3       3  ...        S        1\n",
              "3            4       1  ...        S        1\n",
              "4            5       3  ...        S        0\n",
              "\n",
              "[5 rows x 12 columns]"
            ]
          },
          "metadata": {},
          "execution_count": 67
        }
      ]
    },
    {
      "cell_type": "code",
      "metadata": {
        "colab": {
          "base_uri": "https://localhost:8080/",
          "height": 206
        },
        "id": "Xc5W-BMsWvv9",
        "outputId": "106ccfcb-a56a-4534-ceeb-4eb0cb15cb46"
      },
      "source": [
        "titanic_teste.head()"
      ],
      "execution_count": 68,
      "outputs": [
        {
          "output_type": "execute_result",
          "data": {
            "text/html": [
              "<div>\n",
              "<style scoped>\n",
              "    .dataframe tbody tr th:only-of-type {\n",
              "        vertical-align: middle;\n",
              "    }\n",
              "\n",
              "    .dataframe tbody tr th {\n",
              "        vertical-align: top;\n",
              "    }\n",
              "\n",
              "    .dataframe thead th {\n",
              "        text-align: right;\n",
              "    }\n",
              "</style>\n",
              "<table border=\"1\" class=\"dataframe\">\n",
              "  <thead>\n",
              "    <tr style=\"text-align: right;\">\n",
              "      <th></th>\n",
              "      <th>PassengerId</th>\n",
              "      <th>Pclass</th>\n",
              "      <th>Name</th>\n",
              "      <th>Sex</th>\n",
              "      <th>Age</th>\n",
              "      <th>SibSp</th>\n",
              "      <th>Parch</th>\n",
              "      <th>Ticket</th>\n",
              "      <th>Fare</th>\n",
              "      <th>Cabin</th>\n",
              "      <th>Embarked</th>\n",
              "    </tr>\n",
              "  </thead>\n",
              "  <tbody>\n",
              "    <tr>\n",
              "      <th>0</th>\n",
              "      <td>892</td>\n",
              "      <td>3</td>\n",
              "      <td>Kelly, Mr. James</td>\n",
              "      <td>male</td>\n",
              "      <td>34.5</td>\n",
              "      <td>0</td>\n",
              "      <td>0</td>\n",
              "      <td>330911</td>\n",
              "      <td>7.8292</td>\n",
              "      <td>NaN</td>\n",
              "      <td>Q</td>\n",
              "    </tr>\n",
              "    <tr>\n",
              "      <th>1</th>\n",
              "      <td>893</td>\n",
              "      <td>3</td>\n",
              "      <td>Wilkes, Mrs. James (Ellen Needs)</td>\n",
              "      <td>female</td>\n",
              "      <td>47.0</td>\n",
              "      <td>1</td>\n",
              "      <td>0</td>\n",
              "      <td>363272</td>\n",
              "      <td>7.0000</td>\n",
              "      <td>NaN</td>\n",
              "      <td>S</td>\n",
              "    </tr>\n",
              "    <tr>\n",
              "      <th>2</th>\n",
              "      <td>894</td>\n",
              "      <td>2</td>\n",
              "      <td>Myles, Mr. Thomas Francis</td>\n",
              "      <td>male</td>\n",
              "      <td>62.0</td>\n",
              "      <td>0</td>\n",
              "      <td>0</td>\n",
              "      <td>240276</td>\n",
              "      <td>9.6875</td>\n",
              "      <td>NaN</td>\n",
              "      <td>Q</td>\n",
              "    </tr>\n",
              "    <tr>\n",
              "      <th>3</th>\n",
              "      <td>895</td>\n",
              "      <td>3</td>\n",
              "      <td>Wirz, Mr. Albert</td>\n",
              "      <td>male</td>\n",
              "      <td>27.0</td>\n",
              "      <td>0</td>\n",
              "      <td>0</td>\n",
              "      <td>315154</td>\n",
              "      <td>8.6625</td>\n",
              "      <td>NaN</td>\n",
              "      <td>S</td>\n",
              "    </tr>\n",
              "    <tr>\n",
              "      <th>4</th>\n",
              "      <td>896</td>\n",
              "      <td>3</td>\n",
              "      <td>Hirvonen, Mrs. Alexander (Helga E Lindqvist)</td>\n",
              "      <td>female</td>\n",
              "      <td>22.0</td>\n",
              "      <td>1</td>\n",
              "      <td>1</td>\n",
              "      <td>3101298</td>\n",
              "      <td>12.2875</td>\n",
              "      <td>NaN</td>\n",
              "      <td>S</td>\n",
              "    </tr>\n",
              "  </tbody>\n",
              "</table>\n",
              "</div>"
            ],
            "text/plain": [
              "   PassengerId  Pclass  ... Cabin Embarked\n",
              "0          892       3  ...   NaN        Q\n",
              "1          893       3  ...   NaN        S\n",
              "2          894       2  ...   NaN        Q\n",
              "3          895       3  ...   NaN        S\n",
              "4          896       3  ...   NaN        S\n",
              "\n",
              "[5 rows x 11 columns]"
            ]
          },
          "metadata": {},
          "execution_count": 68
        }
      ]
    },
    {
      "cell_type": "markdown",
      "metadata": {
        "id": "0QJaeHIUjela"
      },
      "source": [
        "Visual das últimas linhas."
      ]
    },
    {
      "cell_type": "code",
      "metadata": {
        "colab": {
          "base_uri": "https://localhost:8080/",
          "height": 206
        },
        "id": "TyhdEXnhWvv_",
        "outputId": "b79e1df3-5392-46cb-a419-14ae83e2e79a"
      },
      "source": [
        "titanic_treinamento.tail()"
      ],
      "execution_count": 69,
      "outputs": [
        {
          "output_type": "execute_result",
          "data": {
            "text/html": [
              "<div>\n",
              "<style scoped>\n",
              "    .dataframe tbody tr th:only-of-type {\n",
              "        vertical-align: middle;\n",
              "    }\n",
              "\n",
              "    .dataframe tbody tr th {\n",
              "        vertical-align: top;\n",
              "    }\n",
              "\n",
              "    .dataframe thead th {\n",
              "        text-align: right;\n",
              "    }\n",
              "</style>\n",
              "<table border=\"1\" class=\"dataframe\">\n",
              "  <thead>\n",
              "    <tr style=\"text-align: right;\">\n",
              "      <th></th>\n",
              "      <th>PassengerId</th>\n",
              "      <th>Pclass</th>\n",
              "      <th>Name</th>\n",
              "      <th>Sex</th>\n",
              "      <th>Age</th>\n",
              "      <th>SibSp</th>\n",
              "      <th>Parch</th>\n",
              "      <th>Ticket</th>\n",
              "      <th>Fare</th>\n",
              "      <th>Cabin</th>\n",
              "      <th>Embarked</th>\n",
              "      <th>Survived</th>\n",
              "    </tr>\n",
              "  </thead>\n",
              "  <tbody>\n",
              "    <tr>\n",
              "      <th>886</th>\n",
              "      <td>887</td>\n",
              "      <td>2</td>\n",
              "      <td>Montvila, Rev. Juozas</td>\n",
              "      <td>male</td>\n",
              "      <td>27.0</td>\n",
              "      <td>0</td>\n",
              "      <td>0</td>\n",
              "      <td>211536</td>\n",
              "      <td>13.00</td>\n",
              "      <td>NaN</td>\n",
              "      <td>S</td>\n",
              "      <td>0</td>\n",
              "    </tr>\n",
              "    <tr>\n",
              "      <th>887</th>\n",
              "      <td>888</td>\n",
              "      <td>1</td>\n",
              "      <td>Graham, Miss. Margaret Edith</td>\n",
              "      <td>female</td>\n",
              "      <td>19.0</td>\n",
              "      <td>0</td>\n",
              "      <td>0</td>\n",
              "      <td>112053</td>\n",
              "      <td>30.00</td>\n",
              "      <td>B42</td>\n",
              "      <td>S</td>\n",
              "      <td>1</td>\n",
              "    </tr>\n",
              "    <tr>\n",
              "      <th>888</th>\n",
              "      <td>889</td>\n",
              "      <td>3</td>\n",
              "      <td>Johnston, Miss. Catherine Helen \"Carrie\"</td>\n",
              "      <td>female</td>\n",
              "      <td>NaN</td>\n",
              "      <td>1</td>\n",
              "      <td>2</td>\n",
              "      <td>W./C. 6607</td>\n",
              "      <td>23.45</td>\n",
              "      <td>NaN</td>\n",
              "      <td>S</td>\n",
              "      <td>0</td>\n",
              "    </tr>\n",
              "    <tr>\n",
              "      <th>889</th>\n",
              "      <td>890</td>\n",
              "      <td>1</td>\n",
              "      <td>Behr, Mr. Karl Howell</td>\n",
              "      <td>male</td>\n",
              "      <td>26.0</td>\n",
              "      <td>0</td>\n",
              "      <td>0</td>\n",
              "      <td>111369</td>\n",
              "      <td>30.00</td>\n",
              "      <td>C148</td>\n",
              "      <td>C</td>\n",
              "      <td>1</td>\n",
              "    </tr>\n",
              "    <tr>\n",
              "      <th>890</th>\n",
              "      <td>891</td>\n",
              "      <td>3</td>\n",
              "      <td>Dooley, Mr. Patrick</td>\n",
              "      <td>male</td>\n",
              "      <td>32.0</td>\n",
              "      <td>0</td>\n",
              "      <td>0</td>\n",
              "      <td>370376</td>\n",
              "      <td>7.75</td>\n",
              "      <td>NaN</td>\n",
              "      <td>Q</td>\n",
              "      <td>0</td>\n",
              "    </tr>\n",
              "  </tbody>\n",
              "</table>\n",
              "</div>"
            ],
            "text/plain": [
              "     PassengerId  Pclass  ... Embarked Survived\n",
              "886          887       2  ...        S        0\n",
              "887          888       1  ...        S        1\n",
              "888          889       3  ...        S        0\n",
              "889          890       1  ...        C        1\n",
              "890          891       3  ...        Q        0\n",
              "\n",
              "[5 rows x 12 columns]"
            ]
          },
          "metadata": {},
          "execution_count": 69
        }
      ]
    },
    {
      "cell_type": "code",
      "metadata": {
        "colab": {
          "base_uri": "https://localhost:8080/",
          "height": 206
        },
        "id": "pnAuj1XrWvwA",
        "outputId": "949948c1-fd79-452b-fb32-003c7b7d200d"
      },
      "source": [
        "titanic_teste.tail()"
      ],
      "execution_count": 70,
      "outputs": [
        {
          "output_type": "execute_result",
          "data": {
            "text/html": [
              "<div>\n",
              "<style scoped>\n",
              "    .dataframe tbody tr th:only-of-type {\n",
              "        vertical-align: middle;\n",
              "    }\n",
              "\n",
              "    .dataframe tbody tr th {\n",
              "        vertical-align: top;\n",
              "    }\n",
              "\n",
              "    .dataframe thead th {\n",
              "        text-align: right;\n",
              "    }\n",
              "</style>\n",
              "<table border=\"1\" class=\"dataframe\">\n",
              "  <thead>\n",
              "    <tr style=\"text-align: right;\">\n",
              "      <th></th>\n",
              "      <th>PassengerId</th>\n",
              "      <th>Pclass</th>\n",
              "      <th>Name</th>\n",
              "      <th>Sex</th>\n",
              "      <th>Age</th>\n",
              "      <th>SibSp</th>\n",
              "      <th>Parch</th>\n",
              "      <th>Ticket</th>\n",
              "      <th>Fare</th>\n",
              "      <th>Cabin</th>\n",
              "      <th>Embarked</th>\n",
              "    </tr>\n",
              "  </thead>\n",
              "  <tbody>\n",
              "    <tr>\n",
              "      <th>413</th>\n",
              "      <td>1305</td>\n",
              "      <td>3</td>\n",
              "      <td>Spector, Mr. Woolf</td>\n",
              "      <td>male</td>\n",
              "      <td>NaN</td>\n",
              "      <td>0</td>\n",
              "      <td>0</td>\n",
              "      <td>A.5. 3236</td>\n",
              "      <td>8.0500</td>\n",
              "      <td>NaN</td>\n",
              "      <td>S</td>\n",
              "    </tr>\n",
              "    <tr>\n",
              "      <th>414</th>\n",
              "      <td>1306</td>\n",
              "      <td>1</td>\n",
              "      <td>Oliva y Ocana, Dona. Fermina</td>\n",
              "      <td>female</td>\n",
              "      <td>39.0</td>\n",
              "      <td>0</td>\n",
              "      <td>0</td>\n",
              "      <td>PC 17758</td>\n",
              "      <td>108.9000</td>\n",
              "      <td>C105</td>\n",
              "      <td>C</td>\n",
              "    </tr>\n",
              "    <tr>\n",
              "      <th>415</th>\n",
              "      <td>1307</td>\n",
              "      <td>3</td>\n",
              "      <td>Saether, Mr. Simon Sivertsen</td>\n",
              "      <td>male</td>\n",
              "      <td>38.5</td>\n",
              "      <td>0</td>\n",
              "      <td>0</td>\n",
              "      <td>SOTON/O.Q. 3101262</td>\n",
              "      <td>7.2500</td>\n",
              "      <td>NaN</td>\n",
              "      <td>S</td>\n",
              "    </tr>\n",
              "    <tr>\n",
              "      <th>416</th>\n",
              "      <td>1308</td>\n",
              "      <td>3</td>\n",
              "      <td>Ware, Mr. Frederick</td>\n",
              "      <td>male</td>\n",
              "      <td>NaN</td>\n",
              "      <td>0</td>\n",
              "      <td>0</td>\n",
              "      <td>359309</td>\n",
              "      <td>8.0500</td>\n",
              "      <td>NaN</td>\n",
              "      <td>S</td>\n",
              "    </tr>\n",
              "    <tr>\n",
              "      <th>417</th>\n",
              "      <td>1309</td>\n",
              "      <td>3</td>\n",
              "      <td>Peter, Master. Michael J</td>\n",
              "      <td>male</td>\n",
              "      <td>NaN</td>\n",
              "      <td>1</td>\n",
              "      <td>1</td>\n",
              "      <td>2668</td>\n",
              "      <td>22.3583</td>\n",
              "      <td>NaN</td>\n",
              "      <td>C</td>\n",
              "    </tr>\n",
              "  </tbody>\n",
              "</table>\n",
              "</div>"
            ],
            "text/plain": [
              "     PassengerId  Pclass                          Name  ...      Fare  Cabin  Embarked\n",
              "413         1305       3            Spector, Mr. Woolf  ...    8.0500    NaN         S\n",
              "414         1306       1  Oliva y Ocana, Dona. Fermina  ...  108.9000   C105         C\n",
              "415         1307       3  Saether, Mr. Simon Sivertsen  ...    7.2500    NaN         S\n",
              "416         1308       3           Ware, Mr. Frederick  ...    8.0500    NaN         S\n",
              "417         1309       3      Peter, Master. Michael J  ...   22.3583    NaN         C\n",
              "\n",
              "[5 rows x 11 columns]"
            ]
          },
          "metadata": {},
          "execution_count": 70
        }
      ]
    },
    {
      "cell_type": "markdown",
      "metadata": {
        "id": "dlatXJ-pWvwA"
      },
      "source": [
        "A partir das tabelas acima já podemos verificar que teremos que realizar algumas conversões de variáveis para numéricas para que os algoritmos possam processá-las. Além disso, podemos ver que as features tem ordem de grandeza muito diferente entre si, portanto teremos que normalizá-las para não gerar viés no nosso modelo."
      ]
    },
    {
      "cell_type": "code",
      "metadata": {
        "colab": {
          "base_uri": "https://localhost:8080/",
          "height": 300
        },
        "id": "q6JqmeoBWvwB",
        "outputId": "80b22635-d09c-4493-ec23-47fd876ea3d3"
      },
      "source": [
        "titanic_treinamento.describe()"
      ],
      "execution_count": 71,
      "outputs": [
        {
          "output_type": "execute_result",
          "data": {
            "text/html": [
              "<div>\n",
              "<style scoped>\n",
              "    .dataframe tbody tr th:only-of-type {\n",
              "        vertical-align: middle;\n",
              "    }\n",
              "\n",
              "    .dataframe tbody tr th {\n",
              "        vertical-align: top;\n",
              "    }\n",
              "\n",
              "    .dataframe thead th {\n",
              "        text-align: right;\n",
              "    }\n",
              "</style>\n",
              "<table border=\"1\" class=\"dataframe\">\n",
              "  <thead>\n",
              "    <tr style=\"text-align: right;\">\n",
              "      <th></th>\n",
              "      <th>PassengerId</th>\n",
              "      <th>Pclass</th>\n",
              "      <th>Age</th>\n",
              "      <th>SibSp</th>\n",
              "      <th>Parch</th>\n",
              "      <th>Fare</th>\n",
              "      <th>Survived</th>\n",
              "    </tr>\n",
              "  </thead>\n",
              "  <tbody>\n",
              "    <tr>\n",
              "      <th>count</th>\n",
              "      <td>891.000000</td>\n",
              "      <td>891.000000</td>\n",
              "      <td>714.000000</td>\n",
              "      <td>891.000000</td>\n",
              "      <td>891.000000</td>\n",
              "      <td>891.000000</td>\n",
              "      <td>891.000000</td>\n",
              "    </tr>\n",
              "    <tr>\n",
              "      <th>mean</th>\n",
              "      <td>446.000000</td>\n",
              "      <td>2.308642</td>\n",
              "      <td>29.699118</td>\n",
              "      <td>0.523008</td>\n",
              "      <td>0.381594</td>\n",
              "      <td>32.204208</td>\n",
              "      <td>0.383838</td>\n",
              "    </tr>\n",
              "    <tr>\n",
              "      <th>std</th>\n",
              "      <td>257.353842</td>\n",
              "      <td>0.836071</td>\n",
              "      <td>14.526497</td>\n",
              "      <td>1.102743</td>\n",
              "      <td>0.806057</td>\n",
              "      <td>49.693429</td>\n",
              "      <td>0.486592</td>\n",
              "    </tr>\n",
              "    <tr>\n",
              "      <th>min</th>\n",
              "      <td>1.000000</td>\n",
              "      <td>1.000000</td>\n",
              "      <td>0.420000</td>\n",
              "      <td>0.000000</td>\n",
              "      <td>0.000000</td>\n",
              "      <td>0.000000</td>\n",
              "      <td>0.000000</td>\n",
              "    </tr>\n",
              "    <tr>\n",
              "      <th>25%</th>\n",
              "      <td>223.500000</td>\n",
              "      <td>2.000000</td>\n",
              "      <td>20.125000</td>\n",
              "      <td>0.000000</td>\n",
              "      <td>0.000000</td>\n",
              "      <td>7.910400</td>\n",
              "      <td>0.000000</td>\n",
              "    </tr>\n",
              "    <tr>\n",
              "      <th>50%</th>\n",
              "      <td>446.000000</td>\n",
              "      <td>3.000000</td>\n",
              "      <td>28.000000</td>\n",
              "      <td>0.000000</td>\n",
              "      <td>0.000000</td>\n",
              "      <td>14.454200</td>\n",
              "      <td>0.000000</td>\n",
              "    </tr>\n",
              "    <tr>\n",
              "      <th>75%</th>\n",
              "      <td>668.500000</td>\n",
              "      <td>3.000000</td>\n",
              "      <td>38.000000</td>\n",
              "      <td>1.000000</td>\n",
              "      <td>0.000000</td>\n",
              "      <td>31.000000</td>\n",
              "      <td>1.000000</td>\n",
              "    </tr>\n",
              "    <tr>\n",
              "      <th>max</th>\n",
              "      <td>891.000000</td>\n",
              "      <td>3.000000</td>\n",
              "      <td>80.000000</td>\n",
              "      <td>8.000000</td>\n",
              "      <td>6.000000</td>\n",
              "      <td>512.329200</td>\n",
              "      <td>1.000000</td>\n",
              "    </tr>\n",
              "  </tbody>\n",
              "</table>\n",
              "</div>"
            ],
            "text/plain": [
              "       PassengerId      Pclass         Age  ...       Parch        Fare    Survived\n",
              "count   891.000000  891.000000  714.000000  ...  891.000000  891.000000  891.000000\n",
              "mean    446.000000    2.308642   29.699118  ...    0.381594   32.204208    0.383838\n",
              "std     257.353842    0.836071   14.526497  ...    0.806057   49.693429    0.486592\n",
              "min       1.000000    1.000000    0.420000  ...    0.000000    0.000000    0.000000\n",
              "25%     223.500000    2.000000   20.125000  ...    0.000000    7.910400    0.000000\n",
              "50%     446.000000    3.000000   28.000000  ...    0.000000   14.454200    0.000000\n",
              "75%     668.500000    3.000000   38.000000  ...    0.000000   31.000000    1.000000\n",
              "max     891.000000    3.000000   80.000000  ...    6.000000  512.329200    1.000000\n",
              "\n",
              "[8 rows x 7 columns]"
            ]
          },
          "metadata": {},
          "execution_count": 71
        }
      ]
    },
    {
      "cell_type": "markdown",
      "metadata": {
        "id": "kw0wdeYWWvwC"
      },
      "source": [
        "Acima podemos verificar, pela média da variável target 'Survived', que em torno de 38% das pessoas sobreviveu no Titanic. Também já conseguimos ver que a feature 'Age' contém alguns valores faltantes, pois a sua contagem está abaixo do número total de registros, além disso podemos verificar que nenhuma das features conta com 'erros' de registro pois pelo máximo e mínimo de cada variável não temos nenhum valor que não faz sentido como idade negativa ou taxa negativa...\n",
        "Entretanto essa função nos mostra as informações apenas das variáveis numéricas."
      ]
    },
    {
      "cell_type": "code",
      "metadata": {
        "colab": {
          "base_uri": "https://localhost:8080/"
        },
        "id": "bxmpv5_CWvwD",
        "outputId": "5aef6267-397d-437d-b374-faa01bb5eb31"
      },
      "source": [
        "titanic_treinamento.info()"
      ],
      "execution_count": 72,
      "outputs": [
        {
          "output_type": "stream",
          "name": "stdout",
          "text": [
            "<class 'pandas.core.frame.DataFrame'>\n",
            "RangeIndex: 891 entries, 0 to 890\n",
            "Data columns (total 12 columns):\n",
            " #   Column       Non-Null Count  Dtype  \n",
            "---  ------       --------------  -----  \n",
            " 0   PassengerId  891 non-null    int64  \n",
            " 1   Pclass       891 non-null    int64  \n",
            " 2   Name         891 non-null    object \n",
            " 3   Sex          891 non-null    object \n",
            " 4   Age          714 non-null    float64\n",
            " 5   SibSp        891 non-null    int64  \n",
            " 6   Parch        891 non-null    int64  \n",
            " 7   Ticket       891 non-null    object \n",
            " 8   Fare         891 non-null    float64\n",
            " 9   Cabin        204 non-null    object \n",
            " 10  Embarked     889 non-null    object \n",
            " 11  Survived     891 non-null    int64  \n",
            "dtypes: float64(2), int64(5), object(5)\n",
            "memory usage: 83.7+ KB\n"
          ]
        }
      ]
    },
    {
      "cell_type": "markdown",
      "metadata": {
        "id": "1MC_HsHJWvwE"
      },
      "source": [
        "Com a função acima conseguimos algumas informações sobre todas as variáveis:numéricas e categóricas. E a partir disso verificamos que a base de treinamento tem 891 registros e 11 features + a variavel target (survived). Temos 5 features tipo integers, 5 objects e 2 floats. Também é possível verificar que temos alguns dados faltantes que serão tratados mais adiante."
      ]
    },
    {
      "cell_type": "code",
      "metadata": {
        "colab": {
          "base_uri": "https://localhost:8080/",
          "height": 300
        },
        "id": "ERbPfuqdWvwF",
        "outputId": "e8a9e7fd-2721-4150-c107-55eab4b4e0c3"
      },
      "source": [
        "titanic_teste.describe()"
      ],
      "execution_count": 73,
      "outputs": [
        {
          "output_type": "execute_result",
          "data": {
            "text/html": [
              "<div>\n",
              "<style scoped>\n",
              "    .dataframe tbody tr th:only-of-type {\n",
              "        vertical-align: middle;\n",
              "    }\n",
              "\n",
              "    .dataframe tbody tr th {\n",
              "        vertical-align: top;\n",
              "    }\n",
              "\n",
              "    .dataframe thead th {\n",
              "        text-align: right;\n",
              "    }\n",
              "</style>\n",
              "<table border=\"1\" class=\"dataframe\">\n",
              "  <thead>\n",
              "    <tr style=\"text-align: right;\">\n",
              "      <th></th>\n",
              "      <th>PassengerId</th>\n",
              "      <th>Pclass</th>\n",
              "      <th>Age</th>\n",
              "      <th>SibSp</th>\n",
              "      <th>Parch</th>\n",
              "      <th>Fare</th>\n",
              "    </tr>\n",
              "  </thead>\n",
              "  <tbody>\n",
              "    <tr>\n",
              "      <th>count</th>\n",
              "      <td>418.000000</td>\n",
              "      <td>418.000000</td>\n",
              "      <td>332.000000</td>\n",
              "      <td>418.000000</td>\n",
              "      <td>418.000000</td>\n",
              "      <td>417.000000</td>\n",
              "    </tr>\n",
              "    <tr>\n",
              "      <th>mean</th>\n",
              "      <td>1100.500000</td>\n",
              "      <td>2.265550</td>\n",
              "      <td>30.272590</td>\n",
              "      <td>0.447368</td>\n",
              "      <td>0.392344</td>\n",
              "      <td>35.627188</td>\n",
              "    </tr>\n",
              "    <tr>\n",
              "      <th>std</th>\n",
              "      <td>120.810458</td>\n",
              "      <td>0.841838</td>\n",
              "      <td>14.181209</td>\n",
              "      <td>0.896760</td>\n",
              "      <td>0.981429</td>\n",
              "      <td>55.907576</td>\n",
              "    </tr>\n",
              "    <tr>\n",
              "      <th>min</th>\n",
              "      <td>892.000000</td>\n",
              "      <td>1.000000</td>\n",
              "      <td>0.170000</td>\n",
              "      <td>0.000000</td>\n",
              "      <td>0.000000</td>\n",
              "      <td>0.000000</td>\n",
              "    </tr>\n",
              "    <tr>\n",
              "      <th>25%</th>\n",
              "      <td>996.250000</td>\n",
              "      <td>1.000000</td>\n",
              "      <td>21.000000</td>\n",
              "      <td>0.000000</td>\n",
              "      <td>0.000000</td>\n",
              "      <td>7.895800</td>\n",
              "    </tr>\n",
              "    <tr>\n",
              "      <th>50%</th>\n",
              "      <td>1100.500000</td>\n",
              "      <td>3.000000</td>\n",
              "      <td>27.000000</td>\n",
              "      <td>0.000000</td>\n",
              "      <td>0.000000</td>\n",
              "      <td>14.454200</td>\n",
              "    </tr>\n",
              "    <tr>\n",
              "      <th>75%</th>\n",
              "      <td>1204.750000</td>\n",
              "      <td>3.000000</td>\n",
              "      <td>39.000000</td>\n",
              "      <td>1.000000</td>\n",
              "      <td>0.000000</td>\n",
              "      <td>31.500000</td>\n",
              "    </tr>\n",
              "    <tr>\n",
              "      <th>max</th>\n",
              "      <td>1309.000000</td>\n",
              "      <td>3.000000</td>\n",
              "      <td>76.000000</td>\n",
              "      <td>8.000000</td>\n",
              "      <td>9.000000</td>\n",
              "      <td>512.329200</td>\n",
              "    </tr>\n",
              "  </tbody>\n",
              "</table>\n",
              "</div>"
            ],
            "text/plain": [
              "       PassengerId      Pclass         Age       SibSp       Parch        Fare\n",
              "count   418.000000  418.000000  332.000000  418.000000  418.000000  417.000000\n",
              "mean   1100.500000    2.265550   30.272590    0.447368    0.392344   35.627188\n",
              "std     120.810458    0.841838   14.181209    0.896760    0.981429   55.907576\n",
              "min     892.000000    1.000000    0.170000    0.000000    0.000000    0.000000\n",
              "25%     996.250000    1.000000   21.000000    0.000000    0.000000    7.895800\n",
              "50%    1100.500000    3.000000   27.000000    0.000000    0.000000   14.454200\n",
              "75%    1204.750000    3.000000   39.000000    1.000000    0.000000   31.500000\n",
              "max    1309.000000    3.000000   76.000000    8.000000    9.000000  512.329200"
            ]
          },
          "metadata": {},
          "execution_count": 73
        }
      ]
    },
    {
      "cell_type": "code",
      "metadata": {
        "colab": {
          "base_uri": "https://localhost:8080/"
        },
        "id": "QKyII7bDWvwG",
        "outputId": "93b41491-d435-49c8-bb72-2937b35e8f9b"
      },
      "source": [
        "titanic_teste.info()"
      ],
      "execution_count": 74,
      "outputs": [
        {
          "output_type": "stream",
          "name": "stdout",
          "text": [
            "<class 'pandas.core.frame.DataFrame'>\n",
            "RangeIndex: 418 entries, 0 to 417\n",
            "Data columns (total 11 columns):\n",
            " #   Column       Non-Null Count  Dtype  \n",
            "---  ------       --------------  -----  \n",
            " 0   PassengerId  418 non-null    int64  \n",
            " 1   Pclass       418 non-null    int64  \n",
            " 2   Name         418 non-null    object \n",
            " 3   Sex          418 non-null    object \n",
            " 4   Age          332 non-null    float64\n",
            " 5   SibSp        418 non-null    int64  \n",
            " 6   Parch        418 non-null    int64  \n",
            " 7   Ticket       418 non-null    object \n",
            " 8   Fare         417 non-null    float64\n",
            " 9   Cabin        91 non-null     object \n",
            " 10  Embarked     418 non-null    object \n",
            "dtypes: float64(2), int64(4), object(5)\n",
            "memory usage: 36.0+ KB\n"
          ]
        }
      ]
    },
    {
      "cell_type": "markdown",
      "metadata": {
        "id": "wjYqdRezWvwH"
      },
      "source": [
        "Já na base de teste temos menos problemas com dados faltantes, mas igual iremos tratar mais adiante."
      ]
    },
    {
      "cell_type": "markdown",
      "metadata": {
        "id": "7OGlxTuqljEZ"
      },
      "source": [
        "Afim de conhecer melhor os dados gerei diversos gráficos que já conseguem me dar uma ideia maior do que esperar na previsão do algoritmo."
      ]
    },
    {
      "cell_type": "code",
      "metadata": {
        "colab": {
          "base_uri": "https://localhost:8080/",
          "height": 279
        },
        "id": "kFpfQqTgWvwH",
        "outputId": "cdaab99b-f4c8-442f-8420-0bc5b244ab21"
      },
      "source": [
        "sns.countplot(titanic_treinamento['Survived'], label=\"Count\");"
      ],
      "execution_count": 75,
      "outputs": [
        {
          "output_type": "display_data",
          "data": {
            "image/png": "[encoded data removed]",
            "text/plain": [
              "<Figure size 432x288 with 1 Axes>"
            ]
          },
          "metadata": {
            "needs_background": "light"
          }
        }
      ]
    },
    {
      "cell_type": "markdown",
      "metadata": {
        "id": "tEUbQ9DHlxvH"
      },
      "source": [
        "A partir dessa simples contagem da nossa variável target já conseguimos perceber que a maioria não sobreviveu."
      ]
    },
    {
      "cell_type": "code",
      "metadata": {
        "colab": {
          "base_uri": "https://localhost:8080/"
        },
        "id": "Ezyu_xIGWvwI",
        "outputId": "41874864-f298-4d15-f003-d546cc172686"
      },
      "source": [
        "tabela = pd.pivot_table(data=titanic_treinamento, values='PassengerId', index='Sex', columns='Survived', aggfunc='count')\n",
        "print(tabela)"
      ],
      "execution_count": 76,
      "outputs": [
        {
          "output_type": "stream",
          "name": "stdout",
          "text": [
            "Survived    0    1\n",
            "Sex               \n",
            "female     81  233\n",
            "male      468  109\n"
          ]
        }
      ]
    },
    {
      "cell_type": "code",
      "metadata": {
        "colab": {
          "base_uri": "https://localhost:8080/",
          "height": 264
        },
        "id": "GhdxKoduWvwI",
        "outputId": "3ed7ccf5-6c76-4a94-8c53-1fd562d04783"
      },
      "source": [
        "pie_fem=tabela.loc['female']\n",
        "pie_masc=tabela.loc['male']\n",
        "\n",
        "fig, eixos=plt.subplots(nrows=1, ncols=2, figsize=(8,4))\n",
        "pie_1=eixos[0].pie(pie_fem, labels=['Não sobreviveu', 'Sobreviveu'],\n",
        "                  autopct='%1.1f%%', colors=['orange', 'blue'])\n",
        "eixos[0].set_title('Female')\n",
        "eixos[0].axis('equal')\n",
        "\n",
        "pie_2 = eixos[1].pie(pie_masc, labels=['Não Sobreviveu','Sobreviveu'], \n",
        "                    autopct='%1.1f%%', startangle=90, colors=['orange', 'blue'])\n",
        "eixos[1].set_title('Male')\n",
        "plt.axis('equal')\n",
        "plt.show()"
      ],
      "execution_count": 77,
      "outputs": [
        {
          "output_type": "display_data",
          "data": {
            "image/png": "[encoded data removed]",
            "text/plain": [
              "<Figure size 576x288 with 2 Axes>"
            ]
          },
          "metadata": {}
        }
      ]
    },
    {
      "cell_type": "markdown",
      "metadata": {
        "id": "a9mazysMmQ0J"
      },
      "source": [
        "Ao cruzarmos a variável 'sex' com a 'survived' podemos perceber que maior parte das mulheres sobreviveu. O que vai de acordo com o que vimos no filme, pois na hora do resgate mulheres e crianças foram priorizadas."
      ]
    },
    {
      "cell_type": "code",
      "metadata": {
        "colab": {
          "base_uri": "https://localhost:8080/",
          "height": 143
        },
        "id": "5XbgyJ9xWvwJ",
        "outputId": "b55d65fb-a843-47a0-ecfd-329c1fca6297"
      },
      "source": [
        "titanic_treinamento[['Pclass', 'Survived']].groupby(['Pclass'], as_index=False).count().sort_values(by='Survived', ascending=False)"
      ],
      "execution_count": 78,
      "outputs": [
        {
          "output_type": "execute_result",
          "data": {
            "text/html": [
              "<div>\n",
              "<style scoped>\n",
              "    .dataframe tbody tr th:only-of-type {\n",
              "        vertical-align: middle;\n",
              "    }\n",
              "\n",
              "    .dataframe tbody tr th {\n",
              "        vertical-align: top;\n",
              "    }\n",
              "\n",
              "    .dataframe thead th {\n",
              "        text-align: right;\n",
              "    }\n",
              "</style>\n",
              "<table border=\"1\" class=\"dataframe\">\n",
              "  <thead>\n",
              "    <tr style=\"text-align: right;\">\n",
              "      <th></th>\n",
              "      <th>Pclass</th>\n",
              "      <th>Survived</th>\n",
              "    </tr>\n",
              "  </thead>\n",
              "  <tbody>\n",
              "    <tr>\n",
              "      <th>2</th>\n",
              "      <td>3</td>\n",
              "      <td>491</td>\n",
              "    </tr>\n",
              "    <tr>\n",
              "      <th>0</th>\n",
              "      <td>1</td>\n",
              "      <td>216</td>\n",
              "    </tr>\n",
              "    <tr>\n",
              "      <th>1</th>\n",
              "      <td>2</td>\n",
              "      <td>184</td>\n",
              "    </tr>\n",
              "  </tbody>\n",
              "</table>\n",
              "</div>"
            ],
            "text/plain": [
              "   Pclass  Survived\n",
              "2       3       491\n",
              "0       1       216\n",
              "1       2       184"
            ]
          },
          "metadata": {},
          "execution_count": 78
        }
      ]
    },
    {
      "cell_type": "markdown",
      "metadata": {
        "id": "vJPZFK30m1Sw"
      },
      "source": [
        "Se fizermos uma contagem simples da nossa variável 'Pclass' podemos ficar com a ideia erronea de que mais pessoas da 3ª classe sobreviveram. Por isso, assim como fiz com 'sex' vou cruzar essa variável com a nossa target."
      ]
    },
    {
      "cell_type": "code",
      "metadata": {
        "id": "vysonN34n_SU"
      },
      "source": [
        "tabela2 = pd.pivot_table(data=titanic_treinamento, values='PassengerId', index='Pclass', columns='Survived', aggfunc='count')"
      ],
      "execution_count": 79,
      "outputs": []
    },
    {
      "cell_type": "code",
      "metadata": {
        "colab": {
          "base_uri": "https://localhost:8080/",
          "height": 264
        },
        "id": "5k3uCBe1nNOq",
        "outputId": "d7a081bc-7bbb-4495-f4ac-86f1b0b12d23"
      },
      "source": [
        "pie_first=tabela2.loc[1]\n",
        "pie_second=tabela2.loc[2]\n",
        "pie_third=tabela2.loc[3]\n",
        "\n",
        "fig, eixos=plt.subplots(nrows=1, ncols=3, figsize=(10,4))\n",
        "plt.subplots_adjust(wspace = 0.9)\n",
        "\n",
        "pie_1=eixos[0].pie(pie_first, labels=['Não sobreviveu', 'Sobreviveu'],\n",
        "                  autopct='%1.1f%%', colors=['orange', 'blue'])\n",
        "eixos[0].set_title('1ª classe')\n",
        "eixos[0].axis('equal')\n",
        "\n",
        "pie_2 = eixos[1].pie(pie_second, labels=['Não Sobreviveu','Sobreviveu'], \n",
        "                    autopct='%1.1f%%', startangle=90, colors=['orange', 'blue'])\n",
        "eixos[1].set_title('2ª classe')\n",
        "eixos[1].axis('equal')\n",
        "\n",
        "pie_3 = eixos[2].pie(pie_third, labels=['Não Sobreviveu','Sobreviveu'], \n",
        "                    autopct='%1.1f%%', startangle=90, colors=['orange', 'blue'])\n",
        "eixos[2].set_title('3ª classe')\n",
        "plt.axis('equal')\n",
        "plt.show()"
      ],
      "execution_count": 80,
      "outputs": [
        {
          "output_type": "display_data",
          "data": {
            "image/png": "[encoded data removed]",
            "text/plain": [
              "<Figure size 720x288 with 3 Axes>"
            ]
          },
          "metadata": {}
        }
      ]
    },
    {
      "cell_type": "markdown",
      "metadata": {
        "id": "WkwHE1ulrL2G"
      },
      "source": [
        "Como podemos ver a partir dessa perspectiva concluimos que na verdade, ainda que em valores brutos tenha sobrevivido mais pessoas da 3ª classe, apenas uma pequena parcela da 3ª classe sobreviveu. Como esperado, e de novo de acordo com o filme, os passageiros que estavam nas classes mais abastadas (1ª e 2ª) foram priorizados nos resgates."
      ]
    },
    {
      "cell_type": "markdown",
      "metadata": {
        "id": "mwXpuClgsFIe"
      },
      "source": [
        "No caso de variáveis numéricas não faz muito sentido fazer uma contagem como nos outros casos. Então para ver a distribuição da idade dos passageiros gerei um histograma."
      ]
    },
    {
      "cell_type": "code",
      "metadata": {
        "colab": {
          "base_uri": "https://localhost:8080/",
          "height": 265
        },
        "id": "2R9ABmTlWvwK",
        "outputId": "af8b093c-1ed0-47e3-9c00-deaa50f65afc"
      },
      "source": [
        "plt.hist(x = titanic_treinamento['Age']);"
      ],
      "execution_count": 81,
      "outputs": [
        {
          "output_type": "display_data",
          "data": {
            "image/png": "[encoded data removed]",
            "text/plain": [
              "<Figure size 432x288 with 1 Axes>"
            ]
          },
          "metadata": {
            "needs_background": "light"
          }
        }
      ]
    },
    {
      "cell_type": "code",
      "metadata": {
        "colab": {
          "base_uri": "https://localhost:8080/",
          "height": 265
        },
        "id": "E1AptRKWWvwK",
        "outputId": "77e09c28-f037-44ac-ddf0-3fe48d2de663"
      },
      "source": [
        "plt.hist(x = titanic_teste['Age']);"
      ],
      "execution_count": 82,
      "outputs": [
        {
          "output_type": "display_data",
          "data": {
            "image/png": "[encoded data removed]",
            "text/plain": [
              "<Figure size 432x288 with 1 Axes>"
            ]
          },
          "metadata": {
            "needs_background": "light"
          }
        }
      ]
    },
    {
      "cell_type": "code",
      "metadata": {
        "colab": {
          "base_uri": "https://localhost:8080/",
          "height": 225
        },
        "id": "otanZox2WvwL",
        "outputId": "26090615-94ca-4449-cdda-d38544095a61"
      },
      "source": [
        "sns.FacetGrid(titanic_treinamento, col='Survived').map(plt.hist, 'Age', bins=20);"
      ],
      "execution_count": 83,
      "outputs": [
        {
          "output_type": "display_data",
          "data": {
            "image/png": "[encoded data removed]",
            "text/plain": [
              "<Figure size 432x216 with 2 Axes>"
            ]
          },
          "metadata": {
            "needs_background": "light"
          }
        }
      ]
    },
    {
      "cell_type": "markdown",
      "metadata": {
        "id": "zu6tyfoYsa48"
      },
      "source": [
        "Fazendo um cruzamento com a variável target podemos verificar que os passageiros tem em média entre 20 e 40 anos e que passageiros mais jovens tendem a sobreviver."
      ]
    },
    {
      "cell_type": "code",
      "metadata": {
        "colab": {
          "base_uri": "https://localhost:8080/",
          "height": 279
        },
        "id": "RZgLT_UkWvwL",
        "outputId": "b7a17353-63a7-4192-db88-fa4f4197df1e"
      },
      "source": [
        "sns.barplot(x='SibSp', y='Survived', ci=None, data=titanic_treinamento);"
      ],
      "execution_count": 84,
      "outputs": [
        {
          "output_type": "display_data",
          "data": {
            "image/png": "[encoded data removed]",
            "text/plain": [
              "<Figure size 432x288 with 1 Axes>"
            ]
          },
          "metadata": {
            "needs_background": "light"
          }
        }
      ]
    },
    {
      "cell_type": "markdown",
      "metadata": {
        "id": "o_i4NSv2vBwK"
      },
      "source": [
        "Analisando a variável 'SibSp' verificamos que pessoas que viajaram com 1 irmão sobreviveram mais do que o resto."
      ]
    },
    {
      "cell_type": "code",
      "metadata": {
        "colab": {
          "base_uri": "https://localhost:8080/",
          "height": 279
        },
        "id": "0pHLnDn9WvwM",
        "outputId": "e51edad3-fb20-4db8-b40f-74d2d9c466c8"
      },
      "source": [
        "sns.barplot(x='Parch', y='Survived',ci=None, data=titanic_treinamento);"
      ],
      "execution_count": 85,
      "outputs": [
        {
          "output_type": "display_data",
          "data": {
            "image/png": "[encoded data removed]",
            "text/plain": [
              "<Figure size 432x288 with 1 Axes>"
            ]
          },
          "metadata": {
            "needs_background": "light"
          }
        }
      ]
    },
    {
      "cell_type": "markdown",
      "metadata": {
        "id": "btv6Pyd2vgGq"
      },
      "source": [
        "Analisando a variável 'Parch' demonstra que pessoas viajando com pais ou crianças tinham uma probabilidade maior de sobreviver do que aqueles que viajaram sozinhos."
      ]
    },
    {
      "cell_type": "code",
      "metadata": {
        "colab": {
          "base_uri": "https://localhost:8080/",
          "height": 143
        },
        "id": "HvQW3dcKWvwM",
        "outputId": "cd38fa83-bc3a-4174-bb47-62e0d7cf5ea8"
      },
      "source": [
        "titanic_treinamento[['Embarked', 'Survived']].groupby(['Embarked'], as_index=False).count().sort_values(by='Survived', ascending=False)"
      ],
      "execution_count": 86,
      "outputs": [
        {
          "output_type": "execute_result",
          "data": {
            "text/html": [
              "<div>\n",
              "<style scoped>\n",
              "    .dataframe tbody tr th:only-of-type {\n",
              "        vertical-align: middle;\n",
              "    }\n",
              "\n",
              "    .dataframe tbody tr th {\n",
              "        vertical-align: top;\n",
              "    }\n",
              "\n",
              "    .dataframe thead th {\n",
              "        text-align: right;\n",
              "    }\n",
              "</style>\n",
              "<table border=\"1\" class=\"dataframe\">\n",
              "  <thead>\n",
              "    <tr style=\"text-align: right;\">\n",
              "      <th></th>\n",
              "      <th>Embarked</th>\n",
              "      <th>Survived</th>\n",
              "    </tr>\n",
              "  </thead>\n",
              "  <tbody>\n",
              "    <tr>\n",
              "      <th>2</th>\n",
              "      <td>S</td>\n",
              "      <td>644</td>\n",
              "    </tr>\n",
              "    <tr>\n",
              "      <th>0</th>\n",
              "      <td>C</td>\n",
              "      <td>168</td>\n",
              "    </tr>\n",
              "    <tr>\n",
              "      <th>1</th>\n",
              "      <td>Q</td>\n",
              "      <td>77</td>\n",
              "    </tr>\n",
              "  </tbody>\n",
              "</table>\n",
              "</div>"
            ],
            "text/plain": [
              "  Embarked  Survived\n",
              "2        S       644\n",
              "0        C       168\n",
              "1        Q        77"
            ]
          },
          "metadata": {},
          "execution_count": 86
        }
      ]
    },
    {
      "cell_type": "code",
      "metadata": {
        "colab": {
          "base_uri": "https://localhost:8080/",
          "height": 279
        },
        "id": "BUTUt5h4WvwQ",
        "outputId": "daf6ad38-c849-48b4-fd6c-ea8b92613236"
      },
      "source": [
        "sns.barplot(x='Embarked', y='Survived', data=titanic_treinamento);"
      ],
      "execution_count": 87,
      "outputs": [
        {
          "output_type": "display_data",
          "data": {
            "image/png": "[encoded data removed]",
            "text/plain": [
              "<Figure size 432x288 with 1 Axes>"
            ]
          },
          "metadata": {
            "needs_background": "light"
          }
        }
      ]
    },
    {
      "cell_type": "markdown",
      "metadata": {
        "id": "7aJ0phAF1plU"
      },
      "source": [
        "Os passageiros embarcados no Porto de Cherbourg têm maior probabilidade de sobreviver. Ainda que em números brutos tenha sobrevivido mais pessoas do Porto de Southampton."
      ]
    },
    {
      "cell_type": "markdown",
      "metadata": {
        "id": "UHARZbowCbIO"
      },
      "source": [
        "## Análise e imputação de valores faltantes e outliers "
      ]
    },
    {
      "cell_type": "markdown",
      "metadata": {
        "id": "M78wACMA2cNP"
      },
      "source": [
        "Agora vamos verificar e tratar os dados nulos das nossas bases."
      ]
    },
    {
      "cell_type": "code",
      "metadata": {
        "colab": {
          "base_uri": "https://localhost:8080/"
        },
        "id": "BYf7BSxAWvwR",
        "outputId": "3e54fc65-cf0f-454b-e7bb-769924d4c290"
      },
      "source": [
        "titanic_treinamento.isnull().sum()"
      ],
      "execution_count": 88,
      "outputs": [
        {
          "output_type": "execute_result",
          "data": {
            "text/plain": [
              "PassengerId      0\n",
              "Pclass           0\n",
              "Name             0\n",
              "Sex              0\n",
              "Age            177\n",
              "SibSp            0\n",
              "Parch            0\n",
              "Ticket           0\n",
              "Fare             0\n",
              "Cabin          687\n",
              "Embarked         2\n",
              "Survived         0\n",
              "dtype: int64"
            ]
          },
          "metadata": {},
          "execution_count": 88
        }
      ]
    },
    {
      "cell_type": "markdown",
      "metadata": {
        "id": "u30NskKo2j4v"
      },
      "source": [
        "Como podemos ver temos muitos valores nulos em 'Age' e 'Cabin', principalmente. Como a base não é exatamente \"gigante\" não é interessante para nós sair simplesmente deletando todas essas linhas."
      ]
    },
    {
      "cell_type": "markdown",
      "metadata": {
        "id": "jgZyNzo64ZPy"
      },
      "source": [
        "Então antes de tratar esse valores nulos sem deletá-los vou separar em uma base separada para analisar se existe algum tipo de padrão ou explicação para que esses valores estejam faltando."
      ]
    },
    {
      "cell_type": "code",
      "metadata": {
        "colab": {
          "base_uri": "https://localhost:8080/",
          "height": 423
        },
        "id": "LAzA7DLCWvwR",
        "outputId": "e0832f96-a8d5-4841-b572-8e57b5415c06"
      },
      "source": [
        "#fazer uma analise separada das cabines nulas\n",
        "titanic_cabinnull = titanic_treinamento.loc[pd.isnull(titanic_treinamento['Cabin'])]\n",
        "titanic_cabinnull"
      ],
      "execution_count": 89,
      "outputs": [
        {
          "output_type": "execute_result",
          "data": {
            "text/html": [
              "<div>\n",
              "<style scoped>\n",
              "    .dataframe tbody tr th:only-of-type {\n",
              "        vertical-align: middle;\n",
              "    }\n",
              "\n",
              "    .dataframe tbody tr th {\n",
              "        vertical-align: top;\n",
              "    }\n",
              "\n",
              "    .dataframe thead th {\n",
              "        text-align: right;\n",
              "    }\n",
              "</style>\n",
              "<table border=\"1\" class=\"dataframe\">\n",
              "  <thead>\n",
              "    <tr style=\"text-align: right;\">\n",
              "      <th></th>\n",
              "      <th>PassengerId</th>\n",
              "      <th>Pclass</th>\n",
              "      <th>Name</th>\n",
              "      <th>Sex</th>\n",
              "      <th>Age</th>\n",
              "      <th>SibSp</th>\n",
              "      <th>Parch</th>\n",
              "      <th>Ticket</th>\n",
              "      <th>Fare</th>\n",
              "      <th>Cabin</th>\n",
              "      <th>Embarked</th>\n",
              "      <th>Survived</th>\n",
              "    </tr>\n",
              "  </thead>\n",
              "  <tbody>\n",
              "    <tr>\n",
              "      <th>0</th>\n",
              "      <td>1</td>\n",
              "      <td>3</td>\n",
              "      <td>Braund, Mr. Owen Harris</td>\n",
              "      <td>male</td>\n",
              "      <td>22.0</td>\n",
              "      <td>1</td>\n",
              "      <td>0</td>\n",
              "      <td>A/5 21171</td>\n",
              "      <td>7.2500</td>\n",
              "      <td>NaN</td>\n",
              "      <td>S</td>\n",
              "      <td>0</td>\n",
              "    </tr>\n",
              "    <tr>\n",
              "      <th>2</th>\n",
              "      <td>3</td>\n",
              "      <td>3</td>\n",
              "      <td>Heikkinen, Miss. Laina</td>\n",
              "      <td>female</td>\n",
              "      <td>26.0</td>\n",
              "      <td>0</td>\n",
              "      <td>0</td>\n",
              "      <td>STON/O2. 3101282</td>\n",
              "      <td>7.9250</td>\n",
              "      <td>NaN</td>\n",
              "      <td>S</td>\n",
              "      <td>1</td>\n",
              "    </tr>\n",
              "    <tr>\n",
              "      <th>4</th>\n",
              "      <td>5</td>\n",
              "      <td>3</td>\n",
              "      <td>Allen, Mr. William Henry</td>\n",
              "      <td>male</td>\n",
              "      <td>35.0</td>\n",
              "      <td>0</td>\n",
              "      <td>0</td>\n",
              "      <td>373450</td>\n",
              "      <td>8.0500</td>\n",
              "      <td>NaN</td>\n",
              "      <td>S</td>\n",
              "      <td>0</td>\n",
              "    </tr>\n",
              "    <tr>\n",
              "      <th>5</th>\n",
              "      <td>6</td>\n",
              "      <td>3</td>\n",
              "      <td>Moran, Mr. James</td>\n",
              "      <td>male</td>\n",
              "      <td>NaN</td>\n",
              "      <td>0</td>\n",
              "      <td>0</td>\n",
              "      <td>330877</td>\n",
              "      <td>8.4583</td>\n",
              "      <td>NaN</td>\n",
              "      <td>Q</td>\n",
              "      <td>0</td>\n",
              "    </tr>\n",
              "    <tr>\n",
              "      <th>7</th>\n",
              "      <td>8</td>\n",
              "      <td>3</td>\n",
              "      <td>Palsson, Master. Gosta Leonard</td>\n",
              "      <td>male</td>\n",
              "      <td>2.0</td>\n",
              "      <td>3</td>\n",
              "      <td>1</td>\n",
              "      <td>349909</td>\n",
              "      <td>21.0750</td>\n",
              "      <td>NaN</td>\n",
              "      <td>S</td>\n",
              "      <td>0</td>\n",
              "    </tr>\n",
              "    <tr>\n",
              "      <th>...</th>\n",
              "      <td>...</td>\n",
              "      <td>...</td>\n",
              "      <td>...</td>\n",
              "      <td>...</td>\n",
              "      <td>...</td>\n",
              "      <td>...</td>\n",
              "      <td>...</td>\n",
              "      <td>...</td>\n",
              "      <td>...</td>\n",
              "      <td>...</td>\n",
              "      <td>...</td>\n",
              "      <td>...</td>\n",
              "    </tr>\n",
              "    <tr>\n",
              "      <th>884</th>\n",
              "      <td>885</td>\n",
              "      <td>3</td>\n",
              "      <td>Sutehall, Mr. Henry Jr</td>\n",
              "      <td>male</td>\n",
              "      <td>25.0</td>\n",
              "      <td>0</td>\n",
              "      <td>0</td>\n",
              "      <td>SOTON/OQ 392076</td>\n",
              "      <td>7.0500</td>\n",
              "      <td>NaN</td>\n",
              "      <td>S</td>\n",
              "      <td>0</td>\n",
              "    </tr>\n",
              "    <tr>\n",
              "      <th>885</th>\n",
              "      <td>886</td>\n",
              "      <td>3</td>\n",
              "      <td>Rice, Mrs. William (Margaret Norton)</td>\n",
              "      <td>female</td>\n",
              "      <td>39.0</td>\n",
              "      <td>0</td>\n",
              "      <td>5</td>\n",
              "      <td>382652</td>\n",
              "      <td>29.1250</td>\n",
              "      <td>NaN</td>\n",
              "      <td>Q</td>\n",
              "      <td>0</td>\n",
              "    </tr>\n",
              "    <tr>\n",
              "      <th>886</th>\n",
              "      <td>887</td>\n",
              "      <td>2</td>\n",
              "      <td>Montvila, Rev. Juozas</td>\n",
              "      <td>male</td>\n",
              "      <td>27.0</td>\n",
              "      <td>0</td>\n",
              "      <td>0</td>\n",
              "      <td>211536</td>\n",
              "      <td>13.0000</td>\n",
              "      <td>NaN</td>\n",
              "      <td>S</td>\n",
              "      <td>0</td>\n",
              "    </tr>\n",
              "    <tr>\n",
              "      <th>888</th>\n",
              "      <td>889</td>\n",
              "      <td>3</td>\n",
              "      <td>Johnston, Miss. Catherine Helen \"Carrie\"</td>\n",
              "      <td>female</td>\n",
              "      <td>NaN</td>\n",
              "      <td>1</td>\n",
              "      <td>2</td>\n",
              "      <td>W./C. 6607</td>\n",
              "      <td>23.4500</td>\n",
              "      <td>NaN</td>\n",
              "      <td>S</td>\n",
              "      <td>0</td>\n",
              "    </tr>\n",
              "    <tr>\n",
              "      <th>890</th>\n",
              "      <td>891</td>\n",
              "      <td>3</td>\n",
              "      <td>Dooley, Mr. Patrick</td>\n",
              "      <td>male</td>\n",
              "      <td>32.0</td>\n",
              "      <td>0</td>\n",
              "      <td>0</td>\n",
              "      <td>370376</td>\n",
              "      <td>7.7500</td>\n",
              "      <td>NaN</td>\n",
              "      <td>Q</td>\n",
              "      <td>0</td>\n",
              "    </tr>\n",
              "  </tbody>\n",
              "</table>\n",
              "<p>687 rows × 12 columns</p>\n",
              "</div>"
            ],
            "text/plain": [
              "     PassengerId  Pclass  ... Embarked Survived\n",
              "0              1       3  ...        S        0\n",
              "2              3       3  ...        S        1\n",
              "4              5       3  ...        S        0\n",
              "5              6       3  ...        Q        0\n",
              "7              8       3  ...        S        0\n",
              "..           ...     ...  ...      ...      ...\n",
              "884          885       3  ...        S        0\n",
              "885          886       3  ...        Q        0\n",
              "886          887       2  ...        S        0\n",
              "888          889       3  ...        S        0\n",
              "890          891       3  ...        Q        0\n",
              "\n",
              "[687 rows x 12 columns]"
            ]
          },
          "metadata": {},
          "execution_count": 89
        }
      ]
    },
    {
      "cell_type": "code",
      "metadata": {
        "colab": {
          "base_uri": "https://localhost:8080/",
          "height": 281
        },
        "id": "n-GOnVxUWvwS",
        "outputId": "b5d80a5f-f9ad-43ce-f6f4-14e7a1d74db2"
      },
      "source": [
        "sns.histplot(titanic_cabinnull, x='Survived');"
      ],
      "execution_count": 90,
      "outputs": [
        {
          "output_type": "display_data",
          "data": {
            "image/png": "[encoded data removed]",
            "text/plain": [
              "<Figure size 432x288 with 1 Axes>"
            ]
          },
          "metadata": {
            "needs_background": "light"
          }
        }
      ]
    },
    {
      "cell_type": "markdown",
      "metadata": {
        "id": "Z95lE5Xn468P"
      },
      "source": [
        "A maioria dos passageiros que tem sua informação de cabine faltando não sobreviveu. No entanto, na nossa base geral isso já era a maioria então isso não nos dá nenhuma dica sobre o moitvo para estarem falatando."
      ]
    },
    {
      "cell_type": "code",
      "metadata": {
        "colab": {
          "base_uri": "https://localhost:8080/",
          "height": 282
        },
        "id": "-0_r5ATGWvwS",
        "outputId": "c602d1e4-b543-46fe-aeb2-c8cdb44a305f"
      },
      "source": [
        "sns.countplot(titanic_cabinnull['Pclass'], label=\"Count\");"
      ],
      "execution_count": 91,
      "outputs": [
        {
          "output_type": "display_data",
          "data": {
            "image/png": "[encoded data removed]",
            "text/plain": [
              "<Figure size 432x288 with 1 Axes>"
            ]
          },
          "metadata": {
            "needs_background": "light"
          }
        }
      ]
    },
    {
      "cell_type": "markdown",
      "metadata": {
        "id": "G1HjLLw85cwd"
      },
      "source": [
        "Agora esse gráfico da variável 'Pclass' já nos dá uma ideia, por que maior parte dos registro de cabine faltantes é da 3ª classe e isso pode se dever pelo fato de ser a classe menos abastada e muito provavelmente essas pessoas nem tinham cabine como no caso da 1ª e 2ª classe."
      ]
    },
    {
      "cell_type": "code",
      "metadata": {
        "colab": {
          "base_uri": "https://localhost:8080/",
          "height": 265
        },
        "id": "VSOhNuQ2WvwT",
        "outputId": "5a17de00-7378-4f43-f230-52d01354baa8"
      },
      "source": [
        "plt.hist(x = titanic_cabinnull['Fare']);"
      ],
      "execution_count": 92,
      "outputs": [
        {
          "output_type": "display_data",
          "data": {
            "image/png": "[encoded data removed]",
            "text/plain": [
              "<Figure size 432x288 with 1 Axes>"
            ]
          },
          "metadata": {
            "needs_background": "light"
          }
        }
      ]
    },
    {
      "cell_type": "markdown",
      "metadata": {
        "id": "hrPSDxlt6_kx"
      },
      "source": [
        "Analisando pela taxa paga nas passagens vai de acordo com a nossa hipótese ou seja, 3ª classe, pessoas menos abastadas e taxas mais baratas."
      ]
    },
    {
      "cell_type": "markdown",
      "metadata": {
        "id": "kl6HjZSg7hFp"
      },
      "source": [
        "Certo. Então vamos começar a tratar nossos nulos, visando perder a menor quantidade de dados possível."
      ]
    },
    {
      "cell_type": "code",
      "metadata": {
        "colab": {
          "base_uri": "https://localhost:8080/"
        },
        "id": "zdcNqKsrWvwU",
        "outputId": "7b00d5bf-b862-449d-fc57-82b38e37728f"
      },
      "source": [
        "titanic_teste.isnull().sum()"
      ],
      "execution_count": 93,
      "outputs": [
        {
          "output_type": "execute_result",
          "data": {
            "text/plain": [
              "PassengerId      0\n",
              "Pclass           0\n",
              "Name             0\n",
              "Sex              0\n",
              "Age             86\n",
              "SibSp            0\n",
              "Parch            0\n",
              "Ticket           0\n",
              "Fare             1\n",
              "Cabin          327\n",
              "Embarked         0\n",
              "dtype: int64"
            ]
          },
          "metadata": {},
          "execution_count": 93
        }
      ]
    },
    {
      "cell_type": "code",
      "metadata": {
        "colab": {
          "base_uri": "https://localhost:8080/",
          "height": 423
        },
        "id": "5eG8lOvpWvwU",
        "outputId": "3a8b53e3-2ef2-43eb-f846-6169b2e28c0e"
      },
      "source": [
        "titanic_treinamento.loc[pd.isnull(titanic_treinamento['Age'])]"
      ],
      "execution_count": 94,
      "outputs": [
        {
          "output_type": "execute_result",
          "data": {
            "text/html": [
              "<div>\n",
              "<style scoped>\n",
              "    .dataframe tbody tr th:only-of-type {\n",
              "        vertical-align: middle;\n",
              "    }\n",
              "\n",
              "    .dataframe tbody tr th {\n",
              "        vertical-align: top;\n",
              "    }\n",
              "\n",
              "    .dataframe thead th {\n",
              "        text-align: right;\n",
              "    }\n",
              "</style>\n",
              "<table border=\"1\" class=\"dataframe\">\n",
              "  <thead>\n",
              "    <tr style=\"text-align: right;\">\n",
              "      <th></th>\n",
              "      <th>PassengerId</th>\n",
              "      <th>Pclass</th>\n",
              "      <th>Name</th>\n",
              "      <th>Sex</th>\n",
              "      <th>Age</th>\n",
              "      <th>SibSp</th>\n",
              "      <th>Parch</th>\n",
              "      <th>Ticket</th>\n",
              "      <th>Fare</th>\n",
              "      <th>Cabin</th>\n",
              "      <th>Embarked</th>\n",
              "      <th>Survived</th>\n",
              "    </tr>\n",
              "  </thead>\n",
              "  <tbody>\n",
              "    <tr>\n",
              "      <th>5</th>\n",
              "      <td>6</td>\n",
              "      <td>3</td>\n",
              "      <td>Moran, Mr. James</td>\n",
              "      <td>male</td>\n",
              "      <td>NaN</td>\n",
              "      <td>0</td>\n",
              "      <td>0</td>\n",
              "      <td>330877</td>\n",
              "      <td>8.4583</td>\n",
              "      <td>NaN</td>\n",
              "      <td>Q</td>\n",
              "      <td>0</td>\n",
              "    </tr>\n",
              "    <tr>\n",
              "      <th>17</th>\n",
              "      <td>18</td>\n",
              "      <td>2</td>\n",
              "      <td>Williams, Mr. Charles Eugene</td>\n",
              "      <td>male</td>\n",
              "      <td>NaN</td>\n",
              "      <td>0</td>\n",
              "      <td>0</td>\n",
              "      <td>244373</td>\n",
              "      <td>13.0000</td>\n",
              "      <td>NaN</td>\n",
              "      <td>S</td>\n",
              "      <td>1</td>\n",
              "    </tr>\n",
              "    <tr>\n",
              "      <th>19</th>\n",
              "      <td>20</td>\n",
              "      <td>3</td>\n",
              "      <td>Masselmani, Mrs. Fatima</td>\n",
              "      <td>female</td>\n",
              "      <td>NaN</td>\n",
              "      <td>0</td>\n",
              "      <td>0</td>\n",
              "      <td>2649</td>\n",
              "      <td>7.2250</td>\n",
              "      <td>NaN</td>\n",
              "      <td>C</td>\n",
              "      <td>1</td>\n",
              "    </tr>\n",
              "    <tr>\n",
              "      <th>26</th>\n",
              "      <td>27</td>\n",
              "      <td>3</td>\n",
              "      <td>Emir, Mr. Farred Chehab</td>\n",
              "      <td>male</td>\n",
              "      <td>NaN</td>\n",
              "      <td>0</td>\n",
              "      <td>0</td>\n",
              "      <td>2631</td>\n",
              "      <td>7.2250</td>\n",
              "      <td>NaN</td>\n",
              "      <td>C</td>\n",
              "      <td>0</td>\n",
              "    </tr>\n",
              "    <tr>\n",
              "      <th>28</th>\n",
              "      <td>29</td>\n",
              "      <td>3</td>\n",
              "      <td>O'Dwyer, Miss. Ellen \"Nellie\"</td>\n",
              "      <td>female</td>\n",
              "      <td>NaN</td>\n",
              "      <td>0</td>\n",
              "      <td>0</td>\n",
              "      <td>330959</td>\n",
              "      <td>7.8792</td>\n",
              "      <td>NaN</td>\n",
              "      <td>Q</td>\n",
              "      <td>1</td>\n",
              "    </tr>\n",
              "    <tr>\n",
              "      <th>...</th>\n",
              "      <td>...</td>\n",
              "      <td>...</td>\n",
              "      <td>...</td>\n",
              "      <td>...</td>\n",
              "      <td>...</td>\n",
              "      <td>...</td>\n",
              "      <td>...</td>\n",
              "      <td>...</td>\n",
              "      <td>...</td>\n",
              "      <td>...</td>\n",
              "      <td>...</td>\n",
              "      <td>...</td>\n",
              "    </tr>\n",
              "    <tr>\n",
              "      <th>859</th>\n",
              "      <td>860</td>\n",
              "      <td>3</td>\n",
              "      <td>Razi, Mr. Raihed</td>\n",
              "      <td>male</td>\n",
              "      <td>NaN</td>\n",
              "      <td>0</td>\n",
              "      <td>0</td>\n",
              "      <td>2629</td>\n",
              "      <td>7.2292</td>\n",
              "      <td>NaN</td>\n",
              "      <td>C</td>\n",
              "      <td>0</td>\n",
              "    </tr>\n",
              "    <tr>\n",
              "      <th>863</th>\n",
              "      <td>864</td>\n",
              "      <td>3</td>\n",
              "      <td>Sage, Miss. Dorothy Edith \"Dolly\"</td>\n",
              "      <td>female</td>\n",
              "      <td>NaN</td>\n",
              "      <td>8</td>\n",
              "      <td>2</td>\n",
              "      <td>CA. 2343</td>\n",
              "      <td>69.5500</td>\n",
              "      <td>NaN</td>\n",
              "      <td>S</td>\n",
              "      <td>0</td>\n",
              "    </tr>\n",
              "    <tr>\n",
              "      <th>868</th>\n",
              "      <td>869</td>\n",
              "      <td>3</td>\n",
              "      <td>van Melkebeke, Mr. Philemon</td>\n",
              "      <td>male</td>\n",
              "      <td>NaN</td>\n",
              "      <td>0</td>\n",
              "      <td>0</td>\n",
              "      <td>345777</td>\n",
              "      <td>9.5000</td>\n",
              "      <td>NaN</td>\n",
              "      <td>S</td>\n",
              "      <td>0</td>\n",
              "    </tr>\n",
              "    <tr>\n",
              "      <th>878</th>\n",
              "      <td>879</td>\n",
              "      <td>3</td>\n",
              "      <td>Laleff, Mr. Kristo</td>\n",
              "      <td>male</td>\n",
              "      <td>NaN</td>\n",
              "      <td>0</td>\n",
              "      <td>0</td>\n",
              "      <td>349217</td>\n",
              "      <td>7.8958</td>\n",
              "      <td>NaN</td>\n",
              "      <td>S</td>\n",
              "      <td>0</td>\n",
              "    </tr>\n",
              "    <tr>\n",
              "      <th>888</th>\n",
              "      <td>889</td>\n",
              "      <td>3</td>\n",
              "      <td>Johnston, Miss. Catherine Helen \"Carrie\"</td>\n",
              "      <td>female</td>\n",
              "      <td>NaN</td>\n",
              "      <td>1</td>\n",
              "      <td>2</td>\n",
              "      <td>W./C. 6607</td>\n",
              "      <td>23.4500</td>\n",
              "      <td>NaN</td>\n",
              "      <td>S</td>\n",
              "      <td>0</td>\n",
              "    </tr>\n",
              "  </tbody>\n",
              "</table>\n",
              "<p>177 rows × 12 columns</p>\n",
              "</div>"
            ],
            "text/plain": [
              "     PassengerId  Pclass  ... Embarked Survived\n",
              "5              6       3  ...        Q        0\n",
              "17            18       2  ...        S        1\n",
              "19            20       3  ...        C        1\n",
              "26            27       3  ...        C        0\n",
              "28            29       3  ...        Q        1\n",
              "..           ...     ...  ...      ...      ...\n",
              "859          860       3  ...        C        0\n",
              "863          864       3  ...        S        0\n",
              "868          869       3  ...        S        0\n",
              "878          879       3  ...        S        0\n",
              "888          889       3  ...        S        0\n",
              "\n",
              "[177 rows x 12 columns]"
            ]
          },
          "metadata": {},
          "execution_count": 94
        }
      ]
    },
    {
      "cell_type": "markdown",
      "metadata": {
        "id": "Ioaat79F72kH"
      },
      "source": [
        "Como a variável 'Age' é uma variável numérica um dos métodos que podemos utilizar aqui é substituindo os valores faltantes pela média, assim não criamos nenhum viés diferente do original na nossa base."
      ]
    },
    {
      "cell_type": "code",
      "metadata": {
        "id": "mV7HtQ9CWvwU"
      },
      "source": [
        "titanic_treinamento['Age'].fillna(titanic_treinamento['Age'].mean(), inplace = True)\n",
        "titanic_teste['Age'].fillna(titanic_teste['Age'].mean(), inplace = True)"
      ],
      "execution_count": 95,
      "outputs": []
    },
    {
      "cell_type": "markdown",
      "metadata": {
        "id": "4ks9Dv_y9duA"
      },
      "source": [
        "No caso da variável 'Fare' da base de teste era apenas um linha com o valor faltante então nesse caso eu simplesmente deletei o registro."
      ]
    },
    {
      "cell_type": "code",
      "metadata": {
        "id": "UVhPgEhhWvwV"
      },
      "source": [
        "titanic_teste['Fare'].fillna(titanic_teste['Fare'].mean(), inplace = True)"
      ],
      "execution_count": 96,
      "outputs": []
    },
    {
      "cell_type": "code",
      "metadata": {
        "colab": {
          "base_uri": "https://localhost:8080/"
        },
        "id": "EuY-v0JRWvwV",
        "outputId": "3ce3be2d-af51-450d-bc4b-1471e55485ad"
      },
      "source": [
        "titanic_treinamento.isnull().sum()"
      ],
      "execution_count": 97,
      "outputs": [
        {
          "output_type": "execute_result",
          "data": {
            "text/plain": [
              "PassengerId      0\n",
              "Pclass           0\n",
              "Name             0\n",
              "Sex              0\n",
              "Age              0\n",
              "SibSp            0\n",
              "Parch            0\n",
              "Ticket           0\n",
              "Fare             0\n",
              "Cabin          687\n",
              "Embarked         2\n",
              "Survived         0\n",
              "dtype: int64"
            ]
          },
          "metadata": {},
          "execution_count": 97
        }
      ]
    },
    {
      "cell_type": "code",
      "metadata": {
        "colab": {
          "base_uri": "https://localhost:8080/"
        },
        "id": "rLN9PXCQWvwV",
        "outputId": "4646f302-3734-4589-d19f-07c917219db6"
      },
      "source": [
        "titanic_teste.isnull().sum()"
      ],
      "execution_count": 98,
      "outputs": [
        {
          "output_type": "execute_result",
          "data": {
            "text/plain": [
              "PassengerId      0\n",
              "Pclass           0\n",
              "Name             0\n",
              "Sex              0\n",
              "Age              0\n",
              "SibSp            0\n",
              "Parch            0\n",
              "Ticket           0\n",
              "Fare             0\n",
              "Cabin          327\n",
              "Embarked         0\n",
              "dtype: int64"
            ]
          },
          "metadata": {},
          "execution_count": 98
        }
      ]
    },
    {
      "cell_type": "markdown",
      "metadata": {
        "id": "dB33xaUp9uK7"
      },
      "source": [
        "Também afim de simplificar minha análise resolvi desconsiderar as variável 'Ticket' pois acredito que não existe nenhuma informação importante a ser retirada do código do ticket."
      ]
    },
    {
      "cell_type": "code",
      "metadata": {
        "id": "_en0qGlJWvwV"
      },
      "source": [
        "titanic_treinamento2 = titanic_treinamento.drop('Ticket', axis = 1)\n",
        "titanic_teste2 = titanic_teste.drop('Ticket', axis = 1)"
      ],
      "execution_count": 99,
      "outputs": []
    },
    {
      "cell_type": "code",
      "metadata": {
        "colab": {
          "base_uri": "https://localhost:8080/"
        },
        "id": "fqm9x-W_WvwW",
        "outputId": "4200854d-9d34-4d47-b075-ded4ac5049fc"
      },
      "source": [
        "titanic_treinamento2.isnull().sum()"
      ],
      "execution_count": 100,
      "outputs": [
        {
          "output_type": "execute_result",
          "data": {
            "text/plain": [
              "PassengerId      0\n",
              "Pclass           0\n",
              "Name             0\n",
              "Sex              0\n",
              "Age              0\n",
              "SibSp            0\n",
              "Parch            0\n",
              "Fare             0\n",
              "Cabin          687\n",
              "Embarked         2\n",
              "Survived         0\n",
              "dtype: int64"
            ]
          },
          "metadata": {},
          "execution_count": 100
        }
      ]
    },
    {
      "cell_type": "code",
      "metadata": {
        "colab": {
          "base_uri": "https://localhost:8080/"
        },
        "id": "_98XyA30WvwW",
        "outputId": "b4ee3731-55ac-4ab1-fba8-acb9a1660d15"
      },
      "source": [
        "titanic_teste2.isnull().sum()"
      ],
      "execution_count": 101,
      "outputs": [
        {
          "output_type": "execute_result",
          "data": {
            "text/plain": [
              "PassengerId      0\n",
              "Pclass           0\n",
              "Name             0\n",
              "Sex              0\n",
              "Age              0\n",
              "SibSp            0\n",
              "Parch            0\n",
              "Fare             0\n",
              "Cabin          327\n",
              "Embarked         0\n",
              "dtype: int64"
            ]
          },
          "metadata": {},
          "execution_count": 101
        }
      ]
    },
    {
      "cell_type": "markdown",
      "metadata": {
        "id": "ZZ9MnqrF-CJN"
      },
      "source": [
        "A mesma coisa que fiz com 'Fare' da base de teste vou fazer com 'Embarked' da base de treinamento."
      ]
    },
    {
      "cell_type": "code",
      "metadata": {
        "id": "a_jeyJg-WvwW"
      },
      "source": [
        "titanic_treinamento3 = titanic_treinamento2.dropna(subset=['Embarked'])\n",
        "titanic_teste3 = titanic_teste2 #apenas para deixar os dois nomes parecidos"
      ],
      "execution_count": 102,
      "outputs": []
    },
    {
      "cell_type": "code",
      "metadata": {
        "colab": {
          "base_uri": "https://localhost:8080/"
        },
        "id": "6fZ2c5MgWvwW",
        "outputId": "188e8b12-9c48-409a-d024-f204a906b690"
      },
      "source": [
        "titanic_treinamento3.isnull().sum()"
      ],
      "execution_count": 103,
      "outputs": [
        {
          "output_type": "execute_result",
          "data": {
            "text/plain": [
              "PassengerId      0\n",
              "Pclass           0\n",
              "Name             0\n",
              "Sex              0\n",
              "Age              0\n",
              "SibSp            0\n",
              "Parch            0\n",
              "Fare             0\n",
              "Cabin          687\n",
              "Embarked         0\n",
              "Survived         0\n",
              "dtype: int64"
            ]
          },
          "metadata": {},
          "execution_count": 103
        }
      ]
    },
    {
      "cell_type": "code",
      "metadata": {
        "colab": {
          "base_uri": "https://localhost:8080/"
        },
        "id": "mIotBEaIWvwW",
        "outputId": "5f9d8e62-0035-4b68-99a9-fa0494845400"
      },
      "source": [
        "titanic_teste3.isnull().sum()"
      ],
      "execution_count": 104,
      "outputs": [
        {
          "output_type": "execute_result",
          "data": {
            "text/plain": [
              "PassengerId      0\n",
              "Pclass           0\n",
              "Name             0\n",
              "Sex              0\n",
              "Age              0\n",
              "SibSp            0\n",
              "Parch            0\n",
              "Fare             0\n",
              "Cabin          327\n",
              "Embarked         0\n",
              "dtype: int64"
            ]
          },
          "metadata": {},
          "execution_count": 104
        }
      ]
    },
    {
      "cell_type": "markdown",
      "metadata": {
        "id": "x1bua3cF_M9r"
      },
      "source": [
        "A princípio como a informação de cabine tinhas muitos valores faltantes eu ia simplesmente deletar, porém vendo alguns exemplos na internet descobri que poderia tirar algumas informações interessantes dessa variável.\n",
        "Basicamente o que ocorre é que a primeira letra do código de cabine indica a posição no Titanic dessas cabines. Então como a primeira classe tinha as cabines A, B ou C, a segunda em D ou E e a terceira classe era principalmente na F ou G, essa informação pode ser muito importante na hora da previsão."
      ]
    },
    {
      "cell_type": "markdown",
      "metadata": {
        "id": "qMZW7ylJBLpC"
      },
      "source": [
        "Basicamente vou tratar essa variável em duas etapas, primeiro vou criar uma nova categoria para os valores faltantes e mais adiante vou extrair do código das cabines apenas as letras."
      ]
    },
    {
      "cell_type": "code",
      "metadata": {
        "id": "2v5h0ivJWvwX"
      },
      "source": [
        "titanic_treinamento3['Cabin'] = titanic_treinamento3['Cabin'].fillna(\"U0\")\n",
        "titanic_teste3['Cabin'] = titanic_teste3['Cabin'].fillna(\"U0\")"
      ],
      "execution_count": 105,
      "outputs": []
    },
    {
      "cell_type": "code",
      "metadata": {
        "colab": {
          "base_uri": "https://localhost:8080/"
        },
        "id": "SvkqvoqeWvwX",
        "outputId": "42feb4fc-36c9-4c1e-b9d2-d21037baaa53"
      },
      "source": [
        "titanic_treinamento3.isnull().sum()"
      ],
      "execution_count": 106,
      "outputs": [
        {
          "output_type": "execute_result",
          "data": {
            "text/plain": [
              "PassengerId    0\n",
              "Pclass         0\n",
              "Name           0\n",
              "Sex            0\n",
              "Age            0\n",
              "SibSp          0\n",
              "Parch          0\n",
              "Fare           0\n",
              "Cabin          0\n",
              "Embarked       0\n",
              "Survived       0\n",
              "dtype: int64"
            ]
          },
          "metadata": {},
          "execution_count": 106
        }
      ]
    },
    {
      "cell_type": "code",
      "metadata": {
        "colab": {
          "base_uri": "https://localhost:8080/"
        },
        "id": "2cDlmD2QWvwX",
        "outputId": "ec3750fc-d6da-43a2-839b-ff83ab4b8e84"
      },
      "source": [
        "titanic_teste3.isnull().sum()"
      ],
      "execution_count": 107,
      "outputs": [
        {
          "output_type": "execute_result",
          "data": {
            "text/plain": [
              "PassengerId    0\n",
              "Pclass         0\n",
              "Name           0\n",
              "Sex            0\n",
              "Age            0\n",
              "SibSp          0\n",
              "Parch          0\n",
              "Fare           0\n",
              "Cabin          0\n",
              "Embarked       0\n",
              "dtype: int64"
            ]
          },
          "metadata": {},
          "execution_count": 107
        }
      ]
    },
    {
      "cell_type": "markdown",
      "metadata": {
        "id": "bYxb93XIB8vk"
      },
      "source": [
        "Ótimo agora que já tratamos todos os valores faltantes podemos seguir com algum 'feature engineering'."
      ]
    },
    {
      "cell_type": "markdown",
      "metadata": {
        "id": "hQh-GBlaDBCI"
      },
      "source": [
        "## Feature engineering"
      ]
    },
    {
      "cell_type": "markdown",
      "metadata": {
        "id": "34bGhzWbDQJ5"
      },
      "source": [
        "Vamos começar deletando a a coluna de ID por que ela só serve como identificador de cada passageiro listado na base."
      ]
    },
    {
      "cell_type": "code",
      "metadata": {
        "id": "v30O3M-qWvwY"
      },
      "source": [
        "titanic_treinamento3 = titanic_treinamento3.drop('PassengerId', axis = 1)\n",
        "titanic_teste3 = titanic_teste3.drop('PassengerId', axis = 1)"
      ],
      "execution_count": 108,
      "outputs": []
    },
    {
      "cell_type": "markdown",
      "metadata": {
        "id": "Cck5F7oUDb7j"
      },
      "source": [
        "A variável nome do passageiro a princípio não nos trás muita informação, entretanto, além do nome da pessoa a variável vem com o título da pessoa que indica o status social, sendo assim vou extrair apenas o título dos passageiros."
      ]
    },
    {
      "cell_type": "code",
      "metadata": {
        "id": "U8vrWlXsWvwY"
      },
      "source": [
        "titanic_treinamento3['Title'] = titanic_treinamento3['Name'].str.extract('(\\w*\\.)', expand=False)\n",
        "titanic_teste3['Title'] = titanic_teste3['Name'].str.extract('(\\w*\\.)', expand=False)"
      ],
      "execution_count": 109,
      "outputs": []
    },
    {
      "cell_type": "markdown",
      "metadata": {
        "id": "P5FvNtpBFupm"
      },
      "source": [
        "Assim podemos desconsiderar a variável 'Name' e ficar apenas com a 'Title'."
      ]
    },
    {
      "cell_type": "code",
      "metadata": {
        "id": "1fcu8rD4WvwY"
      },
      "source": [
        "titanic_treinamento4 = titanic_treinamento3.drop('Name', axis = 1)\n",
        "titanic_teste4 = titanic_teste3.drop('Name', axis = 1)"
      ],
      "execution_count": 110,
      "outputs": []
    },
    {
      "cell_type": "code",
      "metadata": {
        "id": "b5OXRDUcWvwZ"
      },
      "source": [
        "titanic_treinamento4 = titanic_treinamento4.reindex(columns = ['Pclass', 'Title', 'Sex', 'Age', 'SibSp', 'Parch', 'Fare', 'Cabin', 'Embarked', 'Survived'])\n",
        "titanic_teste4 = titanic_teste4.reindex(columns = ['Pclass', 'Title', 'Sex', 'Age', 'SibSp', 'Parch', 'Fare', 'Cabin', 'Embarked', 'Survived'])"
      ],
      "execution_count": 111,
      "outputs": []
    },
    {
      "cell_type": "markdown",
      "metadata": {
        "id": "vtiLHAVrGHqT"
      },
      "source": [
        "Em uma contagem rápida da frequência de cada título verificamos que tem muitos títulos."
      ]
    },
    {
      "cell_type": "code",
      "metadata": {
        "colab": {
          "base_uri": "https://localhost:8080/"
        },
        "id": "2M_Pc4nBWvwZ",
        "outputId": "545301a0-1f4a-49fd-f48e-d084e781f758"
      },
      "source": [
        "titanic_treinamento4.groupby('Title')['Title'].count()"
      ],
      "execution_count": 112,
      "outputs": [
        {
          "output_type": "execute_result",
          "data": {
            "text/plain": [
              "Title\n",
              "Capt.          1\n",
              "Col.           2\n",
              "Countess.      1\n",
              "Don.           1\n",
              "Dr.            7\n",
              "Jonkheer.      1\n",
              "Lady.          1\n",
              "Major.         2\n",
              "Master.       40\n",
              "Miss.        181\n",
              "Mlle.          2\n",
              "Mme.           1\n",
              "Mr.          517\n",
              "Mrs.         124\n",
              "Ms.            1\n",
              "Rev.           6\n",
              "Sir.           1\n",
              "Name: Title, dtype: int64"
            ]
          },
          "metadata": {},
          "execution_count": 112
        }
      ]
    },
    {
      "cell_type": "markdown",
      "metadata": {
        "id": "lc7gJ3tRGP2r"
      },
      "source": [
        "Sendo assim resolvi resumir esses títulos em menos categorias."
      ]
    },
    {
      "cell_type": "code",
      "metadata": {
        "id": "VmkIq76fWvwZ"
      },
      "source": [
        "titanic_treinamento4['Title']=titanic_treinamento4['Title'].map({'Capt.':'Other', 'Col.':'Other',\n",
        "                                                                 'Countess.': 'Other', 'Don.':'Other', \n",
        "                                                                 'Dr.':'Other', 'Jonkheer.':'Other',\n",
        "                                                                 'Lady.':'Other', 'Major.': 'Other',\n",
        "                                                                 'Master.': 'Master.', 'Miss.':'Miss.',\n",
        "                                                                 'Mlle.':'Other', 'Mme.':'Other', 'Mr.':'Mr.',\n",
        "                                                                 'Mrs.':'Mrs.', 'Ms.':'Other', 'Rev.':'Other',\n",
        "                                                                 'Sir.':'Other'})"
      ],
      "execution_count": 113,
      "outputs": []
    },
    {
      "cell_type": "code",
      "metadata": {
        "colab": {
          "base_uri": "https://localhost:8080/"
        },
        "id": "0PQ9cD9YWvwa",
        "outputId": "64096263-ed1a-4edb-b9c4-924481c6234f"
      },
      "source": [
        "titanic_teste4.groupby('Title')['Title'].count()"
      ],
      "execution_count": 114,
      "outputs": [
        {
          "output_type": "execute_result",
          "data": {
            "text/plain": [
              "Title\n",
              "Col.         2\n",
              "Dona.        1\n",
              "Dr.          1\n",
              "Master.     21\n",
              "Miss.       78\n",
              "Mr.        240\n",
              "Mrs.        72\n",
              "Ms.          1\n",
              "Rev.         2\n",
              "Name: Title, dtype: int64"
            ]
          },
          "metadata": {},
          "execution_count": 114
        }
      ]
    },
    {
      "cell_type": "code",
      "metadata": {
        "id": "oLjTQ1SGWvwa"
      },
      "source": [
        "titanic_teste4['Title']=titanic_teste4['Title'].map({'Col.':'Other','Dona.':'Other', \n",
        "                                                      'Dr.':'Other','Master.': 'Master.',\n",
        "                                                      'Miss.':'Miss.','Mr.':'Mr.',\n",
        "                                                      'Mrs.':'Mrs.', 'Ms.':'Other', \n",
        "                                                      'Rev.':'Other'})"
      ],
      "execution_count": 115,
      "outputs": []
    },
    {
      "cell_type": "markdown",
      "metadata": {
        "id": "3OwBC5hEMtqf"
      },
      "source": [
        "SibSp e Parch fariam mais sentido juntos mostrando o número total de parentes que uma pessoa tem e assim apenas indicando se alguém estava ou não sozinho."
      ]
    },
    {
      "cell_type": "code",
      "metadata": {
        "id": "w1rYH9tLWvwa"
      },
      "source": [
        "titanic_treinamento4['Relatives'] = titanic_treinamento4['SibSp'] + titanic_treinamento4['Parch']\n",
        "titanic_treinamento4['Relatives'].loc[titanic_treinamento4['Relatives'] > 0] = 'not_alone'\n",
        "titanic_treinamento4['Relatives'].loc[titanic_treinamento4['Relatives'] == 0] = 'alone'"
      ],
      "execution_count": 116,
      "outputs": []
    },
    {
      "cell_type": "code",
      "metadata": {
        "colab": {
          "base_uri": "https://localhost:8080/",
          "height": 112
        },
        "id": "WGJ-RI9ZWvwa",
        "outputId": "a84da89a-0801-4f40-af6f-6390f1f77fb5"
      },
      "source": [
        "titanic_treinamento4[['Relatives', 'Survived']].groupby(['Relatives'], as_index=False).count()"
      ],
      "execution_count": 117,
      "outputs": [
        {
          "output_type": "execute_result",
          "data": {
            "text/html": [
              "<div>\n",
              "<style scoped>\n",
              "    .dataframe tbody tr th:only-of-type {\n",
              "        vertical-align: middle;\n",
              "    }\n",
              "\n",
              "    .dataframe tbody tr th {\n",
              "        vertical-align: top;\n",
              "    }\n",
              "\n",
              "    .dataframe thead th {\n",
              "        text-align: right;\n",
              "    }\n",
              "</style>\n",
              "<table border=\"1\" class=\"dataframe\">\n",
              "  <thead>\n",
              "    <tr style=\"text-align: right;\">\n",
              "      <th></th>\n",
              "      <th>Relatives</th>\n",
              "      <th>Survived</th>\n",
              "    </tr>\n",
              "  </thead>\n",
              "  <tbody>\n",
              "    <tr>\n",
              "      <th>0</th>\n",
              "      <td>alone</td>\n",
              "      <td>535</td>\n",
              "    </tr>\n",
              "    <tr>\n",
              "      <th>1</th>\n",
              "      <td>not_alone</td>\n",
              "      <td>354</td>\n",
              "    </tr>\n",
              "  </tbody>\n",
              "</table>\n",
              "</div>"
            ],
            "text/plain": [
              "   Relatives  Survived\n",
              "0      alone       535\n",
              "1  not_alone       354"
            ]
          },
          "metadata": {},
          "execution_count": 117
        }
      ]
    },
    {
      "cell_type": "markdown",
      "metadata": {
        "id": "baNgmeGWNdrZ"
      },
      "source": [
        "Podemos verificar que maior parte das pessoas que sobreviveram estavam sozinhas."
      ]
    },
    {
      "cell_type": "code",
      "metadata": {
        "id": "YfvmIx1QWvwb"
      },
      "source": [
        "titanic_teste4['Relatives'] = titanic_teste4['SibSp'] + titanic_teste4['Parch']\n",
        "titanic_teste4['Relatives'].loc[titanic_teste4['Relatives'] > 0] = 'not_alone'\n",
        "titanic_teste4['Relatives'].loc[titanic_teste4['Relatives'] == 0] = 'alone'"
      ],
      "execution_count": 118,
      "outputs": []
    },
    {
      "cell_type": "markdown",
      "metadata": {
        "id": "Z-JSAURDOOI6"
      },
      "source": [
        "E de novo podemos então deletar as colunas que não usaremos mais."
      ]
    },
    {
      "cell_type": "code",
      "metadata": {
        "id": "RFWSk3ntWvwb"
      },
      "source": [
        "titanic_treinamento4 = titanic_treinamento4.drop('SibSp', axis = 1)\n",
        "titanic_treinamento4 = titanic_treinamento4.drop('Parch', axis = 1)\n",
        "titanic_treinamento4 = titanic_treinamento4.reindex(columns = ['Pclass', 'Title', 'Sex', 'Age', 'Relatives',\n",
        "                                                               'Fare', 'Cabin', 'Embarked', 'Survived'])"
      ],
      "execution_count": 119,
      "outputs": []
    },
    {
      "cell_type": "code",
      "metadata": {
        "id": "Nt4LEZScWvwb"
      },
      "source": [
        "titanic_teste4 = titanic_teste4.drop('SibSp', axis = 1)\n",
        "titanic_teste4 = titanic_teste4.drop('Parch', axis = 1)\n",
        "titanic_teste4 = titanic_teste4.reindex(columns = ['Pclass', 'Title', 'Sex', 'Age', 'Relatives',\n",
        "                                                               'Fare', 'Cabin', 'Embarked', 'Survived'])"
      ],
      "execution_count": 120,
      "outputs": []
    },
    {
      "cell_type": "markdown",
      "metadata": {
        "id": "L4gTp9heO8xQ"
      },
      "source": [
        "Bom enfim vou extrair a informação da variável 'Cabin' a primeira letra vai indicar a posição no deck que a cabine se encontrava."
      ]
    },
    {
      "cell_type": "code",
      "metadata": {
        "id": "cNqLVstRWvwc"
      },
      "source": [
        "titanic_treinamento4['Deck'] = titanic_treinamento4['Cabin'].str.extract('(\\D)', expand=False)\n",
        "titanic_treinamento4 = titanic_treinamento4.drop('Cabin', axis = 1)\n",
        "titanic_treinamento4 = titanic_treinamento4.reindex(columns = ['Pclass', 'Title', 'Sex', 'Age', 'Relatives',\n",
        "                                                               'Fare', 'Deck', 'Embarked', 'Survived'])"
      ],
      "execution_count": 121,
      "outputs": []
    },
    {
      "cell_type": "code",
      "metadata": {
        "id": "R6eQcKQvWvwc"
      },
      "source": [
        "titanic_teste4['Deck'] = titanic_teste4['Cabin'].str.extract('(\\D)', expand=False)\n",
        "titanic_teste4 = titanic_teste4.drop('Cabin', axis = 1)\n",
        "titanic_teste4 = titanic_teste4.reindex(columns = ['Pclass', 'Title', 'Sex', 'Age', 'Relatives',\n",
        "                                                               'Fare', 'Deck', 'Embarked', 'Survived'])"
      ],
      "execution_count": 122,
      "outputs": []
    },
    {
      "cell_type": "markdown",
      "metadata": {
        "id": "bReTKUFNP-9N"
      },
      "source": [
        "Como a variável idade é uma variável contínua para processá-la vou criar faixas que irão funcionar como categorias."
      ]
    },
    {
      "cell_type": "code",
      "metadata": {
        "id": "yz-oA-AfWvwd"
      },
      "source": [
        "titanic_treinamento4['Age'] = titanic_treinamento4['Age'].astype(int)\n",
        "titanic_teste4['Age'] = titanic_teste4['Age'].astype(int)"
      ],
      "execution_count": 123,
      "outputs": []
    },
    {
      "cell_type": "code",
      "metadata": {
        "id": "UUsRxMvXWvwd"
      },
      "source": [
        "titanic_treinamento4.loc[ titanic_treinamento4['Age'] <= 11, 'Age'] = 0\n",
        "titanic_treinamento4.loc[(titanic_treinamento4['Age'] > 11) & (titanic_treinamento4['Age'] <= 18), 'Age'] = 1\n",
        "titanic_treinamento4.loc[(titanic_treinamento4['Age'] > 18) & (titanic_treinamento4['Age'] <= 22), 'Age'] = 2\n",
        "titanic_treinamento4.loc[(titanic_treinamento4['Age'] > 22) & (titanic_treinamento4['Age'] <= 27), 'Age'] = 3\n",
        "titanic_treinamento4.loc[(titanic_treinamento4['Age'] > 27) & (titanic_treinamento4['Age'] <= 33), 'Age'] = 4\n",
        "titanic_treinamento4.loc[(titanic_treinamento4['Age'] > 33) & (titanic_treinamento4['Age'] <= 40), 'Age'] = 5\n",
        "titanic_treinamento4.loc[(titanic_treinamento4['Age'] > 40) & (titanic_treinamento4['Age'] <= 66), 'Age'] = 6\n",
        "titanic_treinamento4.loc[ titanic_treinamento4['Age'] > 66, 'Age'] = 6"
      ],
      "execution_count": 124,
      "outputs": []
    },
    {
      "cell_type": "code",
      "metadata": {
        "id": "T958weOPWvwd"
      },
      "source": [
        "titanic_teste4.loc[titanic_teste4['Age'] <= 11, 'Age'] = 0\n",
        "titanic_teste4.loc[(titanic_teste4['Age'] > 11) & (titanic_teste4['Age'] <= 18), 'Age'] = 1\n",
        "titanic_teste4.loc[(titanic_teste4['Age'] > 18) & (titanic_teste4['Age'] <= 22), 'Age'] = 2\n",
        "titanic_teste4.loc[(titanic_teste4['Age'] > 22) & (titanic_teste4['Age'] <= 27), 'Age'] = 3\n",
        "titanic_teste4.loc[(titanic_teste4['Age'] > 27) & (titanic_teste4['Age'] <= 33), 'Age'] = 4\n",
        "titanic_teste4.loc[(titanic_teste4['Age'] > 33) & (titanic_teste4['Age'] <= 40), 'Age'] = 5\n",
        "titanic_teste4.loc[(titanic_teste4['Age'] > 40) & (titanic_teste4['Age'] <= 66), 'Age'] = 6\n",
        "titanic_teste4.loc[titanic_teste4['Age'] > 66, 'Age'] = 6"
      ],
      "execution_count": 125,
      "outputs": []
    },
    {
      "cell_type": "markdown",
      "metadata": {
        "id": "lClLaTnRQU6H"
      },
      "source": [
        "Para a variável 'Fare', irei fazer o mesmo que para 'Age'. Mas não é tão fácil, porque se cortar a faixa dos valores das tarifas em algumas categorias igualmente grandes, 80% dos valores cairiam na primeira categoria. Portanto, usaremos a função sklearn “qcut ()”, que irá nos auxiliar na criação das faixas.\n"
      ]
    },
    {
      "cell_type": "code",
      "metadata": {
        "colab": {
          "base_uri": "https://localhost:8080/"
        },
        "id": "_8zg92BeWvwd",
        "outputId": "ccf8f24d-6f38-4580-c68c-56799fa4142f"
      },
      "source": [
        "pd.qcut(titanic_treinamento4['Fare'], q = 5)"
      ],
      "execution_count": 126,
      "outputs": [
        {
          "output_type": "execute_result",
          "data": {
            "text/plain": [
              "0        (-0.001, 7.854]\n",
              "1      (39.688, 512.329]\n",
              "2          (7.854, 10.5]\n",
              "3      (39.688, 512.329]\n",
              "4          (7.854, 10.5]\n",
              "             ...        \n",
              "886       (10.5, 21.075]\n",
              "887     (21.075, 39.688]\n",
              "888     (21.075, 39.688]\n",
              "889     (21.075, 39.688]\n",
              "890      (-0.001, 7.854]\n",
              "Name: Fare, Length: 889, dtype: category\n",
              "Categories (5, interval[float64]): [(-0.001, 7.854] < (7.854, 10.5] < (10.5, 21.075] <\n",
              "                                    (21.075, 39.688] < (39.688, 512.329]]"
            ]
          },
          "metadata": {},
          "execution_count": 126
        }
      ]
    },
    {
      "cell_type": "code",
      "metadata": {
        "id": "W20tYp7qWvwe"
      },
      "source": [
        "titanic_treinamento4.loc[titanic_treinamento4['Fare'] <= 7.854, 'Fare'] = 0\n",
        "titanic_treinamento4.loc[(titanic_treinamento4['Fare'] > 7.857) & (titanic_treinamento4['Fare'] <= 10.5), 'Fare'] = 1\n",
        "titanic_treinamento4.loc[(titanic_treinamento4['Fare'] > 10.5) & (titanic_treinamento4['Fare'] <= 21.075), 'Fare'] = 2\n",
        "titanic_treinamento4.loc[(titanic_treinamento4['Fare'] > 21.075) & (titanic_treinamento4['Fare'] <= 39.688), 'Fare'] = 3\n",
        "titanic_treinamento4.loc[(titanic_treinamento4['Fare'] > 39.688) & (titanic_treinamento4['Fare'] <= 512.329), 'Fare'] = 4\n",
        "titanic_treinamento4.loc[titanic_treinamento4['Fare'] > 512.329, 'Fare'] = 5\n",
        "titanic_treinamento4['Fare'] = titanic_treinamento4['Fare'].astype(int)"
      ],
      "execution_count": 127,
      "outputs": []
    },
    {
      "cell_type": "code",
      "metadata": {
        "id": "l4QqaA6SWvwe"
      },
      "source": [
        "titanic_teste4.loc[titanic_teste4['Fare'] <= 7.854, 'Fare'] = 0\n",
        "titanic_teste4.loc[(titanic_teste4['Fare'] > 7.857) & (titanic_teste4['Fare'] <= 10.5), 'Fare'] = 1\n",
        "titanic_teste4.loc[(titanic_teste4['Fare'] > 10.5) & (titanic_teste4['Fare'] <= 21.075), 'Fare'] = 2\n",
        "titanic_teste4.loc[(titanic_teste4['Fare'] > 21.075) & (titanic_teste4['Fare'] <= 39.688), 'Fare'] = 3\n",
        "titanic_teste4.loc[(titanic_teste4['Fare'] > 39.688) & (titanic_teste4['Fare'] <= 512.329), 'Fare'] = 4\n",
        "titanic_teste4.loc[titanic_teste4['Fare'] > 512.329, 'Fare'] = 5\n",
        "titanic_teste4['Fare'] = titanic_teste4['Fare'].astype(int)"
      ],
      "execution_count": 128,
      "outputs": []
    },
    {
      "cell_type": "markdown",
      "metadata": {
        "id": "pRoIlnkuQc_p"
      },
      "source": [
        "Ótimo! Vamos visualizar como ficou a aparência final dos nossos dados."
      ]
    },
    {
      "cell_type": "code",
      "metadata": {
        "colab": {
          "base_uri": "https://localhost:8080/",
          "height": 206
        },
        "id": "v1SveJtrWvwe",
        "outputId": "1f5d3f4e-e807-4816-de38-64eca670e100"
      },
      "source": [
        "titanic_treinamento4.head()"
      ],
      "execution_count": 129,
      "outputs": [
        {
          "output_type": "execute_result",
          "data": {
            "text/html": [
              "<div>\n",
              "<style scoped>\n",
              "    .dataframe tbody tr th:only-of-type {\n",
              "        vertical-align: middle;\n",
              "    }\n",
              "\n",
              "    .dataframe tbody tr th {\n",
              "        vertical-align: top;\n",
              "    }\n",
              "\n",
              "    .dataframe thead th {\n",
              "        text-align: right;\n",
              "    }\n",
              "</style>\n",
              "<table border=\"1\" class=\"dataframe\">\n",
              "  <thead>\n",
              "    <tr style=\"text-align: right;\">\n",
              "      <th></th>\n",
              "      <th>Pclass</th>\n",
              "      <th>Title</th>\n",
              "      <th>Sex</th>\n",
              "      <th>Age</th>\n",
              "      <th>Relatives</th>\n",
              "      <th>Fare</th>\n",
              "      <th>Deck</th>\n",
              "      <th>Embarked</th>\n",
              "      <th>Survived</th>\n",
              "    </tr>\n",
              "  </thead>\n",
              "  <tbody>\n",
              "    <tr>\n",
              "      <th>0</th>\n",
              "      <td>3</td>\n",
              "      <td>Mr.</td>\n",
              "      <td>male</td>\n",
              "      <td>2</td>\n",
              "      <td>not_alone</td>\n",
              "      <td>0</td>\n",
              "      <td>U</td>\n",
              "      <td>S</td>\n",
              "      <td>0</td>\n",
              "    </tr>\n",
              "    <tr>\n",
              "      <th>1</th>\n",
              "      <td>1</td>\n",
              "      <td>Mrs.</td>\n",
              "      <td>female</td>\n",
              "      <td>5</td>\n",
              "      <td>not_alone</td>\n",
              "      <td>4</td>\n",
              "      <td>C</td>\n",
              "      <td>C</td>\n",
              "      <td>1</td>\n",
              "    </tr>\n",
              "    <tr>\n",
              "      <th>2</th>\n",
              "      <td>3</td>\n",
              "      <td>Miss.</td>\n",
              "      <td>female</td>\n",
              "      <td>3</td>\n",
              "      <td>alone</td>\n",
              "      <td>1</td>\n",
              "      <td>U</td>\n",
              "      <td>S</td>\n",
              "      <td>1</td>\n",
              "    </tr>\n",
              "    <tr>\n",
              "      <th>3</th>\n",
              "      <td>1</td>\n",
              "      <td>Mrs.</td>\n",
              "      <td>female</td>\n",
              "      <td>5</td>\n",
              "      <td>not_alone</td>\n",
              "      <td>4</td>\n",
              "      <td>C</td>\n",
              "      <td>S</td>\n",
              "      <td>1</td>\n",
              "    </tr>\n",
              "    <tr>\n",
              "      <th>4</th>\n",
              "      <td>3</td>\n",
              "      <td>Mr.</td>\n",
              "      <td>male</td>\n",
              "      <td>5</td>\n",
              "      <td>alone</td>\n",
              "      <td>1</td>\n",
              "      <td>U</td>\n",
              "      <td>S</td>\n",
              "      <td>0</td>\n",
              "    </tr>\n",
              "  </tbody>\n",
              "</table>\n",
              "</div>"
            ],
            "text/plain": [
              "   Pclass  Title     Sex  Age  Relatives  Fare Deck Embarked  Survived\n",
              "0       3    Mr.    male    2  not_alone     0    U        S         0\n",
              "1       1   Mrs.  female    5  not_alone     4    C        C         1\n",
              "2       3  Miss.  female    3      alone     1    U        S         1\n",
              "3       1   Mrs.  female    5  not_alone     4    C        S         1\n",
              "4       3    Mr.    male    5      alone     1    U        S         0"
            ]
          },
          "metadata": {},
          "execution_count": 129
        }
      ]
    },
    {
      "cell_type": "code",
      "metadata": {
        "colab": {
          "base_uri": "https://localhost:8080/",
          "height": 206
        },
        "id": "xzdpBXj-Wvwe",
        "outputId": "a4ef5fe6-480d-461e-bbf8-8e31432928f6"
      },
      "source": [
        "titanic_teste4.head()"
      ],
      "execution_count": 130,
      "outputs": [
        {
          "output_type": "execute_result",
          "data": {
            "text/html": [
              "<div>\n",
              "<style scoped>\n",
              "    .dataframe tbody tr th:only-of-type {\n",
              "        vertical-align: middle;\n",
              "    }\n",
              "\n",
              "    .dataframe tbody tr th {\n",
              "        vertical-align: top;\n",
              "    }\n",
              "\n",
              "    .dataframe thead th {\n",
              "        text-align: right;\n",
              "    }\n",
              "</style>\n",
              "<table border=\"1\" class=\"dataframe\">\n",
              "  <thead>\n",
              "    <tr style=\"text-align: right;\">\n",
              "      <th></th>\n",
              "      <th>Pclass</th>\n",
              "      <th>Title</th>\n",
              "      <th>Sex</th>\n",
              "      <th>Age</th>\n",
              "      <th>Relatives</th>\n",
              "      <th>Fare</th>\n",
              "      <th>Deck</th>\n",
              "      <th>Embarked</th>\n",
              "      <th>Survived</th>\n",
              "    </tr>\n",
              "  </thead>\n",
              "  <tbody>\n",
              "    <tr>\n",
              "      <th>0</th>\n",
              "      <td>3</td>\n",
              "      <td>Mr.</td>\n",
              "      <td>male</td>\n",
              "      <td>5</td>\n",
              "      <td>alone</td>\n",
              "      <td>0</td>\n",
              "      <td>U</td>\n",
              "      <td>Q</td>\n",
              "      <td>NaN</td>\n",
              "    </tr>\n",
              "    <tr>\n",
              "      <th>1</th>\n",
              "      <td>3</td>\n",
              "      <td>Mrs.</td>\n",
              "      <td>female</td>\n",
              "      <td>6</td>\n",
              "      <td>not_alone</td>\n",
              "      <td>0</td>\n",
              "      <td>U</td>\n",
              "      <td>S</td>\n",
              "      <td>NaN</td>\n",
              "    </tr>\n",
              "    <tr>\n",
              "      <th>2</th>\n",
              "      <td>2</td>\n",
              "      <td>Mr.</td>\n",
              "      <td>male</td>\n",
              "      <td>6</td>\n",
              "      <td>alone</td>\n",
              "      <td>1</td>\n",
              "      <td>U</td>\n",
              "      <td>Q</td>\n",
              "      <td>NaN</td>\n",
              "    </tr>\n",
              "    <tr>\n",
              "      <th>3</th>\n",
              "      <td>3</td>\n",
              "      <td>Mr.</td>\n",
              "      <td>male</td>\n",
              "      <td>3</td>\n",
              "      <td>alone</td>\n",
              "      <td>1</td>\n",
              "      <td>U</td>\n",
              "      <td>S</td>\n",
              "      <td>NaN</td>\n",
              "    </tr>\n",
              "    <tr>\n",
              "      <th>4</th>\n",
              "      <td>3</td>\n",
              "      <td>Mrs.</td>\n",
              "      <td>female</td>\n",
              "      <td>2</td>\n",
              "      <td>not_alone</td>\n",
              "      <td>2</td>\n",
              "      <td>U</td>\n",
              "      <td>S</td>\n",
              "      <td>NaN</td>\n",
              "    </tr>\n",
              "  </tbody>\n",
              "</table>\n",
              "</div>"
            ],
            "text/plain": [
              "   Pclass Title     Sex  Age  Relatives  Fare Deck Embarked  Survived\n",
              "0       3   Mr.    male    5      alone     0    U        Q       NaN\n",
              "1       3  Mrs.  female    6  not_alone     0    U        S       NaN\n",
              "2       2   Mr.    male    6      alone     1    U        Q       NaN\n",
              "3       3   Mr.    male    3      alone     1    U        S       NaN\n",
              "4       3  Mrs.  female    2  not_alone     2    U        S       NaN"
            ]
          },
          "metadata": {},
          "execution_count": 130
        }
      ]
    },
    {
      "cell_type": "code",
      "metadata": {
        "colab": {
          "base_uri": "https://localhost:8080/"
        },
        "id": "W2wuUu0lWvwf",
        "outputId": "d361e4ec-cb36-4593-b15d-9127d548774e"
      },
      "source": [
        "titanic_treinamento4.shape"
      ],
      "execution_count": 131,
      "outputs": [
        {
          "output_type": "execute_result",
          "data": {
            "text/plain": [
              "(889, 9)"
            ]
          },
          "metadata": {},
          "execution_count": 131
        }
      ]
    },
    {
      "cell_type": "code",
      "metadata": {
        "colab": {
          "base_uri": "https://localhost:8080/"
        },
        "id": "dOAVcW10Wvwf",
        "outputId": "1ec6e3d7-0dec-4275-aa68-893eb7759475"
      },
      "source": [
        "titanic_teste4.shape"
      ],
      "execution_count": 132,
      "outputs": [
        {
          "output_type": "execute_result",
          "data": {
            "text/plain": [
              "(418, 9)"
            ]
          },
          "metadata": {},
          "execution_count": 132
        }
      ]
    },
    {
      "cell_type": "markdown",
      "metadata": {
        "id": "MvXspbZQSeUL"
      },
      "source": [
        "## Construção dos modelos de ML"
      ]
    },
    {
      "cell_type": "markdown",
      "metadata": {
        "id": "irml7VSWS4Fy"
      },
      "source": [
        "Agora vamos treinar vários modelos de ML e comparar seus resultados. Começaremos determinando nosso X e nosso Y, criaremos nossos modelos, geraremos predições e compararemos com a base de teste e escolheremos os melhores modelos."
      ]
    },
    {
      "cell_type": "code",
      "metadata": {
        "colab": {
          "base_uri": "https://localhost:8080/"
        },
        "id": "tQC3hBewWvwf",
        "outputId": "29ad7895-d1ad-4528-fa8b-9f40ca9e83fb"
      },
      "source": [
        "X_titanic_treinamento = titanic_treinamento4.iloc[:,0:8].values\n",
        "X_titanic_treinamento"
      ],
      "execution_count": 133,
      "outputs": [
        {
          "output_type": "execute_result",
          "data": {
            "text/plain": [
              "array([[3, 'Mr.', 'male', ..., 0, 'U', 'S'],\n",
              "       [1, 'Mrs.', 'female', ..., 4, 'C', 'C'],\n",
              "       [3, 'Miss.', 'female', ..., 1, 'U', 'S'],\n",
              "       ...,\n",
              "       [3, 'Miss.', 'female', ..., 3, 'U', 'S'],\n",
              "       [1, 'Mr.', 'male', ..., 3, 'C', 'C'],\n",
              "       [3, 'Mr.', 'male', ..., 0, 'U', 'Q']], dtype=object)"
            ]
          },
          "metadata": {},
          "execution_count": 133
        }
      ]
    },
    {
      "cell_type": "code",
      "metadata": {
        "colab": {
          "base_uri": "https://localhost:8080/"
        },
        "id": "wBkDt5qKWvwh",
        "outputId": "623bec28-f18f-49ec-ce19-57711b932ba0"
      },
      "source": [
        "X_titanic_teste = titanic_teste4.iloc[:,0:8].values\n",
        "X_titanic_teste"
      ],
      "execution_count": 134,
      "outputs": [
        {
          "output_type": "execute_result",
          "data": {
            "text/plain": [
              "array([[3, 'Mr.', 'male', ..., 0, 'U', 'Q'],\n",
              "       [3, 'Mrs.', 'female', ..., 0, 'U', 'S'],\n",
              "       [2, 'Mr.', 'male', ..., 1, 'U', 'Q'],\n",
              "       ...,\n",
              "       [3, 'Mr.', 'male', ..., 0, 'U', 'S'],\n",
              "       [3, 'Mr.', 'male', ..., 1, 'U', 'S'],\n",
              "       [3, 'Master.', 'male', ..., 3, 'U', 'C']], dtype=object)"
            ]
          },
          "metadata": {},
          "execution_count": 134
        }
      ]
    },
    {
      "cell_type": "code",
      "metadata": {
        "colab": {
          "base_uri": "https://localhost:8080/"
        },
        "id": "rcTe5202Wvwh",
        "outputId": "57d4ed8a-d24f-4c32-b127-0e1f5be2aaac"
      },
      "source": [
        "y_titanic_treinamento = titanic_treinamento4.iloc[:,8].values\n",
        "y_titanic_treinamento"
      ],
      "execution_count": 135,
      "outputs": [
        {
          "output_type": "execute_result",
          "data": {
            "text/plain": [
              "array([0, 1, 1, 1, 0, 0, 0, 0, 1, 1, 1, 1, 0, 0, 0, 1, 0, 1, 0, 1, 0, 1,\n",
              "       1, 1, 0, 1, 0, 0, 1, 0, 0, 1, 1, 0, 0, 0, 1, 0, 0, 1, 0, 0, 0, 1,\n",
              "       1, 0, 0, 1, 0, 0, 0, 0, 1, 1, 0, 1, 1, 0, 1, 0, 0, 0, 0, 0, 1, 1,\n",
              "       0, 1, 0, 0, 0, 0, 0, 1, 0, 0, 0, 1, 1, 0, 1, 1, 0, 1, 1, 0, 0, 1,\n",
              "       0, 0, 0, 0, 0, 0, 0, 0, 1, 1, 0, 0, 0, 0, 0, 0, 0, 1, 1, 0, 1, 0,\n",
              "       0, 0, 0, 0, 0, 0, 0, 0, 0, 0, 0, 0, 1, 0, 1, 0, 1, 1, 0, 0, 0, 0,\n",
              "       1, 0, 0, 1, 0, 0, 0, 0, 1, 1, 0, 0, 0, 1, 0, 0, 0, 0, 1, 0, 0, 0,\n",
              "       0, 1, 0, 0, 0, 0, 1, 0, 0, 0, 1, 1, 0, 0, 0, 0, 0, 1, 0, 0, 0, 0,\n",
              "       0, 0, 0, 0, 0, 0, 1, 1, 0, 1, 1, 0, 0, 1, 0, 1, 1, 1, 1, 0, 0, 1,\n",
              "       0, 0, 0, 0, 0, 1, 0, 0, 1, 1, 1, 0, 1, 0, 0, 0, 1, 1, 0, 1, 0, 1,\n",
              "       0, 0, 0, 1, 0, 1, 0, 0, 0, 1, 0, 0, 1, 0, 0, 0, 1, 0, 0, 0, 1, 0,\n",
              "       0, 0, 0, 0, 1, 1, 0, 0, 0, 0, 0, 0, 1, 1, 1, 1, 1, 0, 1, 0, 0, 0,\n",
              "       0, 0, 1, 1, 1, 0, 1, 1, 0, 1, 1, 0, 0, 0, 1, 0, 0, 0, 1, 0, 0, 1,\n",
              "       0, 1, 1, 1, 1, 0, 0, 0, 0, 0, 0, 1, 1, 1, 1, 0, 1, 0, 1, 1, 1, 0,\n",
              "       1, 1, 1, 0, 0, 0, 1, 1, 0, 1, 1, 0, 0, 1, 1, 0, 1, 0, 1, 1, 1, 1,\n",
              "       0, 0, 0, 1, 0, 0, 1, 1, 0, 1, 1, 0, 0, 0, 1, 1, 1, 1, 0, 0, 0, 0,\n",
              "       0, 0, 0, 1, 0, 1, 1, 0, 0, 0, 0, 0, 0, 1, 1, 1, 1, 1, 0, 0, 0, 0,\n",
              "       1, 1, 0, 0, 0, 1, 1, 0, 1, 0, 0, 0, 1, 0, 1, 1, 1, 0, 1, 1, 0, 0,\n",
              "       0, 0, 1, 1, 0, 0, 0, 0, 0, 0, 1, 0, 0, 0, 0, 1, 0, 1, 0, 1, 1, 0,\n",
              "       0, 0, 0, 0, 0, 0, 0, 1, 1, 0, 1, 1, 1, 1, 0, 0, 1, 0, 1, 0, 0, 1,\n",
              "       0, 0, 1, 1, 1, 1, 1, 1, 1, 0, 0, 0, 1, 0, 1, 0, 1, 1, 0, 1, 0, 0,\n",
              "       0, 0, 0, 0, 0, 0, 1, 0, 0, 1, 1, 0, 0, 0, 0, 0, 1, 0, 0, 0, 1, 1,\n",
              "       0, 1, 0, 0, 1, 0, 0, 0, 0, 0, 0, 1, 0, 0, 0, 0, 0, 0, 0, 1, 0, 1,\n",
              "       1, 0, 1, 1, 0, 1, 1, 0, 0, 1, 0, 1, 0, 1, 0, 0, 1, 0, 0, 1, 0, 0,\n",
              "       0, 1, 0, 0, 1, 0, 1, 0, 1, 0, 1, 1, 0, 0, 1, 0, 0, 1, 1, 0, 1, 1,\n",
              "       0, 0, 1, 1, 0, 1, 0, 1, 1, 0, 0, 0, 0, 0, 0, 0, 0, 0, 1, 1, 1, 1,\n",
              "       1, 0, 0, 1, 1, 0, 1, 1, 1, 0, 0, 0, 1, 0, 1, 0, 0, 0, 1, 0, 0, 0,\n",
              "       0, 1, 0, 0, 1, 1, 0, 0, 0, 1, 0, 0, 1, 1, 1, 0, 0, 1, 0, 0, 1, 0,\n",
              "       0, 1, 0, 0, 1, 1, 0, 0, 0, 0, 1, 0, 0, 1, 0, 1, 0, 0, 1, 0, 0, 0,\n",
              "       0, 0, 1, 0, 1, 1, 1, 0, 1, 0, 1, 0, 1, 0, 1, 0, 0, 0, 0, 0, 0, 1,\n",
              "       0, 0, 0, 1, 0, 0, 0, 0, 1, 1, 0, 0, 1, 0, 0, 0, 1, 0, 1, 0, 1, 0,\n",
              "       0, 0, 0, 0, 0, 0, 1, 1, 1, 1, 0, 0, 0, 0, 1, 0, 0, 1, 1, 0, 0, 0,\n",
              "       0, 1, 1, 1, 1, 1, 0, 1, 0, 0, 0, 1, 1, 0, 0, 1, 0, 0, 0, 1, 0, 1,\n",
              "       1, 0, 0, 1, 0, 0, 0, 0, 0, 0, 1, 0, 0, 1, 0, 1, 0, 1, 0, 0, 1, 0,\n",
              "       0, 1, 1, 0, 0, 1, 1, 0, 0, 0, 1, 0, 0, 1, 1, 0, 1, 0, 0, 0, 0, 0,\n",
              "       0, 0, 0, 1, 0, 0, 1, 0, 1, 1, 1, 0, 0, 0, 0, 1, 0, 1, 0, 0, 0, 0,\n",
              "       0, 0, 0, 1, 1, 0, 0, 0, 1, 1, 1, 1, 0, 0, 0, 0, 1, 0, 0, 0, 0, 0,\n",
              "       0, 0, 0, 0, 0, 1, 1, 0, 1, 0, 0, 0, 1, 1, 1, 1, 0, 0, 0, 1, 0, 0,\n",
              "       1, 1, 0, 0, 1, 0, 0, 0, 0, 0, 0, 1, 0, 0, 0, 1, 0, 1, 1, 1, 1, 0,\n",
              "       0, 0, 1, 0, 0, 1, 1, 0, 0, 1, 0, 1, 0, 0, 1, 1, 0, 0, 0, 1, 1, 0,\n",
              "       0, 0, 0, 0, 0, 1, 0, 1, 0])"
            ]
          },
          "metadata": {},
          "execution_count": 135
        }
      ]
    },
    {
      "cell_type": "code",
      "metadata": {
        "id": "xRo92y2rWvwh"
      },
      "source": [
        "y_titanic_teste = titanic_teste4.iloc[:,8].values"
      ],
      "execution_count": 136,
      "outputs": []
    },
    {
      "cell_type": "markdown",
      "metadata": {
        "id": "N7qbHw-bT8Be"
      },
      "source": [
        "Antes de gerar e treinar nossos modelos farei o enconde das nossas variáveis, isto é, tranformarei as categorias em inteiros para facilidtar o desempenhos dos algoritmos."
      ]
    },
    {
      "cell_type": "code",
      "metadata": {
        "id": "iqUUc7sqWvwi"
      },
      "source": [
        "label_encoder_title = LabelEncoder()\n",
        "label_encoder_sex = LabelEncoder()\n",
        "label_encoder_relatives = LabelEncoder()\n",
        "label_encoder_deck = LabelEncoder()\n",
        "label_encoder_embarked = LabelEncoder()"
      ],
      "execution_count": 137,
      "outputs": []
    },
    {
      "cell_type": "code",
      "metadata": {
        "id": "ZVd0FTAWWvwi"
      },
      "source": [
        "X_titanic_treinamento[:,1] = label_encoder_title.fit_transform(X_titanic_treinamento[:,1])\n",
        "X_titanic_treinamento[:,2] = label_encoder_sex.fit_transform(X_titanic_treinamento[:,2])\n",
        "X_titanic_treinamento[:,4] = label_encoder_relatives.fit_transform(X_titanic_treinamento[:,4])\n",
        "X_titanic_treinamento[:,6] = label_encoder_deck.fit_transform(X_titanic_treinamento[:,6])\n",
        "X_titanic_treinamento[:,7] = label_encoder_embarked.fit_transform(X_titanic_treinamento[:,7])"
      ],
      "execution_count": 138,
      "outputs": []
    },
    {
      "cell_type": "code",
      "metadata": {
        "id": "JVwndzh0Wvwi"
      },
      "source": [
        "label_encoder_title_teste = LabelEncoder()\n",
        "label_encoder_sex_teste = LabelEncoder()\n",
        "label_encoder_relatives_teste = LabelEncoder()\n",
        "label_encoder_deck_teste = LabelEncoder()\n",
        "label_encoder_embarked_teste = LabelEncoder()"
      ],
      "execution_count": 139,
      "outputs": []
    },
    {
      "cell_type": "code",
      "metadata": {
        "id": "oJWZD_ItWvwj"
      },
      "source": [
        "X_titanic_teste[:,1] = label_encoder_title_teste.fit_transform(X_titanic_teste[:,1])\n",
        "X_titanic_teste[:,2] = label_encoder_sex_teste.fit_transform(X_titanic_teste[:,2])\n",
        "X_titanic_teste[:,4] = label_encoder_relatives_teste.fit_transform(X_titanic_teste[:,4])\n",
        "X_titanic_teste[:,6] = label_encoder_deck_teste.fit_transform(X_titanic_teste[:,6])\n",
        "X_titanic_teste[:,7] = label_encoder_embarked_teste.fit_transform(X_titanic_teste[:,7])"
      ],
      "execution_count": 140,
      "outputs": []
    },
    {
      "cell_type": "markdown",
      "metadata": {
        "id": "pOI_80aDU7WZ"
      },
      "source": [
        "### Naive Bayes"
      ]
    },
    {
      "cell_type": "code",
      "metadata": {
        "id": "-TDjktsYWvwk"
      },
      "source": [
        "from sklearn.naive_bayes import GaussianNB"
      ],
      "execution_count": 141,
      "outputs": []
    },
    {
      "cell_type": "code",
      "metadata": {
        "colab": {
          "base_uri": "https://localhost:8080/"
        },
        "id": "8eiYYyQmWvwk",
        "outputId": "0f1d048d-e29b-4211-aeef-34dd51c5d6db"
      },
      "source": [
        "naive_titanic = GaussianNB()\n",
        "naive_titanic.fit(X_titanic_treinamento, y_titanic_treinamento)"
      ],
      "execution_count": 142,
      "outputs": [
        {
          "output_type": "execute_result",
          "data": {
            "text/plain": [
              "GaussianNB(priors=None, var_smoothing=1e-09)"
            ]
          },
          "metadata": {},
          "execution_count": 142
        }
      ]
    },
    {
      "cell_type": "code",
      "metadata": {
        "colab": {
          "base_uri": "https://localhost:8080/"
        },
        "id": "HYArsCjHWvwl",
        "outputId": "6c49f912-1f95-42df-a788-b9f2b30ee973"
      },
      "source": [
        "previsoes_naive = naive_titanic.predict(X_titanic_teste)\n",
        "previsoes_naive"
      ],
      "execution_count": 143,
      "outputs": [
        {
          "output_type": "execute_result",
          "data": {
            "text/plain": [
              "array([0, 1, 0, 0, 1, 0, 0, 0, 1, 0, 0, 0, 1, 0, 1, 1, 0, 0, 1, 1, 1, 0,\n",
              "       1, 1, 1, 0, 1, 0, 1, 0, 0, 0, 1, 1, 1, 0, 0, 0, 0, 0, 0, 1, 0, 1,\n",
              "       1, 0, 1, 0, 1, 1, 1, 0, 1, 1, 0, 1, 0, 0, 0, 1, 0, 0, 0, 0, 1, 1,\n",
              "       1, 0, 1, 1, 0, 0, 0, 1, 1, 1, 0, 1, 0, 0, 1, 1, 0, 0, 0, 0, 1, 1,\n",
              "       1, 1, 1, 0, 1, 0, 0, 0, 1, 0, 1, 0, 1, 0, 0, 0, 1, 0, 0, 0, 0, 0,\n",
              "       0, 0, 1, 1, 1, 0, 0, 1, 1, 1, 1, 0, 1, 0, 0, 1, 0, 1, 0, 0, 0, 1,\n",
              "       1, 0, 0, 0, 0, 0, 0, 0, 1, 1, 1, 0, 0, 0, 0, 0, 0, 1, 1, 0, 0, 1,\n",
              "       1, 0, 1, 1, 1, 1, 0, 1, 1, 0, 1, 1, 1, 0, 1, 0, 0, 0, 0, 0, 0, 1,\n",
              "       1, 1, 1, 1, 0, 1, 1, 0, 1, 0, 1, 0, 1, 0, 0, 0, 1, 0, 1, 0, 1, 0,\n",
              "       0, 0, 1, 1, 1, 1, 0, 0, 0, 0, 1, 0, 0, 0, 0, 1, 1, 1, 1, 0, 1, 0,\n",
              "       1, 0, 1, 0, 1, 1, 0, 0, 0, 0, 0, 1, 0, 0, 1, 0, 1, 0, 1, 1, 1, 1,\n",
              "       1, 0, 1, 1, 1, 0, 1, 1, 1, 0, 1, 0, 0, 0, 0, 0, 1, 0, 0, 0, 1, 1,\n",
              "       0, 0, 0, 0, 0, 0, 1, 0, 1, 1, 0, 1, 0, 0, 0, 0, 0, 1, 0, 1, 1, 0,\n",
              "       0, 1, 0, 0, 0, 0, 0, 1, 0, 0, 1, 0, 0, 0, 0, 1, 0, 0, 0, 1, 1, 1,\n",
              "       1, 1, 0, 0, 0, 0, 1, 1, 1, 0, 0, 0, 0, 0, 0, 0, 1, 0, 1, 1, 0, 0,\n",
              "       1, 1, 0, 1, 0, 1, 0, 0, 0, 0, 0, 0, 0, 1, 0, 0, 0, 1, 0, 1, 1, 0,\n",
              "       0, 0, 1, 0, 1, 0, 0, 1, 1, 1, 1, 0, 1, 1, 0, 1, 1, 0, 0, 1, 1, 0,\n",
              "       1, 1, 1, 0, 1, 1, 0, 0, 1, 1, 0, 1, 0, 0, 0, 1, 1, 1, 1, 0, 0, 1,\n",
              "       0, 1, 0, 0, 1, 0, 1, 0, 1, 1, 0, 1, 0, 1, 0, 1, 0, 0, 1, 0, 0, 1])"
            ]
          },
          "metadata": {},
          "execution_count": 143
        }
      ]
    },
    {
      "cell_type": "code",
      "metadata": {
        "colab": {
          "base_uri": "https://localhost:8080/"
        },
        "id": "cjMzWx5zWvwl",
        "outputId": "1c3f9074-a213-45b4-bf3a-c24aee1e7450"
      },
      "source": [
        "naive_titanic.score(X_titanic_treinamento, y_titanic_treinamento)\n",
        "acc_naive = round(naive_titanic.score(X_titanic_treinamento, y_titanic_treinamento)*100, 2)\n",
        "acc_naive"
      ],
      "execution_count": 144,
      "outputs": [
        {
          "output_type": "execute_result",
          "data": {
            "text/plain": [
              "74.8"
            ]
          },
          "metadata": {},
          "execution_count": 144
        }
      ]
    },
    {
      "cell_type": "markdown",
      "metadata": {
        "id": "Pp7xyjXqVE0B"
      },
      "source": [
        "### Árvore de Decisão"
      ]
    },
    {
      "cell_type": "code",
      "metadata": {
        "id": "gMIUvSXLWvwl"
      },
      "source": [
        "from sklearn.tree import DecisionTreeClassifier"
      ],
      "execution_count": 145,
      "outputs": []
    },
    {
      "cell_type": "code",
      "metadata": {
        "colab": {
          "base_uri": "https://localhost:8080/"
        },
        "id": "lR5GSobAWvwl",
        "outputId": "62dffae0-a3a1-40db-ff1f-3b7fc1145064"
      },
      "source": [
        "arvore_titanic = DecisionTreeClassifier(criterion='entropy', random_state = 0)\n",
        "arvore_titanic.fit(X_titanic_treinamento, y_titanic_treinamento)"
      ],
      "execution_count": 146,
      "outputs": [
        {
          "output_type": "execute_result",
          "data": {
            "text/plain": [
              "DecisionTreeClassifier(ccp_alpha=0.0, class_weight=None, criterion='entropy',\n",
              "                       max_depth=None, max_features=None, max_leaf_nodes=None,\n",
              "                       min_impurity_decrease=0.0, min_impurity_split=None,\n",
              "                       min_samples_leaf=1, min_samples_split=2,\n",
              "                       min_weight_fraction_leaf=0.0, presort='deprecated',\n",
              "                       random_state=0, splitter='best')"
            ]
          },
          "metadata": {},
          "execution_count": 146
        }
      ]
    },
    {
      "cell_type": "code",
      "metadata": {
        "colab": {
          "base_uri": "https://localhost:8080/"
        },
        "id": "8Efu7AEiWvwm",
        "outputId": "5f02594f-336a-4a25-f7ce-4704115b1935"
      },
      "source": [
        "previsoes_decision_tree = arvore_titanic.predict(X_titanic_teste)\n",
        "previsoes_decision_tree"
      ],
      "execution_count": 147,
      "outputs": [
        {
          "output_type": "execute_result",
          "data": {
            "text/plain": [
              "array([0, 0, 0, 0, 1, 0, 1, 0, 1, 0, 0, 0, 0, 0, 1, 1, 0, 0, 0, 0, 0, 1,\n",
              "       1, 0, 1, 0, 1, 0, 1, 0, 0, 0, 1, 0, 0, 0, 0, 0, 0, 1, 0, 0, 0, 1,\n",
              "       1, 0, 0, 0, 1, 1, 0, 0, 1, 1, 0, 0, 0, 0, 0, 1, 0, 0, 0, 0, 0, 1,\n",
              "       1, 0, 0, 1, 0, 0, 0, 0, 1, 0, 0, 1, 0, 0, 1, 0, 0, 0, 0, 0, 1, 1,\n",
              "       1, 1, 1, 0, 0, 0, 0, 0, 1, 0, 1, 0, 1, 0, 0, 0, 0, 0, 0, 0, 0, 0,\n",
              "       0, 1, 0, 1, 1, 0, 0, 1, 0, 1, 1, 0, 1, 0, 0, 1, 0, 1, 0, 0, 0, 1,\n",
              "       0, 0, 0, 0, 0, 0, 0, 0, 0, 1, 0, 0, 0, 0, 1, 0, 0, 0, 0, 0, 0, 1,\n",
              "       0, 0, 1, 1, 0, 1, 1, 1, 0, 0, 0, 0, 0, 0, 1, 0, 0, 0, 0, 0, 0, 1,\n",
              "       1, 0, 1, 1, 0, 1, 1, 0, 0, 0, 1, 1, 0, 0, 0, 0, 1, 0, 1, 0, 1, 0,\n",
              "       0, 0, 0, 1, 0, 1, 0, 0, 0, 0, 1, 0, 0, 0, 0, 1, 0, 0, 1, 0, 1, 0,\n",
              "       1, 0, 1, 0, 1, 0, 0, 1, 0, 0, 0, 1, 0, 0, 0, 0, 0, 0, 1, 1, 1, 1,\n",
              "       0, 0, 0, 0, 1, 0, 1, 0, 1, 0, 0, 0, 0, 0, 0, 0, 1, 0, 0, 0, 1, 1,\n",
              "       0, 0, 0, 0, 0, 0, 0, 0, 0, 1, 0, 1, 0, 0, 0, 0, 0, 1, 1, 1, 1, 0,\n",
              "       0, 0, 0, 0, 0, 1, 0, 1, 0, 0, 1, 0, 0, 0, 0, 0, 0, 0, 1, 1, 0, 1,\n",
              "       0, 0, 0, 0, 0, 0, 1, 1, 0, 0, 0, 0, 0, 0, 0, 0, 1, 0, 1, 0, 0, 0,\n",
              "       1, 1, 0, 1, 0, 1, 0, 0, 0, 1, 0, 0, 0, 1, 1, 0, 0, 0, 0, 1, 1, 0,\n",
              "       0, 0, 1, 0, 1, 0, 0, 1, 0, 1, 1, 0, 0, 0, 0, 0, 1, 0, 0, 1, 0, 0,\n",
              "       1, 1, 0, 0, 0, 0, 0, 0, 1, 1, 0, 1, 0, 0, 0, 1, 0, 1, 1, 0, 0, 1,\n",
              "       0, 1, 0, 0, 1, 0, 1, 1, 0, 1, 0, 0, 1, 1, 1, 1, 0, 0, 1, 0, 0, 0])"
            ]
          },
          "metadata": {},
          "execution_count": 147
        }
      ]
    },
    {
      "cell_type": "code",
      "metadata": {
        "colab": {
          "base_uri": "https://localhost:8080/"
        },
        "id": "4kilogjOWvwm",
        "outputId": "d4817685-e4c8-4619-db42-df64a793f224"
      },
      "source": [
        "arvore_titanic.score(X_titanic_treinamento, y_titanic_treinamento)\n",
        "acc_arvore = round(arvore_titanic.score(X_titanic_treinamento, y_titanic_treinamento)*100, 2)\n",
        "acc_arvore"
      ],
      "execution_count": 148,
      "outputs": [
        {
          "output_type": "execute_result",
          "data": {
            "text/plain": [
              "90.44"
            ]
          },
          "metadata": {},
          "execution_count": 148
        }
      ]
    },
    {
      "cell_type": "markdown",
      "metadata": {
        "id": "ftcQTQ7sVJ5j"
      },
      "source": [
        "### Random Forest"
      ]
    },
    {
      "cell_type": "code",
      "metadata": {
        "id": "9wJ5XTBZWvwn"
      },
      "source": [
        "from sklearn.ensemble import RandomForestClassifier"
      ],
      "execution_count": 149,
      "outputs": []
    },
    {
      "cell_type": "code",
      "metadata": {
        "colab": {
          "base_uri": "https://localhost:8080/"
        },
        "id": "VvC2deRNWvwn",
        "outputId": "fdc67587-f691-4333-a9de-fc95dd2d605d"
      },
      "source": [
        "random_forest_titanic = RandomForestClassifier(n_estimators=100, criterion='entropy', random_state= 0)\n",
        "random_forest_titanic.fit(X_titanic_treinamento, y_titanic_treinamento)"
      ],
      "execution_count": 150,
      "outputs": [
        {
          "output_type": "execute_result",
          "data": {
            "text/plain": [
              "RandomForestClassifier(bootstrap=True, ccp_alpha=0.0, class_weight=None,\n",
              "                       criterion='entropy', max_depth=None, max_features='auto',\n",
              "                       max_leaf_nodes=None, max_samples=None,\n",
              "                       min_impurity_decrease=0.0, min_impurity_split=None,\n",
              "                       min_samples_leaf=1, min_samples_split=2,\n",
              "                       min_weight_fraction_leaf=0.0, n_estimators=100,\n",
              "                       n_jobs=None, oob_score=False, random_state=0, verbose=0,\n",
              "                       warm_start=False)"
            ]
          },
          "metadata": {},
          "execution_count": 150
        }
      ]
    },
    {
      "cell_type": "code",
      "metadata": {
        "colab": {
          "base_uri": "https://localhost:8080/"
        },
        "id": "dtMj0gTiWvwo",
        "outputId": "15205f1e-f5c3-4f0f-8800-870f591bc43e"
      },
      "source": [
        "previsoes_random_forest = random_forest_titanic.predict(X_titanic_teste)\n",
        "previsoes_random_forest"
      ],
      "execution_count": 151,
      "outputs": [
        {
          "output_type": "execute_result",
          "data": {
            "text/plain": [
              "array([0, 0, 0, 0, 1, 0, 1, 0, 1, 0, 0, 0, 1, 0, 1, 1, 0, 0, 0, 1, 0, 1,\n",
              "       1, 0, 1, 0, 1, 0, 1, 0, 0, 0, 1, 0, 0, 0, 0, 0, 0, 1, 0, 0, 0, 1,\n",
              "       1, 0, 0, 0, 1, 1, 0, 0, 1, 1, 0, 0, 0, 0, 0, 1, 0, 0, 0, 1, 1, 1,\n",
              "       1, 0, 1, 1, 1, 0, 0, 1, 1, 0, 0, 1, 0, 1, 1, 0, 0, 0, 0, 0, 1, 1,\n",
              "       1, 1, 1, 0, 1, 0, 0, 0, 1, 0, 0, 0, 1, 0, 0, 0, 1, 0, 0, 0, 0, 0,\n",
              "       0, 1, 1, 1, 1, 0, 0, 1, 0, 1, 1, 0, 1, 0, 0, 1, 0, 1, 0, 0, 0, 1,\n",
              "       0, 0, 0, 0, 0, 0, 0, 0, 0, 1, 0, 0, 0, 0, 0, 0, 0, 0, 1, 0, 0, 1,\n",
              "       0, 0, 1, 1, 0, 1, 1, 1, 0, 0, 0, 1, 0, 0, 1, 0, 0, 0, 0, 0, 0, 1,\n",
              "       1, 0, 1, 1, 0, 1, 1, 0, 1, 0, 1, 0, 0, 0, 0, 0, 1, 0, 1, 0, 1, 0,\n",
              "       0, 0, 1, 1, 0, 1, 0, 0, 1, 0, 1, 0, 0, 0, 0, 1, 0, 0, 1, 0, 1, 0,\n",
              "       1, 0, 1, 0, 1, 0, 0, 1, 0, 0, 0, 1, 0, 0, 0, 0, 1, 0, 1, 1, 1, 1,\n",
              "       0, 0, 0, 0, 1, 0, 1, 0, 1, 0, 0, 0, 0, 0, 0, 0, 1, 0, 0, 0, 1, 1,\n",
              "       0, 0, 0, 0, 0, 0, 0, 0, 1, 1, 0, 1, 0, 0, 0, 0, 0, 1, 1, 1, 1, 0,\n",
              "       0, 0, 0, 0, 0, 1, 0, 0, 0, 0, 1, 0, 0, 0, 0, 0, 0, 0, 1, 1, 0, 1,\n",
              "       0, 0, 0, 0, 0, 1, 1, 1, 0, 0, 0, 0, 0, 0, 0, 0, 1, 0, 1, 0, 0, 0,\n",
              "       1, 1, 0, 1, 0, 1, 0, 0, 0, 0, 0, 0, 0, 1, 1, 0, 0, 1, 0, 1, 1, 0,\n",
              "       0, 0, 1, 1, 1, 0, 0, 1, 0, 1, 1, 0, 1, 0, 0, 0, 1, 0, 0, 1, 0, 0,\n",
              "       1, 1, 0, 0, 0, 0, 0, 0, 1, 1, 0, 1, 0, 0, 0, 1, 0, 1, 1, 0, 0, 1,\n",
              "       0, 1, 0, 0, 1, 0, 1, 0, 0, 0, 0, 0, 1, 1, 1, 1, 0, 0, 1, 0, 0, 1])"
            ]
          },
          "metadata": {},
          "execution_count": 151
        }
      ]
    },
    {
      "cell_type": "code",
      "metadata": {
        "colab": {
          "base_uri": "https://localhost:8080/"
        },
        "id": "603WVakLWvwo",
        "outputId": "c5b733a9-3342-4d9e-ea75-b6339a44d38c"
      },
      "source": [
        "random_forest_titanic.score(X_titanic_treinamento, y_titanic_treinamento)\n",
        "acc_random_forest = round(random_forest_titanic.score(X_titanic_treinamento, y_titanic_treinamento)*100, 2)\n",
        "acc_random_forest"
      ],
      "execution_count": 152,
      "outputs": [
        {
          "output_type": "execute_result",
          "data": {
            "text/plain": [
              "90.44"
            ]
          },
          "metadata": {},
          "execution_count": 152
        }
      ]
    },
    {
      "cell_type": "code",
      "metadata": {
        "colab": {
          "base_uri": "https://localhost:8080/",
          "height": 331
        },
        "id": "dnYn2L7IWvwp",
        "outputId": "23897243-1719-44c5-acea-84a66e598364"
      },
      "source": [
        "importancia = pd.DataFrame({'feature':titanic_treinamento4.iloc[:,0:8].columns,\n",
        "                            'importance':np.round(random_forest_titanic.feature_importances_,3)})\n",
        "importancia = importancia.sort_values('importance',ascending=False).set_index('feature')\n",
        "importancia.head(15)"
      ],
      "execution_count": 153,
      "outputs": [
        {
          "output_type": "execute_result",
          "data": {
            "text/html": [
              "<div>\n",
              "<style scoped>\n",
              "    .dataframe tbody tr th:only-of-type {\n",
              "        vertical-align: middle;\n",
              "    }\n",
              "\n",
              "    .dataframe tbody tr th {\n",
              "        vertical-align: top;\n",
              "    }\n",
              "\n",
              "    .dataframe thead th {\n",
              "        text-align: right;\n",
              "    }\n",
              "</style>\n",
              "<table border=\"1\" class=\"dataframe\">\n",
              "  <thead>\n",
              "    <tr style=\"text-align: right;\">\n",
              "      <th></th>\n",
              "      <th>importance</th>\n",
              "    </tr>\n",
              "    <tr>\n",
              "      <th>feature</th>\n",
              "      <th></th>\n",
              "    </tr>\n",
              "  </thead>\n",
              "  <tbody>\n",
              "    <tr>\n",
              "      <th>Sex</th>\n",
              "      <td>0.222</td>\n",
              "    </tr>\n",
              "    <tr>\n",
              "      <th>Age</th>\n",
              "      <td>0.191</td>\n",
              "    </tr>\n",
              "    <tr>\n",
              "      <th>Fare</th>\n",
              "      <td>0.151</td>\n",
              "    </tr>\n",
              "    <tr>\n",
              "      <th>Title</th>\n",
              "      <td>0.119</td>\n",
              "    </tr>\n",
              "    <tr>\n",
              "      <th>Pclass</th>\n",
              "      <td>0.117</td>\n",
              "    </tr>\n",
              "    <tr>\n",
              "      <th>Deck</th>\n",
              "      <td>0.103</td>\n",
              "    </tr>\n",
              "    <tr>\n",
              "      <th>Embarked</th>\n",
              "      <td>0.061</td>\n",
              "    </tr>\n",
              "    <tr>\n",
              "      <th>Relatives</th>\n",
              "      <td>0.035</td>\n",
              "    </tr>\n",
              "  </tbody>\n",
              "</table>\n",
              "</div>"
            ],
            "text/plain": [
              "           importance\n",
              "feature              \n",
              "Sex             0.222\n",
              "Age             0.191\n",
              "Fare            0.151\n",
              "Title           0.119\n",
              "Pclass          0.117\n",
              "Deck            0.103\n",
              "Embarked        0.061\n",
              "Relatives       0.035"
            ]
          },
          "metadata": {},
          "execution_count": 153
        }
      ]
    },
    {
      "cell_type": "code",
      "metadata": {
        "colab": {
          "base_uri": "https://localhost:8080/",
          "height": 337
        },
        "id": "qI5u82OSWvwp",
        "outputId": "6a3a3055-67ea-4a63-84c6-6180c35f89ba"
      },
      "source": [
        "importancia.plot.bar()"
      ],
      "execution_count": 154,
      "outputs": [
        {
          "output_type": "execute_result",
          "data": {
            "text/plain": [
              "<matplotlib.axes._subplots.AxesSubplot at 0x7f913afcb690>"
            ]
          },
          "metadata": {},
          "execution_count": 154
        },
        {
          "output_type": "display_data",
          "data": {
            "image/png": "[encoded data removed]",
            "text/plain": [
              "<Figure size 432x288 with 1 Axes>"
            ]
          },
          "metadata": {
            "needs_background": "light"
          }
        }
      ]
    },
    {
      "cell_type": "markdown",
      "metadata": {
        "id": "ynzoHQauVTmu"
      },
      "source": [
        "### KNN"
      ]
    },
    {
      "cell_type": "code",
      "metadata": {
        "id": "w9cA39rXWvwp"
      },
      "source": [
        "from sklearn.neighbors import KNeighborsClassifier"
      ],
      "execution_count": 155,
      "outputs": []
    },
    {
      "cell_type": "code",
      "metadata": {
        "colab": {
          "base_uri": "https://localhost:8080/"
        },
        "id": "5UUXX74GWvwp",
        "outputId": "65a0e57d-d02c-4dc8-a3b6-b35fba08657b"
      },
      "source": [
        "knn_titanic = KNeighborsClassifier(n_neighbors=3, metric = 'minkowski', p = 2)\n",
        "knn_titanic.fit(X_titanic_treinamento, y_titanic_treinamento)"
      ],
      "execution_count": 156,
      "outputs": [
        {
          "output_type": "execute_result",
          "data": {
            "text/plain": [
              "KNeighborsClassifier(algorithm='auto', leaf_size=30, metric='minkowski',\n",
              "                     metric_params=None, n_jobs=None, n_neighbors=3, p=2,\n",
              "                     weights='uniform')"
            ]
          },
          "metadata": {},
          "execution_count": 156
        }
      ]
    },
    {
      "cell_type": "code",
      "metadata": {
        "colab": {
          "base_uri": "https://localhost:8080/"
        },
        "id": "G0PDSNBmWvwq",
        "outputId": "05f9203c-3409-4726-e0df-2e797914da7a"
      },
      "source": [
        "previsoes_knn = knn_titanic.predict(X_titanic_teste)\n",
        "previsoes_knn"
      ],
      "execution_count": 157,
      "outputs": [
        {
          "output_type": "execute_result",
          "data": {
            "text/plain": [
              "array([0, 0, 0, 0, 1, 1, 1, 0, 0, 0, 0, 0, 1, 0, 1, 1, 0, 0, 0, 0, 0, 1,\n",
              "       1, 0, 1, 0, 1, 0, 0, 0, 0, 0, 1, 1, 0, 0, 0, 0, 0, 1, 0, 0, 0, 1,\n",
              "       1, 0, 0, 0, 1, 1, 0, 1, 1, 1, 0, 0, 0, 0, 0, 1, 1, 0, 0, 1, 1, 1,\n",
              "       1, 0, 1, 1, 0, 0, 0, 1, 1, 0, 0, 1, 0, 0, 1, 0, 0, 0, 0, 0, 1, 1,\n",
              "       1, 1, 1, 0, 1, 0, 0, 1, 1, 0, 1, 0, 1, 0, 0, 1, 0, 0, 0, 0, 0, 1,\n",
              "       0, 1, 1, 1, 1, 1, 0, 1, 1, 1, 1, 0, 1, 0, 0, 1, 0, 1, 0, 0, 0, 1,\n",
              "       1, 0, 0, 0, 0, 0, 1, 0, 0, 1, 1, 0, 0, 0, 1, 0, 0, 1, 1, 0, 0, 1,\n",
              "       0, 1, 1, 0, 0, 1, 1, 1, 1, 0, 0, 1, 0, 0, 0, 0, 0, 0, 0, 0, 0, 1,\n",
              "       0, 0, 1, 1, 0, 1, 0, 0, 1, 0, 1, 1, 0, 0, 0, 0, 1, 0, 1, 0, 1, 1,\n",
              "       0, 0, 1, 1, 1, 1, 0, 0, 1, 0, 0, 0, 0, 0, 0, 1, 0, 0, 1, 0, 1, 0,\n",
              "       1, 0, 1, 0, 1, 0, 1, 1, 0, 0, 0, 1, 0, 0, 0, 0, 1, 0, 1, 1, 1, 1,\n",
              "       1, 0, 0, 1, 1, 0, 1, 0, 1, 0, 0, 0, 0, 0, 0, 0, 1, 0, 0, 0, 1, 1,\n",
              "       0, 0, 0, 0, 0, 1, 0, 0, 1, 1, 0, 1, 0, 0, 0, 1, 1, 1, 1, 1, 1, 0,\n",
              "       0, 0, 0, 0, 0, 1, 0, 1, 0, 0, 1, 0, 0, 0, 0, 1, 0, 0, 1, 1, 0, 1,\n",
              "       1, 0, 1, 0, 0, 1, 1, 1, 1, 1, 0, 0, 1, 0, 1, 0, 0, 1, 1, 0, 0, 0,\n",
              "       1, 0, 0, 1, 0, 0, 0, 0, 0, 1, 1, 0, 0, 1, 1, 1, 0, 1, 0, 1, 1, 0,\n",
              "       0, 0, 1, 0, 1, 0, 0, 1, 0, 1, 1, 0, 1, 1, 0, 0, 0, 0, 0, 1, 0, 0,\n",
              "       1, 1, 0, 0, 0, 0, 0, 0, 1, 1, 0, 1, 1, 0, 0, 1, 0, 1, 1, 0, 0, 1,\n",
              "       0, 1, 0, 0, 1, 0, 0, 0, 0, 1, 0, 0, 1, 1, 1, 1, 0, 0, 1, 0, 0, 1])"
            ]
          },
          "metadata": {},
          "execution_count": 157
        }
      ]
    },
    {
      "cell_type": "code",
      "metadata": {
        "colab": {
          "base_uri": "https://localhost:8080/"
        },
        "id": "LFYCViYIWvwq",
        "outputId": "2eaee404-bc96-4f85-e1b8-d2974d54e8ef"
      },
      "source": [
        "knn_titanic.score(X_titanic_treinamento, y_titanic_treinamento)\n",
        "acc_knn = round(knn_titanic.score(X_titanic_treinamento, y_titanic_treinamento)*100, 2)\n",
        "acc_knn"
      ],
      "execution_count": 158,
      "outputs": [
        {
          "output_type": "execute_result",
          "data": {
            "text/plain": [
              "84.7"
            ]
          },
          "metadata": {},
          "execution_count": 158
        }
      ]
    },
    {
      "cell_type": "markdown",
      "metadata": {
        "id": "PCzFenBwVZBZ"
      },
      "source": [
        "### Regressão Logística"
      ]
    },
    {
      "cell_type": "code",
      "metadata": {
        "id": "ePoB0toUWvwq"
      },
      "source": [
        "from sklearn.linear_model import LogisticRegression"
      ],
      "execution_count": 159,
      "outputs": []
    },
    {
      "cell_type": "code",
      "metadata": {
        "colab": {
          "base_uri": "https://localhost:8080/"
        },
        "id": "5dHRaYH_Wvwq",
        "outputId": "6c9d802f-7a8b-4c20-f582-6f802f97cc41"
      },
      "source": [
        "logistic_titanic = LogisticRegression()\n",
        "logistic_titanic.fit(X_titanic_treinamento, y_titanic_treinamento)"
      ],
      "execution_count": 160,
      "outputs": [
        {
          "output_type": "execute_result",
          "data": {
            "text/plain": [
              "LogisticRegression(C=1.0, class_weight=None, dual=False, fit_intercept=True,\n",
              "                   intercept_scaling=1, l1_ratio=None, max_iter=100,\n",
              "                   multi_class='auto', n_jobs=None, penalty='l2',\n",
              "                   random_state=None, solver='lbfgs', tol=0.0001, verbose=0,\n",
              "                   warm_start=False)"
            ]
          },
          "metadata": {},
          "execution_count": 160
        }
      ]
    },
    {
      "cell_type": "code",
      "metadata": {
        "colab": {
          "base_uri": "https://localhost:8080/"
        },
        "id": "FhbrzoBnWvwr",
        "outputId": "5dcd1aaa-6142-4e9d-aeb7-84549ca4434f"
      },
      "source": [
        "previsoes_logistic = logistic_titanic.predict(X_titanic_teste)\n",
        "previsoes_logistic"
      ],
      "execution_count": 161,
      "outputs": [
        {
          "output_type": "execute_result",
          "data": {
            "text/plain": [
              "array([0, 0, 0, 0, 1, 0, 1, 0, 1, 0, 0, 0, 1, 0, 1, 1, 0, 0, 1, 1, 0, 0,\n",
              "       1, 1, 1, 0, 1, 0, 0, 0, 0, 0, 0, 0, 1, 0, 1, 1, 0, 0, 0, 0, 0, 1,\n",
              "       1, 0, 1, 0, 1, 0, 0, 0, 1, 1, 0, 0, 0, 0, 0, 1, 0, 0, 0, 1, 1, 1,\n",
              "       1, 0, 1, 1, 1, 0, 1, 1, 1, 1, 0, 1, 0, 1, 0, 0, 0, 0, 0, 0, 1, 1,\n",
              "       1, 0, 1, 0, 1, 0, 1, 0, 1, 0, 1, 0, 1, 0, 0, 0, 1, 0, 0, 0, 0, 0,\n",
              "       0, 1, 1, 1, 1, 0, 0, 1, 1, 1, 1, 0, 1, 0, 0, 1, 0, 1, 0, 0, 0, 0,\n",
              "       0, 0, 0, 0, 0, 0, 1, 0, 1, 1, 1, 0, 0, 0, 0, 0, 0, 0, 1, 0, 0, 0,\n",
              "       0, 0, 1, 1, 0, 1, 1, 0, 1, 0, 0, 1, 1, 0, 1, 1, 0, 0, 0, 0, 0, 1,\n",
              "       1, 0, 1, 1, 0, 0, 1, 0, 1, 0, 1, 0, 1, 0, 0, 0, 0, 0, 0, 0, 1, 1,\n",
              "       0, 0, 1, 0, 0, 1, 0, 0, 1, 0, 1, 0, 0, 0, 0, 1, 1, 0, 1, 0, 1, 0,\n",
              "       1, 0, 1, 0, 1, 1, 0, 1, 0, 0, 0, 1, 0, 0, 1, 0, 0, 0, 1, 1, 1, 1,\n",
              "       0, 0, 0, 0, 1, 0, 1, 1, 1, 0, 1, 0, 0, 0, 0, 0, 1, 0, 0, 0, 1, 1,\n",
              "       0, 0, 0, 0, 1, 0, 0, 0, 1, 1, 0, 1, 0, 0, 0, 0, 1, 0, 1, 1, 1, 0,\n",
              "       0, 1, 0, 0, 0, 1, 0, 0, 0, 0, 1, 0, 0, 0, 0, 0, 0, 0, 1, 1, 0, 0,\n",
              "       0, 0, 0, 0, 0, 1, 1, 1, 1, 0, 0, 0, 0, 0, 0, 0, 1, 0, 1, 0, 0, 0,\n",
              "       1, 1, 0, 1, 0, 0, 0, 0, 0, 0, 0, 0, 0, 1, 0, 1, 0, 1, 0, 1, 1, 0,\n",
              "       0, 0, 1, 0, 1, 0, 0, 0, 0, 1, 1, 0, 1, 0, 0, 1, 1, 0, 0, 1, 0, 0,\n",
              "       1, 1, 1, 0, 0, 0, 0, 0, 0, 1, 0, 1, 0, 0, 0, 0, 1, 1, 0, 0, 0, 1,\n",
              "       0, 1, 0, 0, 1, 0, 1, 0, 0, 0, 0, 0, 1, 1, 1, 1, 1, 0, 1, 0, 0, 0])"
            ]
          },
          "metadata": {},
          "execution_count": 161
        }
      ]
    },
    {
      "cell_type": "code",
      "metadata": {
        "colab": {
          "base_uri": "https://localhost:8080/"
        },
        "id": "0JyVuahjWvwr",
        "outputId": "05e5d8b8-2086-4ddc-9643-fb692d00e842"
      },
      "source": [
        "logistic_titanic.score(X_titanic_treinamento, y_titanic_treinamento)\n",
        "acc_logistic = round(logistic_titanic.score(X_titanic_treinamento, y_titanic_treinamento)*100, 2)\n",
        "acc_logistic"
      ],
      "execution_count": 162,
      "outputs": [
        {
          "output_type": "execute_result",
          "data": {
            "text/plain": [
              "79.19"
            ]
          },
          "metadata": {},
          "execution_count": 162
        }
      ]
    },
    {
      "cell_type": "markdown",
      "metadata": {
        "id": "lBthusa1VgJp"
      },
      "source": [
        "### Vetores de Suporte"
      ]
    },
    {
      "cell_type": "code",
      "metadata": {
        "id": "p9AnDu5IWvwr"
      },
      "source": [
        "from sklearn.svm import SVC"
      ],
      "execution_count": 163,
      "outputs": []
    },
    {
      "cell_type": "code",
      "metadata": {
        "colab": {
          "base_uri": "https://localhost:8080/"
        },
        "id": "PkNR-HdHWvwr",
        "outputId": "3fe0005f-9152-4f9a-f497-9742d4f3661e"
      },
      "source": [
        "svm_titanic = SVC(kernel = 'linear', C = 1.0)\n",
        "svm_titanic.fit(X_titanic_treinamento, y_titanic_treinamento)"
      ],
      "execution_count": 164,
      "outputs": [
        {
          "output_type": "execute_result",
          "data": {
            "text/plain": [
              "SVC(C=1.0, break_ties=False, cache_size=200, class_weight=None, coef0=0.0,\n",
              "    decision_function_shape='ovr', degree=3, gamma='scale', kernel='linear',\n",
              "    max_iter=-1, probability=False, random_state=None, shrinking=True,\n",
              "    tol=0.001, verbose=False)"
            ]
          },
          "metadata": {},
          "execution_count": 164
        }
      ]
    },
    {
      "cell_type": "code",
      "metadata": {
        "colab": {
          "base_uri": "https://localhost:8080/"
        },
        "id": "0exoueDqWvwr",
        "outputId": "ab84ae0e-bd50-426d-903c-63a5836a6d53"
      },
      "source": [
        "previsoes_svm = svm_titanic.predict(X_titanic_teste)\n",
        "previsoes_svm"
      ],
      "execution_count": 165,
      "outputs": [
        {
          "output_type": "execute_result",
          "data": {
            "text/plain": [
              "array([0, 1, 0, 0, 1, 0, 1, 0, 1, 0, 0, 0, 1, 0, 1, 1, 0, 0, 1, 1, 0, 0,\n",
              "       1, 0, 1, 0, 1, 0, 0, 0, 0, 0, 1, 1, 0, 0, 1, 1, 0, 0, 0, 0, 0, 1,\n",
              "       1, 0, 0, 0, 1, 1, 0, 0, 1, 1, 0, 0, 0, 0, 0, 1, 0, 0, 0, 1, 0, 1,\n",
              "       1, 0, 0, 1, 1, 0, 1, 0, 1, 0, 0, 1, 0, 1, 0, 0, 0, 0, 0, 0, 1, 1,\n",
              "       1, 0, 1, 0, 1, 0, 0, 0, 1, 0, 1, 0, 1, 0, 0, 0, 1, 0, 0, 0, 0, 0,\n",
              "       0, 1, 1, 1, 1, 0, 0, 1, 0, 1, 1, 0, 1, 0, 0, 1, 0, 1, 0, 0, 0, 0,\n",
              "       1, 0, 0, 0, 0, 0, 1, 0, 1, 1, 0, 0, 0, 0, 0, 0, 0, 0, 1, 0, 0, 1,\n",
              "       0, 0, 1, 1, 0, 1, 1, 0, 1, 0, 0, 1, 0, 0, 1, 1, 0, 0, 0, 0, 0, 1,\n",
              "       1, 0, 1, 1, 0, 0, 1, 0, 1, 0, 1, 0, 1, 0, 0, 0, 0, 0, 0, 0, 0, 1,\n",
              "       0, 1, 1, 0, 0, 1, 0, 0, 1, 0, 1, 0, 0, 0, 0, 1, 1, 0, 1, 0, 1, 0,\n",
              "       1, 0, 1, 0, 1, 1, 0, 1, 0, 0, 0, 1, 0, 0, 0, 0, 0, 0, 1, 1, 1, 1,\n",
              "       0, 0, 0, 0, 1, 0, 1, 1, 1, 0, 0, 0, 0, 0, 0, 0, 1, 0, 0, 0, 1, 1,\n",
              "       0, 0, 0, 0, 1, 0, 0, 0, 1, 1, 0, 1, 0, 0, 0, 0, 1, 0, 1, 1, 1, 0,\n",
              "       0, 0, 0, 0, 0, 1, 0, 0, 0, 0, 1, 0, 0, 0, 0, 0, 0, 0, 1, 1, 0, 0,\n",
              "       0, 1, 0, 0, 0, 1, 1, 1, 0, 0, 0, 0, 0, 0, 0, 0, 1, 0, 1, 0, 0, 0,\n",
              "       1, 0, 0, 1, 0, 0, 0, 0, 0, 0, 0, 0, 0, 1, 0, 1, 0, 1, 0, 1, 1, 0,\n",
              "       0, 0, 1, 0, 1, 0, 0, 1, 0, 1, 1, 0, 1, 1, 0, 1, 1, 0, 0, 1, 0, 0,\n",
              "       1, 1, 1, 0, 0, 0, 0, 0, 1, 1, 0, 1, 0, 0, 0, 0, 0, 1, 0, 0, 0, 1,\n",
              "       0, 1, 0, 0, 1, 0, 1, 0, 0, 0, 0, 0, 1, 1, 1, 1, 1, 0, 1, 0, 0, 0])"
            ]
          },
          "metadata": {},
          "execution_count": 165
        }
      ]
    },
    {
      "cell_type": "code",
      "metadata": {
        "colab": {
          "base_uri": "https://localhost:8080/"
        },
        "id": "H-m65kGgWvws",
        "outputId": "50f40302-36e0-496f-fbf2-163cd6961e68"
      },
      "source": [
        "svm_titanic.score(X_titanic_treinamento, y_titanic_treinamento)\n",
        "acc_svm = round(svm_titanic.score(X_titanic_treinamento, y_titanic_treinamento)*100, 2)\n",
        "acc_svm"
      ],
      "execution_count": 166,
      "outputs": [
        {
          "output_type": "execute_result",
          "data": {
            "text/plain": [
              "78.63"
            ]
          },
          "metadata": {},
          "execution_count": 166
        }
      ]
    },
    {
      "cell_type": "markdown",
      "metadata": {
        "id": "pcke_uUaVkx0"
      },
      "source": [
        "### Xgboost"
      ]
    },
    {
      "cell_type": "code",
      "metadata": {
        "colab": {
          "base_uri": "https://localhost:8080/"
        },
        "id": "VXmjQ7iBWvws",
        "outputId": "1e312184-2433-4c02-ec08-cf2420436c56"
      },
      "source": [
        "!pip install xgboost"
      ],
      "execution_count": 167,
      "outputs": [
        {
          "output_type": "stream",
          "name": "stdout",
          "text": [
            "Requirement already satisfied: xgboost in /usr/local/lib/python3.7/dist-packages (0.90)\n",
            "Requirement already satisfied: scipy in /usr/local/lib/python3.7/dist-packages (from xgboost) (1.4.1)\n",
            "Requirement already satisfied: numpy in /usr/local/lib/python3.7/dist-packages (from xgboost) (1.19.5)\n"
          ]
        }
      ]
    },
    {
      "cell_type": "code",
      "metadata": {
        "id": "Z4ld2Ip0Wvws"
      },
      "source": [
        "from xgboost import XGBClassifier"
      ],
      "execution_count": 168,
      "outputs": []
    },
    {
      "cell_type": "code",
      "metadata": {
        "colab": {
          "base_uri": "https://localhost:8080/"
        },
        "id": "ZyF5oHEcWvws",
        "outputId": "0c0bf429-2aab-4c9e-dd0f-af71c86fc640"
      },
      "source": [
        "xgboost_titanic = XGBClassifier()\n",
        "xgboost_titanic.fit(X_titanic_treinamento, y_titanic_treinamento)"
      ],
      "execution_count": 169,
      "outputs": [
        {
          "output_type": "execute_result",
          "data": {
            "text/plain": [
              "XGBClassifier(base_score=0.5, booster='gbtree', colsample_bylevel=1,\n",
              "              colsample_bynode=1, colsample_bytree=1, gamma=0,\n",
              "              learning_rate=0.1, max_delta_step=0, max_depth=3,\n",
              "              min_child_weight=1, missing=None, n_estimators=100, n_jobs=1,\n",
              "              nthread=None, objective='binary:logistic', random_state=0,\n",
              "              reg_alpha=0, reg_lambda=1, scale_pos_weight=1, seed=None,\n",
              "              silent=None, subsample=1, verbosity=1)"
            ]
          },
          "metadata": {},
          "execution_count": 169
        }
      ]
    },
    {
      "cell_type": "code",
      "metadata": {
        "colab": {
          "base_uri": "https://localhost:8080/"
        },
        "id": "GZcTkjM1Wvws",
        "outputId": "062f42b6-e745-4266-9d2f-63f5423a4cb7"
      },
      "source": [
        "previsoes_xgboost = xgboost_titanic.predict(X_titanic_teste)\n",
        "previsoes_xgboost"
      ],
      "execution_count": 170,
      "outputs": [
        {
          "output_type": "execute_result",
          "data": {
            "text/plain": [
              "array([0, 0, 0, 0, 0, 0, 1, 0, 1, 0, 0, 0, 1, 0, 1, 1, 0, 0, 0, 0, 0, 1,\n",
              "       1, 0, 1, 0, 1, 0, 0, 0, 0, 0, 0, 0, 0, 0, 0, 0, 0, 0, 0, 1, 0, 1,\n",
              "       1, 0, 0, 0, 1, 0, 0, 0, 1, 1, 0, 0, 0, 0, 0, 1, 0, 0, 0, 1, 1, 1,\n",
              "       1, 0, 0, 1, 1, 0, 0, 1, 1, 0, 0, 1, 0, 1, 1, 0, 0, 0, 0, 0, 1, 0,\n",
              "       1, 1, 0, 0, 1, 0, 0, 0, 1, 0, 0, 0, 1, 0, 0, 0, 1, 0, 0, 0, 0, 0,\n",
              "       0, 1, 1, 1, 1, 0, 0, 1, 0, 1, 1, 0, 1, 0, 0, 0, 0, 0, 0, 0, 0, 1,\n",
              "       0, 0, 0, 0, 0, 0, 0, 0, 0, 1, 0, 0, 0, 0, 1, 0, 0, 0, 1, 0, 0, 0,\n",
              "       0, 0, 1, 0, 0, 0, 1, 1, 1, 0, 0, 0, 0, 0, 1, 0, 0, 0, 0, 0, 0, 1,\n",
              "       1, 0, 1, 1, 0, 1, 1, 0, 1, 0, 1, 0, 0, 0, 0, 0, 1, 0, 1, 0, 1, 1,\n",
              "       0, 1, 1, 1, 1, 1, 0, 0, 1, 0, 1, 0, 0, 0, 0, 1, 0, 0, 1, 0, 1, 0,\n",
              "       1, 0, 1, 0, 1, 1, 0, 1, 0, 0, 0, 1, 0, 0, 0, 0, 0, 0, 1, 1, 1, 1,\n",
              "       0, 0, 0, 0, 1, 0, 1, 1, 1, 0, 0, 0, 0, 0, 0, 0, 1, 0, 0, 0, 1, 0,\n",
              "       0, 0, 0, 0, 0, 0, 0, 0, 1, 1, 0, 1, 0, 0, 0, 0, 0, 1, 1, 1, 0, 0,\n",
              "       0, 0, 0, 0, 0, 1, 0, 1, 0, 0, 1, 0, 0, 0, 0, 1, 0, 0, 1, 1, 0, 1,\n",
              "       0, 0, 0, 0, 0, 1, 1, 1, 0, 0, 0, 0, 0, 0, 0, 0, 1, 0, 1, 0, 0, 0,\n",
              "       1, 0, 0, 1, 0, 0, 0, 0, 0, 1, 0, 0, 0, 1, 1, 1, 0, 1, 0, 1, 1, 0,\n",
              "       0, 0, 0, 0, 1, 0, 0, 0, 0, 1, 1, 0, 1, 0, 0, 0, 1, 0, 0, 1, 0, 0,\n",
              "       1, 1, 0, 0, 0, 0, 0, 0, 1, 0, 0, 1, 0, 0, 0, 1, 0, 1, 1, 0, 0, 1,\n",
              "       0, 1, 0, 0, 1, 0, 1, 0, 0, 1, 0, 0, 1, 0, 1, 1, 0, 0, 1, 0, 0, 0])"
            ]
          },
          "metadata": {},
          "execution_count": 170
        }
      ]
    },
    {
      "cell_type": "code",
      "metadata": {
        "colab": {
          "base_uri": "https://localhost:8080/"
        },
        "id": "dwCw_jKVWvwt",
        "outputId": "e5c41ec4-d3be-45ff-a82e-d05c55908354"
      },
      "source": [
        "xgboost_titanic.score(X_titanic_treinamento, y_titanic_treinamento)\n",
        "acc_xgboost = round(xgboost_titanic.score(X_titanic_treinamento, y_titanic_treinamento)*100, 2)\n",
        "acc_xgboost"
      ],
      "execution_count": 171,
      "outputs": [
        {
          "output_type": "execute_result",
          "data": {
            "text/plain": [
              "86.05"
            ]
          },
          "metadata": {},
          "execution_count": 171
        }
      ]
    },
    {
      "cell_type": "markdown",
      "metadata": {
        "id": "9lQ4tAD8VpQZ"
      },
      "source": [
        "### Resumo dos resultados"
      ]
    },
    {
      "cell_type": "code",
      "metadata": {
        "colab": {
          "base_uri": "https://localhost:8080/",
          "height": 300
        },
        "id": "GFU5E_zCWvwt",
        "outputId": "4c9ae180-9a06-496d-f87e-7e7cabe7bfe4"
      },
      "source": [
        "resultados = pd.DataFrame({\n",
        "    'Model': ['Naive Bayes','Decision Tree','Random Forest',\n",
        "              'KNN', 'Logistic Regression','Support Vector Machines',\n",
        "              'XGBoost'],\n",
        "    'Score': [acc_naive, acc_arvore, acc_random_forest, \n",
        "              acc_knn, acc_logistic, acc_svm, acc_xgboost]})\n",
        "resultados_df = resultados.sort_values(by='Score', ascending=False)\n",
        "resultados_df = resultados_df.set_index('Score')\n",
        "resultados_df.head(9)"
      ],
      "execution_count": 172,
      "outputs": [
        {
          "output_type": "execute_result",
          "data": {
            "text/html": [
              "<div>\n",
              "<style scoped>\n",
              "    .dataframe tbody tr th:only-of-type {\n",
              "        vertical-align: middle;\n",
              "    }\n",
              "\n",
              "    .dataframe tbody tr th {\n",
              "        vertical-align: top;\n",
              "    }\n",
              "\n",
              "    .dataframe thead th {\n",
              "        text-align: right;\n",
              "    }\n",
              "</style>\n",
              "<table border=\"1\" class=\"dataframe\">\n",
              "  <thead>\n",
              "    <tr style=\"text-align: right;\">\n",
              "      <th></th>\n",
              "      <th>Model</th>\n",
              "    </tr>\n",
              "    <tr>\n",
              "      <th>Score</th>\n",
              "      <th></th>\n",
              "    </tr>\n",
              "  </thead>\n",
              "  <tbody>\n",
              "    <tr>\n",
              "      <th>90.44</th>\n",
              "      <td>Decision Tree</td>\n",
              "    </tr>\n",
              "    <tr>\n",
              "      <th>90.44</th>\n",
              "      <td>Random Forest</td>\n",
              "    </tr>\n",
              "    <tr>\n",
              "      <th>86.05</th>\n",
              "      <td>XGBoost</td>\n",
              "    </tr>\n",
              "    <tr>\n",
              "      <th>84.70</th>\n",
              "      <td>KNN</td>\n",
              "    </tr>\n",
              "    <tr>\n",
              "      <th>79.19</th>\n",
              "      <td>Logistic Regression</td>\n",
              "    </tr>\n",
              "    <tr>\n",
              "      <th>78.63</th>\n",
              "      <td>Support Vector Machines</td>\n",
              "    </tr>\n",
              "    <tr>\n",
              "      <th>74.80</th>\n",
              "      <td>Naive Bayes</td>\n",
              "    </tr>\n",
              "  </tbody>\n",
              "</table>\n",
              "</div>"
            ],
            "text/plain": [
              "                         Model\n",
              "Score                         \n",
              "90.44            Decision Tree\n",
              "90.44            Random Forest\n",
              "86.05                  XGBoost\n",
              "84.70                      KNN\n",
              "79.19      Logistic Regression\n",
              "78.63  Support Vector Machines\n",
              "74.80              Naive Bayes"
            ]
          },
          "metadata": {},
          "execution_count": 172
        }
      ]
    }
  ]
}