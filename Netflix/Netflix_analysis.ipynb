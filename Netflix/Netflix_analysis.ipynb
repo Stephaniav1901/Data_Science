{
  "nbformat": 4,
  "nbformat_minor": 0,
  "metadata": {
    "colab": {
      "name": "Netflix_analisys.ipynb",
      "provenance": []
    },
    "kernelspec": {
      "name": "python3",
      "display_name": "Python 3"
    },
    "language_info": {
      "name": "python"
    }
  },
  "cells": [
    {
      "cell_type": "markdown",
      "metadata": {
        "id": "OMqJsQjftFd-"
      },
      "source": [
        "## Importando os módulos"
      ]
    },
    {
      "cell_type": "code",
      "metadata": {
        "id": "nx4PK24JlS4U"
      },
      "source": [
        "import pandas as pd\n",
        "import matplotlib.pyplot as plt"
      ],
      "execution_count": 2,
      "outputs": []
    },
    {
      "cell_type": "markdown",
      "metadata": {
        "id": "cIRIaAWNtKqr"
      },
      "source": [
        "## Carregandos os dados"
      ]
    },
    {
      "cell_type": "code",
      "metadata": {
        "id": "H39Hv0y9mLds"
      },
      "source": [
        "df = pd.read_csv('/content/drive/MyDrive/Colab Notebooks/ViewingActivity.csv')"
      ],
      "execution_count": 3,
      "outputs": []
    },
    {
      "cell_type": "code",
      "metadata": {
        "colab": {
          "base_uri": "https://localhost:8080/"
        },
        "id": "bnGHQlHYmpUd",
        "outputId": "cb3f4caf-2048-4e09-be23-d8c16abdbd73"
      },
      "source": [
        "df.shape"
      ],
      "execution_count": 4,
      "outputs": [
        {
          "output_type": "execute_result",
          "data": {
            "text/plain": [
              "(3292, 10)"
            ]
          },
          "metadata": {},
          "execution_count": 4
        }
      ]
    },
    {
      "cell_type": "markdown",
      "metadata": {
        "id": "K0OHv9lutQ5X"
      },
      "source": [
        "## Visualização dos dados"
      ]
    },
    {
      "cell_type": "code",
      "metadata": {
        "colab": {
          "base_uri": "https://localhost:8080/",
          "height": 397
        },
        "id": "ZZ6YzIUZm2QL",
        "outputId": "c2f1bdbc-c315-4f0d-d7c8-731c927a31fa"
      },
      "source": [
        "df.head()"
      ],
      "execution_count": 5,
      "outputs": [
        {
          "output_type": "execute_result",
          "data": {
            "text/html": [
              "<div>\n",
              "<style scoped>\n",
              "    .dataframe tbody tr th:only-of-type {\n",
              "        vertical-align: middle;\n",
              "    }\n",
              "\n",
              "    .dataframe tbody tr th {\n",
              "        vertical-align: top;\n",
              "    }\n",
              "\n",
              "    .dataframe thead th {\n",
              "        text-align: right;\n",
              "    }\n",
              "</style>\n",
              "<table border=\"1\" class=\"dataframe\">\n",
              "  <thead>\n",
              "    <tr style=\"text-align: right;\">\n",
              "      <th></th>\n",
              "      <th>Profile Name</th>\n",
              "      <th>Start Time</th>\n",
              "      <th>Duration</th>\n",
              "      <th>Attributes</th>\n",
              "      <th>Title</th>\n",
              "      <th>Supplemental Video Type</th>\n",
              "      <th>Device Type</th>\n",
              "      <th>Bookmark</th>\n",
              "      <th>Latest Bookmark</th>\n",
              "      <th>Country</th>\n",
              "    </tr>\n",
              "  </thead>\n",
              "  <tbody>\n",
              "    <tr>\n",
              "      <th>0</th>\n",
              "      <td>Stephania</td>\n",
              "      <td>2021-10-09 23:20:18</td>\n",
              "      <td>00:52:33</td>\n",
              "      <td>Autoplayed: user action: None;</td>\n",
              "      <td>Desaparecido para Sempre: Minissérie: Fred (Ep...</td>\n",
              "      <td>NaN</td>\n",
              "      <td>LG LG 2017 MStar M2R Standard DTV Smart TV</td>\n",
              "      <td>00:52:38</td>\n",
              "      <td>00:52:38</td>\n",
              "      <td>BR (Brazil)</td>\n",
              "    </tr>\n",
              "    <tr>\n",
              "      <th>1</th>\n",
              "      <td>Stephania</td>\n",
              "      <td>2021-10-09 22:29:59</td>\n",
              "      <td>00:50:16</td>\n",
              "      <td>NaN</td>\n",
              "      <td>Desaparecido para Sempre: Minissérie: Nora (Ep...</td>\n",
              "      <td>NaN</td>\n",
              "      <td>LG LG 2017 MStar M2R Standard DTV Smart TV</td>\n",
              "      <td>00:50:21</td>\n",
              "      <td>00:50:21</td>\n",
              "      <td>BR (Brazil)</td>\n",
              "    </tr>\n",
              "    <tr>\n",
              "      <th>2</th>\n",
              "      <td>Stephania</td>\n",
              "      <td>2021-10-09 21:45:51</td>\n",
              "      <td>00:44:06</td>\n",
              "      <td>NaN</td>\n",
              "      <td>Desaparecido para Sempre: Minissérie: Daco (Ep...</td>\n",
              "      <td>NaN</td>\n",
              "      <td>LG LG 2017 MStar M2R Standard DTV Smart TV</td>\n",
              "      <td>00:44:11</td>\n",
              "      <td>00:44:11</td>\n",
              "      <td>BR (Brazil)</td>\n",
              "    </tr>\n",
              "    <tr>\n",
              "      <th>3</th>\n",
              "      <td>Stephania</td>\n",
              "      <td>2021-10-09 20:33:18</td>\n",
              "      <td>00:46:55</td>\n",
              "      <td>Autoplayed: user action: User_Interaction;</td>\n",
              "      <td>Desaparecido para Sempre: Minissérie: Inès (Ep...</td>\n",
              "      <td>NaN</td>\n",
              "      <td>LG LG 2017 MStar M2R Standard DTV Smart TV</td>\n",
              "      <td>00:47:00</td>\n",
              "      <td>00:47:00</td>\n",
              "      <td>BR (Brazil)</td>\n",
              "    </tr>\n",
              "    <tr>\n",
              "      <th>4</th>\n",
              "      <td>Stephania</td>\n",
              "      <td>2021-10-09 19:45:12</td>\n",
              "      <td>00:41:20</td>\n",
              "      <td>Autoplayed: user action: User_Interaction;</td>\n",
              "      <td>Desaparecido para Sempre: Minissérie: Guillaum...</td>\n",
              "      <td>NaN</td>\n",
              "      <td>LG LG 2017 MStar M2R Standard DTV Smart TV</td>\n",
              "      <td>00:41:20</td>\n",
              "      <td>00:41:20</td>\n",
              "      <td>BR (Brazil)</td>\n",
              "    </tr>\n",
              "  </tbody>\n",
              "</table>\n",
              "</div>"
            ],
            "text/plain": [
              "  Profile Name           Start Time  ... Latest Bookmark      Country\n",
              "0    Stephania  2021-10-09 23:20:18  ...        00:52:38  BR (Brazil)\n",
              "1    Stephania  2021-10-09 22:29:59  ...        00:50:21  BR (Brazil)\n",
              "2    Stephania  2021-10-09 21:45:51  ...        00:44:11  BR (Brazil)\n",
              "3    Stephania  2021-10-09 20:33:18  ...        00:47:00  BR (Brazil)\n",
              "4    Stephania  2021-10-09 19:45:12  ...        00:41:20  BR (Brazil)\n",
              "\n",
              "[5 rows x 10 columns]"
            ]
          },
          "metadata": {},
          "execution_count": 5
        }
      ]
    },
    {
      "cell_type": "markdown",
      "metadata": {
        "id": "xrH8Pvq3tfoq"
      },
      "source": [
        "## Transformação dos dados"
      ]
    },
    {
      "cell_type": "code",
      "metadata": {
        "colab": {
          "base_uri": "https://localhost:8080/",
          "height": 206
        },
        "id": "AJ63cyownyhr",
        "outputId": "7ec43d71-0fba-44a2-e91f-c003fbae613e"
      },
      "source": [
        "df = df.drop(['Profile Name', 'Attributes', 'Supplemental Video Type', 'Device Type', 'Bookmark', 'Latest Bookmark', 'Country'], axis=1)\n",
        "df.head()"
      ],
      "execution_count": 6,
      "outputs": [
        {
          "output_type": "execute_result",
          "data": {
            "text/html": [
              "<div>\n",
              "<style scoped>\n",
              "    .dataframe tbody tr th:only-of-type {\n",
              "        vertical-align: middle;\n",
              "    }\n",
              "\n",
              "    .dataframe tbody tr th {\n",
              "        vertical-align: top;\n",
              "    }\n",
              "\n",
              "    .dataframe thead th {\n",
              "        text-align: right;\n",
              "    }\n",
              "</style>\n",
              "<table border=\"1\" class=\"dataframe\">\n",
              "  <thead>\n",
              "    <tr style=\"text-align: right;\">\n",
              "      <th></th>\n",
              "      <th>Start Time</th>\n",
              "      <th>Duration</th>\n",
              "      <th>Title</th>\n",
              "    </tr>\n",
              "  </thead>\n",
              "  <tbody>\n",
              "    <tr>\n",
              "      <th>0</th>\n",
              "      <td>2021-10-09 23:20:18</td>\n",
              "      <td>00:52:33</td>\n",
              "      <td>Desaparecido para Sempre: Minissérie: Fred (Ep...</td>\n",
              "    </tr>\n",
              "    <tr>\n",
              "      <th>1</th>\n",
              "      <td>2021-10-09 22:29:59</td>\n",
              "      <td>00:50:16</td>\n",
              "      <td>Desaparecido para Sempre: Minissérie: Nora (Ep...</td>\n",
              "    </tr>\n",
              "    <tr>\n",
              "      <th>2</th>\n",
              "      <td>2021-10-09 21:45:51</td>\n",
              "      <td>00:44:06</td>\n",
              "      <td>Desaparecido para Sempre: Minissérie: Daco (Ep...</td>\n",
              "    </tr>\n",
              "    <tr>\n",
              "      <th>3</th>\n",
              "      <td>2021-10-09 20:33:18</td>\n",
              "      <td>00:46:55</td>\n",
              "      <td>Desaparecido para Sempre: Minissérie: Inès (Ep...</td>\n",
              "    </tr>\n",
              "    <tr>\n",
              "      <th>4</th>\n",
              "      <td>2021-10-09 19:45:12</td>\n",
              "      <td>00:41:20</td>\n",
              "      <td>Desaparecido para Sempre: Minissérie: Guillaum...</td>\n",
              "    </tr>\n",
              "  </tbody>\n",
              "</table>\n",
              "</div>"
            ],
            "text/plain": [
              "            Start Time  ...                                              Title\n",
              "0  2021-10-09 23:20:18  ...  Desaparecido para Sempre: Minissérie: Fred (Ep...\n",
              "1  2021-10-09 22:29:59  ...  Desaparecido para Sempre: Minissérie: Nora (Ep...\n",
              "2  2021-10-09 21:45:51  ...  Desaparecido para Sempre: Minissérie: Daco (Ep...\n",
              "3  2021-10-09 20:33:18  ...  Desaparecido para Sempre: Minissérie: Inès (Ep...\n",
              "4  2021-10-09 19:45:12  ...  Desaparecido para Sempre: Minissérie: Guillaum...\n",
              "\n",
              "[5 rows x 3 columns]"
            ]
          },
          "metadata": {},
          "execution_count": 6
        }
      ]
    },
    {
      "cell_type": "code",
      "metadata": {
        "id": "5XzkRIrImrV7"
      },
      "source": [
        "df['Start Time'] = pd.to_datetime(df['Start Time'], utc=True)"
      ],
      "execution_count": 7,
      "outputs": []
    },
    {
      "cell_type": "code",
      "metadata": {
        "colab": {
          "base_uri": "https://localhost:8080/"
        },
        "id": "gHbeFdq3orm9",
        "outputId": "f3fffbe1-6040-474d-f9e5-948fe9b3df8a"
      },
      "source": [
        "df.dtypes"
      ],
      "execution_count": 8,
      "outputs": [
        {
          "output_type": "execute_result",
          "data": {
            "text/plain": [
              "Start Time    datetime64[ns, UTC]\n",
              "Duration                   object\n",
              "Title                      object\n",
              "dtype: object"
            ]
          },
          "metadata": {},
          "execution_count": 8
        }
      ]
    },
    {
      "cell_type": "code",
      "metadata": {
        "id": "uDEPUJZqo9cD"
      },
      "source": [
        "df = df.set_index('Start Time')"
      ],
      "execution_count": 9,
      "outputs": []
    },
    {
      "cell_type": "code",
      "metadata": {
        "id": "gbhQeRUJpN_C"
      },
      "source": [
        "#convertendo para o fuso horarios local\n",
        "df.index = df.index.tz_convert('America/Sao_Paulo')"
      ],
      "execution_count": 10,
      "outputs": []
    },
    {
      "cell_type": "code",
      "metadata": {
        "id": "im1r8CiZqMSj"
      },
      "source": [
        "df = df.reset_index()"
      ],
      "execution_count": 11,
      "outputs": []
    },
    {
      "cell_type": "code",
      "metadata": {
        "colab": {
          "base_uri": "https://localhost:8080/",
          "height": 206
        },
        "id": "5qGQDa-_qqCL",
        "outputId": "39ecae24-d903-4813-fc7d-6b1316f91306"
      },
      "source": [
        "df.head()"
      ],
      "execution_count": 12,
      "outputs": [
        {
          "output_type": "execute_result",
          "data": {
            "text/html": [
              "<div>\n",
              "<style scoped>\n",
              "    .dataframe tbody tr th:only-of-type {\n",
              "        vertical-align: middle;\n",
              "    }\n",
              "\n",
              "    .dataframe tbody tr th {\n",
              "        vertical-align: top;\n",
              "    }\n",
              "\n",
              "    .dataframe thead th {\n",
              "        text-align: right;\n",
              "    }\n",
              "</style>\n",
              "<table border=\"1\" class=\"dataframe\">\n",
              "  <thead>\n",
              "    <tr style=\"text-align: right;\">\n",
              "      <th></th>\n",
              "      <th>Start Time</th>\n",
              "      <th>Duration</th>\n",
              "      <th>Title</th>\n",
              "    </tr>\n",
              "  </thead>\n",
              "  <tbody>\n",
              "    <tr>\n",
              "      <th>0</th>\n",
              "      <td>2021-10-09 20:20:18-03:00</td>\n",
              "      <td>00:52:33</td>\n",
              "      <td>Desaparecido para Sempre: Minissérie: Fred (Ep...</td>\n",
              "    </tr>\n",
              "    <tr>\n",
              "      <th>1</th>\n",
              "      <td>2021-10-09 19:29:59-03:00</td>\n",
              "      <td>00:50:16</td>\n",
              "      <td>Desaparecido para Sempre: Minissérie: Nora (Ep...</td>\n",
              "    </tr>\n",
              "    <tr>\n",
              "      <th>2</th>\n",
              "      <td>2021-10-09 18:45:51-03:00</td>\n",
              "      <td>00:44:06</td>\n",
              "      <td>Desaparecido para Sempre: Minissérie: Daco (Ep...</td>\n",
              "    </tr>\n",
              "    <tr>\n",
              "      <th>3</th>\n",
              "      <td>2021-10-09 17:33:18-03:00</td>\n",
              "      <td>00:46:55</td>\n",
              "      <td>Desaparecido para Sempre: Minissérie: Inès (Ep...</td>\n",
              "    </tr>\n",
              "    <tr>\n",
              "      <th>4</th>\n",
              "      <td>2021-10-09 16:45:12-03:00</td>\n",
              "      <td>00:41:20</td>\n",
              "      <td>Desaparecido para Sempre: Minissérie: Guillaum...</td>\n",
              "    </tr>\n",
              "  </tbody>\n",
              "</table>\n",
              "</div>"
            ],
            "text/plain": [
              "                 Start Time  ...                                              Title\n",
              "0 2021-10-09 20:20:18-03:00  ...  Desaparecido para Sempre: Minissérie: Fred (Ep...\n",
              "1 2021-10-09 19:29:59-03:00  ...  Desaparecido para Sempre: Minissérie: Nora (Ep...\n",
              "2 2021-10-09 18:45:51-03:00  ...  Desaparecido para Sempre: Minissérie: Daco (Ep...\n",
              "3 2021-10-09 17:33:18-03:00  ...  Desaparecido para Sempre: Minissérie: Inès (Ep...\n",
              "4 2021-10-09 16:45:12-03:00  ...  Desaparecido para Sempre: Minissérie: Guillaum...\n",
              "\n",
              "[5 rows x 3 columns]"
            ]
          },
          "metadata": {},
          "execution_count": 12
        }
      ]
    },
    {
      "cell_type": "code",
      "metadata": {
        "id": "8OjrVQvRrP4R"
      },
      "source": [
        "df['Duration'] = pd.to_timedelta(df['Duration'])"
      ],
      "execution_count": 13,
      "outputs": []
    },
    {
      "cell_type": "code",
      "metadata": {
        "colab": {
          "base_uri": "https://localhost:8080/",
          "height": 206
        },
        "id": "Sm3Sb_qD019T",
        "outputId": "7b67166e-d20d-41c3-ae15-a0283f1f2b94"
      },
      "source": [
        "#criando colunas especificas para episodio e temporada a partir da coluna 'Title'\n",
        "df[['Title_Name', 'Season', 'Episode']] = df['Title'].str.split(':', n=2,expand=True)\n",
        "df.drop('Title', axis=1, inplace=True)\n",
        "df.head()"
      ],
      "execution_count": 15,
      "outputs": [
        {
          "output_type": "execute_result",
          "data": {
            "text/html": [
              "<div>\n",
              "<style scoped>\n",
              "    .dataframe tbody tr th:only-of-type {\n",
              "        vertical-align: middle;\n",
              "    }\n",
              "\n",
              "    .dataframe tbody tr th {\n",
              "        vertical-align: top;\n",
              "    }\n",
              "\n",
              "    .dataframe thead th {\n",
              "        text-align: right;\n",
              "    }\n",
              "</style>\n",
              "<table border=\"1\" class=\"dataframe\">\n",
              "  <thead>\n",
              "    <tr style=\"text-align: right;\">\n",
              "      <th></th>\n",
              "      <th>Start Time</th>\n",
              "      <th>Duration</th>\n",
              "      <th>Title_Name</th>\n",
              "      <th>Season</th>\n",
              "      <th>Episode</th>\n",
              "    </tr>\n",
              "  </thead>\n",
              "  <tbody>\n",
              "    <tr>\n",
              "      <th>0</th>\n",
              "      <td>2021-10-09 20:20:18-03:00</td>\n",
              "      <td>0 days 00:52:33</td>\n",
              "      <td>Desaparecido para Sempre</td>\n",
              "      <td>Minissérie</td>\n",
              "      <td>Fred (Episódio 5)</td>\n",
              "    </tr>\n",
              "    <tr>\n",
              "      <th>1</th>\n",
              "      <td>2021-10-09 19:29:59-03:00</td>\n",
              "      <td>0 days 00:50:16</td>\n",
              "      <td>Desaparecido para Sempre</td>\n",
              "      <td>Minissérie</td>\n",
              "      <td>Nora (Episódio 4)</td>\n",
              "    </tr>\n",
              "    <tr>\n",
              "      <th>2</th>\n",
              "      <td>2021-10-09 18:45:51-03:00</td>\n",
              "      <td>0 days 00:44:06</td>\n",
              "      <td>Desaparecido para Sempre</td>\n",
              "      <td>Minissérie</td>\n",
              "      <td>Daco (Episódio 3)</td>\n",
              "    </tr>\n",
              "    <tr>\n",
              "      <th>3</th>\n",
              "      <td>2021-10-09 17:33:18-03:00</td>\n",
              "      <td>0 days 00:46:55</td>\n",
              "      <td>Desaparecido para Sempre</td>\n",
              "      <td>Minissérie</td>\n",
              "      <td>Inès (Episódio 2)</td>\n",
              "    </tr>\n",
              "    <tr>\n",
              "      <th>4</th>\n",
              "      <td>2021-10-09 16:45:12-03:00</td>\n",
              "      <td>0 days 00:41:20</td>\n",
              "      <td>Desaparecido para Sempre</td>\n",
              "      <td>Minissérie</td>\n",
              "      <td>Guillaume (Episódio 1)</td>\n",
              "    </tr>\n",
              "  </tbody>\n",
              "</table>\n",
              "</div>"
            ],
            "text/plain": [
              "                 Start Time  ...                  Episode\n",
              "0 2021-10-09 20:20:18-03:00  ...        Fred (Episódio 5)\n",
              "1 2021-10-09 19:29:59-03:00  ...        Nora (Episódio 4)\n",
              "2 2021-10-09 18:45:51-03:00  ...        Daco (Episódio 3)\n",
              "3 2021-10-09 17:33:18-03:00  ...        Inès (Episódio 2)\n",
              "4 2021-10-09 16:45:12-03:00  ...   Guillaume (Episódio 1)\n",
              "\n",
              "[5 rows x 5 columns]"
            ]
          },
          "metadata": {},
          "execution_count": 15
        }
      ]
    },
    {
      "cell_type": "code",
      "metadata": {
        "colab": {
          "base_uri": "https://localhost:8080/",
          "height": 206
        },
        "id": "M93HTevLtnC7",
        "outputId": "4408570c-5c1f-48ec-c467-24455254a78b"
      },
      "source": [
        "df['weekday'] = df['Start Time'].dt.weekday\n",
        "df['hour'] = df['Start Time'].dt.hour\n",
        "\n",
        "df.head()"
      ],
      "execution_count": 16,
      "outputs": [
        {
          "output_type": "execute_result",
          "data": {
            "text/html": [
              "<div>\n",
              "<style scoped>\n",
              "    .dataframe tbody tr th:only-of-type {\n",
              "        vertical-align: middle;\n",
              "    }\n",
              "\n",
              "    .dataframe tbody tr th {\n",
              "        vertical-align: top;\n",
              "    }\n",
              "\n",
              "    .dataframe thead th {\n",
              "        text-align: right;\n",
              "    }\n",
              "</style>\n",
              "<table border=\"1\" class=\"dataframe\">\n",
              "  <thead>\n",
              "    <tr style=\"text-align: right;\">\n",
              "      <th></th>\n",
              "      <th>Start Time</th>\n",
              "      <th>Duration</th>\n",
              "      <th>Title_Name</th>\n",
              "      <th>Season</th>\n",
              "      <th>Episode</th>\n",
              "      <th>weekday</th>\n",
              "      <th>hour</th>\n",
              "    </tr>\n",
              "  </thead>\n",
              "  <tbody>\n",
              "    <tr>\n",
              "      <th>0</th>\n",
              "      <td>2021-10-09 20:20:18-03:00</td>\n",
              "      <td>0 days 00:52:33</td>\n",
              "      <td>Desaparecido para Sempre</td>\n",
              "      <td>Minissérie</td>\n",
              "      <td>Fred (Episódio 5)</td>\n",
              "      <td>5</td>\n",
              "      <td>20</td>\n",
              "    </tr>\n",
              "    <tr>\n",
              "      <th>1</th>\n",
              "      <td>2021-10-09 19:29:59-03:00</td>\n",
              "      <td>0 days 00:50:16</td>\n",
              "      <td>Desaparecido para Sempre</td>\n",
              "      <td>Minissérie</td>\n",
              "      <td>Nora (Episódio 4)</td>\n",
              "      <td>5</td>\n",
              "      <td>19</td>\n",
              "    </tr>\n",
              "    <tr>\n",
              "      <th>2</th>\n",
              "      <td>2021-10-09 18:45:51-03:00</td>\n",
              "      <td>0 days 00:44:06</td>\n",
              "      <td>Desaparecido para Sempre</td>\n",
              "      <td>Minissérie</td>\n",
              "      <td>Daco (Episódio 3)</td>\n",
              "      <td>5</td>\n",
              "      <td>18</td>\n",
              "    </tr>\n",
              "    <tr>\n",
              "      <th>3</th>\n",
              "      <td>2021-10-09 17:33:18-03:00</td>\n",
              "      <td>0 days 00:46:55</td>\n",
              "      <td>Desaparecido para Sempre</td>\n",
              "      <td>Minissérie</td>\n",
              "      <td>Inès (Episódio 2)</td>\n",
              "      <td>5</td>\n",
              "      <td>17</td>\n",
              "    </tr>\n",
              "    <tr>\n",
              "      <th>4</th>\n",
              "      <td>2021-10-09 16:45:12-03:00</td>\n",
              "      <td>0 days 00:41:20</td>\n",
              "      <td>Desaparecido para Sempre</td>\n",
              "      <td>Minissérie</td>\n",
              "      <td>Guillaume (Episódio 1)</td>\n",
              "      <td>5</td>\n",
              "      <td>16</td>\n",
              "    </tr>\n",
              "  </tbody>\n",
              "</table>\n",
              "</div>"
            ],
            "text/plain": [
              "                 Start Time        Duration  ... weekday hour\n",
              "0 2021-10-09 20:20:18-03:00 0 days 00:52:33  ...       5   20\n",
              "1 2021-10-09 19:29:59-03:00 0 days 00:50:16  ...       5   19\n",
              "2 2021-10-09 18:45:51-03:00 0 days 00:44:06  ...       5   18\n",
              "3 2021-10-09 17:33:18-03:00 0 days 00:46:55  ...       5   17\n",
              "4 2021-10-09 16:45:12-03:00 0 days 00:41:20  ...       5   16\n",
              "\n",
              "[5 rows x 7 columns]"
            ]
          },
          "metadata": {},
          "execution_count": 16
        }
      ]
    },
    {
      "cell_type": "markdown",
      "metadata": {
        "id": "BD3h8m0gtsg8"
      },
      "source": [
        "## Quantas vezes eu assisti cada série?"
      ]
    },
    {
      "cell_type": "code",
      "metadata": {
        "colab": {
          "base_uri": "https://localhost:8080/"
        },
        "id": "i9EYld2X1v8j",
        "outputId": "625d3d80-94c9-427c-cffd-d4e004932c84"
      },
      "source": [
        "df['Title_Name'].value_counts()"
      ],
      "execution_count": 17,
      "outputs": [
        {
          "output_type": "execute_result",
          "data": {
            "text/plain": [
              "Brooklyn Nine-Nine                239\n",
              "Elementary                        162\n",
              "Lucifer                           132\n",
              "BoJack Horseman                    97\n",
              "Greenleaf                          85\n",
              "                                 ... \n",
              "Re                                  1\n",
              "Diário de Horrores                  1\n",
              "Cenas de um Homicídio               1\n",
              "Rookie Historian Goo Hae-Ryung      1\n",
              "Doze Jurados                        1\n",
              "Name: Title_Name, Length: 380, dtype: int64"
            ]
          },
          "metadata": {},
          "execution_count": 17
        }
      ]
    },
    {
      "cell_type": "markdown",
      "metadata": {
        "id": "LxhehJUAt3yE"
      },
      "source": [
        "## Top 10 séries mais assistidas"
      ]
    },
    {
      "cell_type": "code",
      "metadata": {
        "colab": {
          "base_uri": "https://localhost:8080/",
          "height": 394
        },
        "id": "fWjxn5dN2514",
        "outputId": "f498777f-b4c3-4d96-935f-e1570de73c91"
      },
      "source": [
        "df.groupby(['Title_Name']).agg({'Duration':'sum'}).sort_values(\n",
        "    by='Duration',ascending=False).head(10)"
      ],
      "execution_count": 18,
      "outputs": [
        {
          "output_type": "execute_result",
          "data": {
            "text/html": [
              "<div>\n",
              "<style scoped>\n",
              "    .dataframe tbody tr th:only-of-type {\n",
              "        vertical-align: middle;\n",
              "    }\n",
              "\n",
              "    .dataframe tbody tr th {\n",
              "        vertical-align: top;\n",
              "    }\n",
              "\n",
              "    .dataframe thead th {\n",
              "        text-align: right;\n",
              "    }\n",
              "</style>\n",
              "<table border=\"1\" class=\"dataframe\">\n",
              "  <thead>\n",
              "    <tr style=\"text-align: right;\">\n",
              "      <th></th>\n",
              "      <th>Duration</th>\n",
              "    </tr>\n",
              "    <tr>\n",
              "      <th>Title_Name</th>\n",
              "      <th></th>\n",
              "    </tr>\n",
              "  </thead>\n",
              "  <tbody>\n",
              "    <tr>\n",
              "      <th>Elementary</th>\n",
              "      <td>3 days 13:25:00</td>\n",
              "    </tr>\n",
              "    <tr>\n",
              "      <th>Brooklyn Nine-Nine</th>\n",
              "      <td>3 days 02:45:28</td>\n",
              "    </tr>\n",
              "    <tr>\n",
              "      <th>Lucifer</th>\n",
              "      <td>2 days 20:28:00</td>\n",
              "    </tr>\n",
              "    <tr>\n",
              "      <th>Breaking Bad</th>\n",
              "      <td>1 days 23:49:15</td>\n",
              "    </tr>\n",
              "    <tr>\n",
              "      <th>Mentes Criminosas</th>\n",
              "      <td>1 days 17:43:06</td>\n",
              "    </tr>\n",
              "    <tr>\n",
              "      <th>Greenleaf</th>\n",
              "      <td>1 days 16:39:14</td>\n",
              "    </tr>\n",
              "    <tr>\n",
              "      <th>Billions</th>\n",
              "      <td>1 days 15:52:40</td>\n",
              "    </tr>\n",
              "    <tr>\n",
              "      <th>13 Reasons Why</th>\n",
              "      <td>1 days 13:00:20</td>\n",
              "    </tr>\n",
              "    <tr>\n",
              "      <th>Stranger</th>\n",
              "      <td>1 days 10:46:46</td>\n",
              "    </tr>\n",
              "    <tr>\n",
              "      <th>The Bold Type</th>\n",
              "      <td>1 days 07:18:35</td>\n",
              "    </tr>\n",
              "  </tbody>\n",
              "</table>\n",
              "</div>"
            ],
            "text/plain": [
              "                          Duration\n",
              "Title_Name                        \n",
              "Elementary         3 days 13:25:00\n",
              "Brooklyn Nine-Nine 3 days 02:45:28\n",
              "Lucifer            2 days 20:28:00\n",
              "Breaking Bad       1 days 23:49:15\n",
              "Mentes Criminosas  1 days 17:43:06\n",
              "Greenleaf          1 days 16:39:14\n",
              "Billions           1 days 15:52:40\n",
              "13 Reasons Why     1 days 13:00:20\n",
              "Stranger           1 days 10:46:46\n",
              "The Bold Type      1 days 07:18:35"
            ]
          },
          "metadata": {},
          "execution_count": 18
        }
      ]
    },
    {
      "cell_type": "markdown",
      "metadata": {
        "id": "B3_K4U6buNjM"
      },
      "source": [
        "## Análise mais detalhada do quanto eu assisti Brooklyn Nine-nine"
      ]
    },
    {
      "cell_type": "code",
      "metadata": {
        "id": "hTNdzPWIrf6C"
      },
      "source": [
        "#criação de um novo df chamado 'brooklyn' a partir do df original\n",
        "#apenas as linhas em que o título contém 'Brooklyn Nine-Nine'\n",
        "brooklyn = df[df['Title_Name'] == 'Brooklyn Nine-Nine']"
      ],
      "execution_count": 21,
      "outputs": []
    },
    {
      "cell_type": "markdown",
      "metadata": {
        "id": "AIcAe0XuucpA"
      },
      "source": [
        "### Quanto tempo eu gastei assistindo 'Brooklyn Nine-Nine'?"
      ]
    },
    {
      "cell_type": "code",
      "metadata": {
        "colab": {
          "base_uri": "https://localhost:8080/"
        },
        "id": "ohW-05-wtYuD",
        "outputId": "d8edf826-9858-4ea4-aa70-4ed7e232ec16"
      },
      "source": [
        "brooklyn['Duration'].sum()"
      ],
      "execution_count": 22,
      "outputs": [
        {
          "output_type": "execute_result",
          "data": {
            "text/plain": [
              "Timedelta('3 days 02:45:28')"
            ]
          },
          "metadata": {},
          "execution_count": 22
        }
      ]
    },
    {
      "cell_type": "markdown",
      "metadata": {
        "id": "WoVvD0H7unR9"
      },
      "source": [
        "### Quantas vezes eu assisti episódios de cada temporada de 99?"
      ]
    },
    {
      "cell_type": "code",
      "metadata": {
        "colab": {
          "base_uri": "https://localhost:8080/"
        },
        "id": "aJzHWUlkmmYu",
        "outputId": "f2cc2d59-1cac-42a6-9cc3-b858cb8a8cb3"
      },
      "source": [
        "brooklyn['Season'].value_counts()"
      ],
      "execution_count": 23,
      "outputs": [
        {
          "output_type": "execute_result",
          "data": {
            "text/plain": [
              " Temporada 1                   59\n",
              " Temporada 4                   51\n",
              " Temporada 2                   51\n",
              " Temporada 3                   49\n",
              " Temporada 6                   19\n",
              " Temporada 5                    6\n",
              " Season 1_hook_primary_16x9     2\n",
              " Temporada 7                    2\n",
              "Name: Season, dtype: int64"
            ]
          },
          "metadata": {},
          "execution_count": 23
        }
      ]
    },
    {
      "cell_type": "markdown",
      "metadata": {
        "id": "JJp59c4fuv-P"
      },
      "source": [
        "### Qual dia da semana eu mais assisti 99?"
      ]
    },
    {
      "cell_type": "code",
      "metadata": {
        "colab": {
          "base_uri": "https://localhost:8080/"
        },
        "id": "E2Toe6QnuYZL",
        "outputId": "d2180115-5c81-4eee-bc6e-38f0afcc3a22"
      },
      "source": [
        "brooklyn['weekday'] = pd.Categorical(brooklyn['weekday'], categories=[0,1,2,3,4,5,6], ordered=True)\n",
        "brooklyn_by_day = brooklyn['weekday'].value_counts()\n",
        "#ordenar pelo dia da semana sendo segunda(0), terça(1)...\n",
        "brooklyn_by_day = brooklyn_by_day.sort_index() "
      ],
      "execution_count": 29,
      "outputs": [
        {
          "output_type": "stream",
          "name": "stderr",
          "text": [
            "/usr/local/lib/python3.7/dist-packages/ipykernel_launcher.py:2: SettingWithCopyWarning: \n",
            "A value is trying to be set on a copy of a slice from a DataFrame.\n",
            "Try using .loc[row_indexer,col_indexer] = value instead\n",
            "\n",
            "See the caveats in the documentation: https://pandas.pydata.org/pandas-docs/stable/user_guide/indexing.html#returning-a-view-versus-a-copy\n",
            "  \n"
          ]
        }
      ]
    },
    {
      "cell_type": "code",
      "metadata": {
        "colab": {
          "base_uri": "https://localhost:8080/",
          "height": 604
        },
        "id": "fHZsP6PGv6Kb",
        "outputId": "e173a6ad-05e7-48cd-d8b8-f83bc17d5310"
      },
      "source": [
        "#plotar o 'brooklyn_by_day' como um gráfico de barras\n",
        "brooklyn_by_day.plot(kind='bar', figsize=(20,10), title='Episodios assistidos do Brooklyn Nine-Nine: por dia');"
      ],
      "execution_count": 30,
      "outputs": [
        {
          "output_type": "display_data",
          "data": {
            "image/png": "[encoded data removed]",
            "text/plain": [
              "<Figure size 1440x720 with 1 Axes>"
            ]
          },
          "metadata": {
            "needs_background": "light"
          }
        }
      ]
    },
    {
      "cell_type": "markdown",
      "metadata": {
        "id": "MN9wD8agu4dY"
      },
      "source": [
        "### Qual horario do dia eu mais assisti 99?"
      ]
    },
    {
      "cell_type": "code",
      "metadata": {
        "colab": {
          "base_uri": "https://localhost:8080/"
        },
        "id": "19nJvwMUxH9y",
        "outputId": "49d30d48-6e8e-45cd-bc5a-49e5ba15906c"
      },
      "source": [
        "brooklyn['hour'] = pd.Categorical(brooklyn['hour'], categories=[0,1,2,3,4,5,6,7,8,9,10,11,12,13,14,15,16,17,18,19,20,21,22,23],\n",
        "                                  ordered=True)\n",
        "brooklyn_by_hour = brooklyn['hour'].value_counts()\n",
        "#ordenar por hora sendo 1, 2...\n",
        "brooklyn_by_hour = brooklyn_by_hour.sort_index() "
      ],
      "execution_count": 31,
      "outputs": [
        {
          "output_type": "stream",
          "name": "stderr",
          "text": [
            "/usr/local/lib/python3.7/dist-packages/ipykernel_launcher.py:3: SettingWithCopyWarning: \n",
            "A value is trying to be set on a copy of a slice from a DataFrame.\n",
            "Try using .loc[row_indexer,col_indexer] = value instead\n",
            "\n",
            "See the caveats in the documentation: https://pandas.pydata.org/pandas-docs/stable/user_guide/indexing.html#returning-a-view-versus-a-copy\n",
            "  This is separate from the ipykernel package so we can avoid doing imports until\n"
          ]
        }
      ]
    },
    {
      "cell_type": "code",
      "metadata": {
        "colab": {
          "base_uri": "https://localhost:8080/",
          "height": 610
        },
        "id": "Hf6-fKEkyQyb",
        "outputId": "466634d1-2e52-4227-ad82-5e4924a12a42"
      },
      "source": [
        "#plotar o 'brooklyn_by_hour' como um gráfico de barras\n",
        "brooklyn_by_hour.plot(kind='bar', figsize=(20,10), title='Episodios assistidos do Brooklyn Nine-Nine: por hora');"
      ],
      "execution_count": 32,
      "outputs": [
        {
          "output_type": "display_data",
          "data": {
            "image/png": "[encoded data removed]",
            "text/plain": [
              "<Figure size 1440x720 with 1 Axes>"
            ]
          },
          "metadata": {
            "needs_background": "light"
          }
        }
      ]
    }
  ]
}